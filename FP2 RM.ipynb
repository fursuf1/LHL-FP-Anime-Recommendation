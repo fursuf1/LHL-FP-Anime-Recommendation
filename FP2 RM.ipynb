{
 "cells": [
  {
   "cell_type": "markdown",
   "id": "a96e1d7b",
   "metadata": {
    "execution": {
     "iopub.execute_input": "2023-06-12T12:09:47.331329Z",
     "iopub.status.busy": "2023-06-12T12:09:47.330924Z",
     "iopub.status.idle": "2023-06-12T12:09:47.378742Z",
     "shell.execute_reply": "2023-06-12T12:09:47.376876Z",
     "shell.execute_reply.started": "2023-06-12T12:09:47.331297Z"
    },
    "papermill": {
     "duration": 0.016147,
     "end_time": "2023-07-28T06:08:56.728053",
     "exception": false,
     "start_time": "2023-07-28T06:08:56.711906",
     "status": "completed"
    },
    "tags": []
   },
   "source": [
    "##### Notebook 2: Model Training\n",
    "\n",
    "Welcome to Notebook 2 of this recommendation system project!\n",
    "\n",
    "In Notebook 1, we performed exploratory data analysis (EDA), and visualized various aspects of the data to gain insights into our anime recommendation problem.\n",
    "\n",
    "In this notebook, we will focus on training the recommendation model. By separating the model training into a separate notebook, we ensure better memory management and organization of the project.\n",
    "\n",
    "Let's dive in!\n",
    "\n",
    "Note: If you haven't gone through Notebook 1 yet, I highly recommend you do so to understand the data and insights gained before moving on to the model training phase.\n",
    "\n",
    "[Click here to access Notebook 1: Exploratory Data Analysis and Dataset Preparation](https://www.kaggle.com/code/dbdmobile/anime-recommendation-1)"
   ]
  },
  {
   "cell_type": "code",
   "execution_count": 1,
   "id": "aa28d022",
   "metadata": {
    "execution": {
     "iopub.execute_input": "2023-07-28T06:08:56.758012Z",
     "iopub.status.busy": "2023-07-28T06:08:56.757649Z",
     "iopub.status.idle": "2023-07-28T06:09:02.632158Z",
     "shell.execute_reply": "2023-07-28T06:09:02.631033Z"
    },
    "papermill": {
     "duration": 5.892295,
     "end_time": "2023-07-28T06:09:02.634794",
     "exception": false,
     "start_time": "2023-07-28T06:08:56.742499",
     "status": "completed"
    },
    "tags": []
   },
   "outputs": [],
   "source": [
    "#!pip install wordcloud -q"
   ]
  },
  {
   "cell_type": "code",
   "execution_count": 2,
   "id": "944350fa",
   "metadata": {
    "_cell_guid": "b1076dfc-b9ad-4769-8c92-a6c4dae69d19",
    "_uuid": "8f2839f25d086af736a60e9eeb907d3b93b6e0e5",
    "execution": {
     "iopub.execute_input": "2023-07-28T06:09:02.663723Z",
     "iopub.status.busy": "2023-07-28T06:09:02.663428Z",
     "iopub.status.idle": "2023-07-28T06:09:46.599778Z",
     "shell.execute_reply": "2023-07-28T06:09:46.598777Z"
    },
    "papermill": {
     "duration": 43.953781,
     "end_time": "2023-07-28T06:09:46.602406",
     "exception": false,
     "start_time": "2023-07-28T06:09:02.648625",
     "status": "completed"
    },
    "tags": []
   },
   "outputs": [],
   "source": [
    "### Essential libraries for data manipulation and visualization\n",
    "import numpy as np\n",
    "import pandas as pd\n",
    "import pickle\n",
    "import warnings\n",
    "import matplotlib.pyplot as plt\n",
    "%matplotlib inline\n",
    "\n",
    "# Data Preprocessing\n",
    "from sklearn.preprocessing import MinMaxScaler  # For feature scaling\n",
    "from sklearn.preprocessing import LabelEncoder  # For label encoding categorical variables\n",
    "\n",
    "# Model Training\n",
    "from sklearn.utils import shuffle  # For shuffling data\n",
    "from sklearn.model_selection import train_test_split  # For splitting data into training and testing sets\n",
    "import tensorflow as tf  # TensorFlow library for building and training models\n",
    "\n",
    "## Importing modules for collaborative filtering\n",
    "from tensorflow.keras.layers import Input, Embedding, Dot, Flatten, Dense  # Layers for collaborative filtering\n",
    "from tensorflow.keras.models import Model  # Model building\n",
    "from tensorflow.keras.optimizers import Adam  # Optimizer for model training\n",
    "from wordcloud import WordCloud  # Visualization tool for word clouds\n",
    "from collections import defaultdict, Counter  # Data structures for collaborative filtering\n",
    "\n",
    "## Importing modules for content-based filtering\n",
    "from sklearn.feature_extraction.text import TfidfVectorizer  # For text vectorization\n",
    "from sklearn.metrics.pairwise import linear_kernel  # For cosine similarity computation"
   ]
  },
  {
   "cell_type": "code",
   "execution_count": 3,
   "id": "b1fb0487",
   "metadata": {
    "execution": {
     "iopub.execute_input": "2023-07-28T06:09:46.631500Z",
     "iopub.status.busy": "2023-07-28T06:09:46.630983Z",
     "iopub.status.idle": "2023-07-28T06:10:11.241129Z",
     "shell.execute_reply": "2023-07-28T06:10:11.240264Z"
    },
    "papermill": {
     "duration": 24.627243,
     "end_time": "2023-07-28T06:10:11.243271",
     "exception": false,
     "start_time": "2023-07-28T06:09:46.616028",
     "status": "completed"
    },
    "tags": []
   },
   "outputs": [
    {
     "name": "stdout",
     "output_type": "stream",
     "text": [
      "Shape of the Dataset: (24325191, 3)\n"
     ]
    },
    {
     "data": {
      "text/html": [
       "<div>\n",
       "<style scoped>\n",
       "    .dataframe tbody tr th:only-of-type {\n",
       "        vertical-align: middle;\n",
       "    }\n",
       "\n",
       "    .dataframe tbody tr th {\n",
       "        vertical-align: top;\n",
       "    }\n",
       "\n",
       "    .dataframe thead th {\n",
       "        text-align: right;\n",
       "    }\n",
       "</style>\n",
       "<table border=\"1\" class=\"dataframe\">\n",
       "  <thead>\n",
       "    <tr style=\"text-align: right;\">\n",
       "      <th></th>\n",
       "      <th>user_id</th>\n",
       "      <th>anime_id</th>\n",
       "      <th>rating</th>\n",
       "    </tr>\n",
       "  </thead>\n",
       "  <tbody>\n",
       "    <tr>\n",
       "      <th>0</th>\n",
       "      <td>1</td>\n",
       "      <td>21</td>\n",
       "      <td>9</td>\n",
       "    </tr>\n",
       "    <tr>\n",
       "      <th>1</th>\n",
       "      <td>1</td>\n",
       "      <td>48</td>\n",
       "      <td>7</td>\n",
       "    </tr>\n",
       "    <tr>\n",
       "      <th>2</th>\n",
       "      <td>1</td>\n",
       "      <td>320</td>\n",
       "      <td>5</td>\n",
       "    </tr>\n",
       "    <tr>\n",
       "      <th>3</th>\n",
       "      <td>1</td>\n",
       "      <td>49</td>\n",
       "      <td>8</td>\n",
       "    </tr>\n",
       "    <tr>\n",
       "      <th>4</th>\n",
       "      <td>1</td>\n",
       "      <td>304</td>\n",
       "      <td>8</td>\n",
       "    </tr>\n",
       "  </tbody>\n",
       "</table>\n",
       "</div>"
      ],
      "text/plain": [
       "   user_id  anime_id  rating\n",
       "0        1        21       9\n",
       "1        1        48       7\n",
       "2        1       320       5\n",
       "3        1        49       8\n",
       "4        1       304       8"
      ]
     },
     "execution_count": 3,
     "metadata": {},
     "output_type": "execute_result"
    }
   ],
   "source": [
    "# Load the dataset from the specified path\n",
    "df = pd.read_csv('C:/Downloads/Chrome/DS/fp/dataset_2023/users-score-2023.csv', usecols=[\"user_id\", \"anime_id\", \"rating\"])\n",
    "\n",
    "# Display the shape of the loaded dataset\n",
    "print(\"Shape of the Dataset:\", df.shape)\n",
    "\n",
    "# Display the first few rows of the dataset for a quick overview\n",
    "df.head()"
   ]
  },
  {
   "cell_type": "code",
   "execution_count": 4,
   "id": "59783ca5",
   "metadata": {},
   "outputs": [
    {
     "data": {
      "image/png": "[encoded data removed]",
      "text/plain": [
       "<Figure size 800x600 with 1 Axes>"
      ]
     },
     "metadata": {},
     "output_type": "display_data"
    }
   ],
   "source": [
    "import matplotlib.pyplot as plt\n",
    "from mpl_toolkits.mplot3d import Axes3D\n",
    "import numpy as np\n",
    "\n",
    "# Assuming rating_df contains columns: \"user_id\", \"anime_id\", and \"rating\"\n",
    "\n",
    "fig = plt.figure(figsize=(8, 6))\n",
    "ax = fig.add_subplot(111, projection='3d')\n",
    "\n",
    "ratings_colors = {\n",
    "    1: 'red',\n",
    "    2: 'orange',\n",
    "    3: 'yellow',\n",
    "    4: 'green',\n",
    "    5: 'blue',\n",
    "    6: 'purple',\n",
    "    7: 'cyan',\n",
    "    8: 'magenta',\n",
    "    9: 'lime',\n",
    "    10: 'brown'\n",
    "}\n",
    "\n",
    "# Scatter plot for user_id, anime_id, and rating with different colors for ratings\n",
    "for rating, color in ratings_colors.items():\n",
    "    subset = df[np.isclose(df['rating'], rating)]\n",
    "    ax.scatter(subset['user_id'], subset['anime_id'], subset['rating'], c=color, s=20, label=f'Rating {rating}')\n",
    "\n",
    "# Plot a simplified legend\n",
    "# If desired, you can adjust the legend to display fewer entries or combine certain ratings\n",
    "plt.legend(title='Ratings', loc='upper left')\n",
    "\n",
    "ax.set_xlabel('User ID')\n",
    "ax.set_ylabel('Anime ID')\n",
    "ax.set_zlabel('Rating')\n",
    "\n",
    "plt.title('3D Visualization of Ratings')\n",
    "plt.show()"
   ]
  },
  {
   "cell_type": "code",
   "execution_count": 5,
   "id": "b2296282",
   "metadata": {
    "execution": {
     "iopub.execute_input": "2023-07-28T06:10:11.274497Z",
     "iopub.status.busy": "2023-07-28T06:10:11.274207Z",
     "iopub.status.idle": "2023-07-28T06:10:15.851242Z",
     "shell.execute_reply": "2023-07-28T06:10:15.850368Z"
    },
    "papermill": {
     "duration": 4.594875,
     "end_time": "2023-07-28T06:10:15.853531",
     "exception": false,
     "start_time": "2023-07-28T06:10:11.258656",
     "status": "completed"
    },
    "tags": []
   },
   "outputs": [
    {
     "name": "stdout",
     "output_type": "stream",
     "text": [
      "Duplicated Rows:\n",
      "Empty DataFrame\n",
      "Columns: [user_id, anime_id, rating]\n",
      "Index: []\n"
     ]
    }
   ],
   "source": [
    "# Checking for duplicate rows in the dataset\n",
    "duplicated_rows = df[df.duplicated()]\n",
    "\n",
    "# Displaying any duplicated rows found in the dataset\n",
    "print(\"Duplicated Rows:\")\n",
    "print(duplicated_rows)"
   ]
  },
  {
   "cell_type": "code",
   "execution_count": 6,
   "id": "4d80a721",
   "metadata": {
    "execution": {
     "iopub.execute_input": "2023-07-28T06:10:15.883213Z",
     "iopub.status.busy": "2023-07-28T06:10:15.882863Z",
     "iopub.status.idle": "2023-07-28T06:10:15.912963Z",
     "shell.execute_reply": "2023-07-28T06:10:15.912105Z"
    },
    "papermill": {
     "duration": 0.047536,
     "end_time": "2023-07-28T06:10:15.915084",
     "exception": false,
     "start_time": "2023-07-28T06:10:15.867548",
     "status": "completed"
    },
    "tags": []
   },
   "outputs": [
    {
     "name": "stdout",
     "output_type": "stream",
     "text": [
      "Average Score: 7.622930072779285\n"
     ]
    }
   ],
   "source": [
    "# Calculating the average score from the 'rating' column in the dataset\n",
    "avg_score = np.mean(df['rating'])\n",
    "\n",
    "# Displaying the calculated average score\n",
    "print('Average Score:', avg_score)"
   ]
  },
  {
   "cell_type": "markdown",
   "id": "1ef072bd",
   "metadata": {
    "papermill": {
     "duration": 0.013813,
     "end_time": "2023-07-28T06:10:15.943426",
     "exception": false,
     "start_time": "2023-07-28T06:10:15.929613",
     "status": "completed"
    },
    "tags": []
   },
   "source": [
    "# Data Preprocessing"
   ]
  },
  {
   "cell_type": "code",
   "execution_count": 7,
   "id": "049d4783",
   "metadata": {
    "execution": {
     "iopub.execute_input": "2023-07-28T06:10:15.973155Z",
     "iopub.status.busy": "2023-07-28T06:10:15.972851Z",
     "iopub.status.idle": "2023-07-28T06:10:16.325781Z",
     "shell.execute_reply": "2023-07-28T06:10:16.324815Z"
    },
    "papermill": {
     "duration": 0.371296,
     "end_time": "2023-07-28T06:10:16.328520",
     "exception": false,
     "start_time": "2023-07-28T06:10:15.957224",
     "status": "completed"
    },
    "tags": []
   },
   "outputs": [],
   "source": [
    "# Scaling the 'rating' column using MinMaxScaler\n",
    "# Create a MinMaxScaler object\n",
    "scaler = MinMaxScaler(feature_range=(0, 1))\n",
    "\n",
    "# Scale the 'rating' column between 0 and 1 and store it in a new column 'scaled_score'\n",
    "df['scaled_score'] = scaler.fit_transform(df[['rating']])"
   ]
  },
  {
   "cell_type": "code",
   "execution_count": 8,
   "id": "46187591",
   "metadata": {
    "execution": {
     "iopub.execute_input": "2023-07-28T06:10:16.359183Z",
     "iopub.status.busy": "2023-07-28T06:10:16.358830Z",
     "iopub.status.idle": "2023-07-28T06:10:28.696479Z",
     "shell.execute_reply": "2023-07-28T06:10:28.695403Z"
    },
    "papermill": {
     "duration": 12.355881,
     "end_time": "2023-07-28T06:10:28.698964",
     "exception": false,
     "start_time": "2023-07-28T06:10:16.343083",
     "status": "completed"
    },
    "tags": []
   },
   "outputs": [
    {
     "name": "stdout",
     "output_type": "stream",
     "text": [
      "Number of unique users: 270033, Number of unique anime: 16500\n",
      "Minimum rating: 1, Maximum rating: 10\n"
     ]
    }
   ],
   "source": [
    "# Encoding categorical data: User IDs and Anime IDs\n",
    "\n",
    "## Encoding user IDs using LabelEncoder\n",
    "user_encoder = LabelEncoder()\n",
    "df[\"user_encoded\"] = user_encoder.fit_transform(df[\"user_id\"])\n",
    "num_users = len(user_encoder.classes_)  # Count of unique users after encoding\n",
    "\n",
    "## Encoding anime IDs using LabelEncoder\n",
    "anime_encoder = LabelEncoder()\n",
    "df[\"anime_encoded\"] = anime_encoder.fit_transform(df[\"anime_id\"])\n",
    "num_animes = len(anime_encoder.classes_)  # Count of unique anime after encoding\n",
    "\n",
    "# Printing dataset information after encoding\n",
    "print(\"Number of unique users: {}, Number of unique anime: {}\".format(num_users, num_animes))\n",
    "print(\"Minimum rating: {}, Maximum rating: {}\".format(min(df['rating']), max(df['rating'])))"
   ]
  },
  {
   "cell_type": "markdown",
   "id": "1bb17f4e",
   "metadata": {
    "papermill": {
     "duration": 0.016828,
     "end_time": "2023-07-28T06:10:28.732128",
     "exception": false,
     "start_time": "2023-07-28T06:10:28.715300",
     "status": "completed"
    },
    "tags": []
   },
   "source": [
    "# Model Training (Collaborative Filtering)"
   ]
  },
  {
   "cell_type": "code",
   "execution_count": 9,
   "id": "55585222",
   "metadata": {
    "execution": {
     "iopub.execute_input": "2023-07-28T06:10:28.766240Z",
     "iopub.status.busy": "2023-07-28T06:10:28.765461Z",
     "iopub.status.idle": "2023-07-28T06:10:33.462121Z",
     "shell.execute_reply": "2023-07-28T06:10:33.461229Z"
    },
    "papermill": {
     "duration": 4.716308,
     "end_time": "2023-07-28T06:10:33.464471",
     "exception": false,
     "start_time": "2023-07-28T06:10:28.748163",
     "status": "completed"
    },
    "tags": []
   },
   "outputs": [
    {
     "name": "stdout",
     "output_type": "stream",
     "text": [
      "Shape of X: (24325191, 2)\n",
      "Shape of y: (24325191,)\n"
     ]
    }
   ],
   "source": [
    "# Shuffling the dataset to randomize the order of entries\n",
    "df = shuffle(df, random_state=100)\n",
    "\n",
    "# Creating feature matrix X and target variable y\n",
    "X = df[['user_encoded', 'anime_encoded']].values  # Feature matrix containing encoded user and anime IDs\n",
    "y = df[\"scaled_score\"].values  # Target variable containing scaled ratings\n",
    "\n",
    "# Displaying information about the dataset shapes after creating feature matrix and target variable\n",
    "print(\"Shape of X:\", X.shape)  # Shape of feature matrix X\n",
    "print(\"Shape of y:\", y.shape)  # Shape of target variable y"
   ]
  },
  {
   "cell_type": "code",
   "execution_count": 10,
   "id": "1a65dd08",
   "metadata": {
    "execution": {
     "iopub.execute_input": "2023-07-28T06:10:33.494582Z",
     "iopub.status.busy": "2023-07-28T06:10:33.494285Z",
     "iopub.status.idle": "2023-07-28T06:10:36.671040Z",
     "shell.execute_reply": "2023-07-28T06:10:36.670078Z"
    },
    "papermill": {
     "duration": 3.194518,
     "end_time": "2023-07-28T06:10:36.673253",
     "exception": false,
     "start_time": "2023-07-28T06:10:33.478735",
     "status": "completed"
    },
    "tags": []
   },
   "outputs": [
    {
     "name": "stdout",
     "output_type": "stream",
     "text": [
      "Number of samples in the training set: 24315191\n",
      "Number of samples in the test set: 10000\n"
     ]
    }
   ],
   "source": [
    "test_set_size = 10000  # Number of samples to include in the test set\n",
    "\n",
    "# Splitting the data into training and test sets\n",
    "X_train, X_test, y_train, y_test = train_test_split(X, y, test_size=test_set_size, random_state=73)\n",
    "\n",
    "# Displaying the number of samples in the training and test sets\n",
    "print(\"Number of samples in the training set:\", len(y_train))  # Number of samples in the training set\n",
    "print(\"Number of samples in the test set:\", len(y_test))  # Number of samples in the test set"
   ]
  },
  {
   "cell_type": "code",
   "execution_count": 11,
   "id": "bf88a1e9",
   "metadata": {
    "execution": {
     "iopub.execute_input": "2023-07-28T06:10:36.703487Z",
     "iopub.status.busy": "2023-07-28T06:10:36.703184Z",
     "iopub.status.idle": "2023-07-28T06:10:36.707871Z",
     "shell.execute_reply": "2023-07-28T06:10:36.707101Z"
    },
    "papermill": {
     "duration": 0.022594,
     "end_time": "2023-07-28T06:10:36.710025",
     "exception": false,
     "start_time": "2023-07-28T06:10:36.687431",
     "status": "completed"
    },
    "tags": []
   },
   "outputs": [],
   "source": [
    "# Prepare input data arrays for model training and evaluation\n",
    "# X_train_array contains two arrays: one for user IDs and one for anime IDs in the training set\n",
    "X_train_array = [X_train[:, 0], X_train[:, 1]]\n",
    "\n",
    "# X_test_array contains two arrays: one for user IDs and one for anime IDs in the test set\n",
    "X_test_array = [X_test[:, 0], X_test[:, 1]]"
   ]
  },
  {
   "cell_type": "code",
   "execution_count": 12,
   "id": "e631cd46",
   "metadata": {
    "execution": {
     "iopub.execute_input": "2023-07-28T06:10:46.455903Z",
     "iopub.status.busy": "2023-07-28T06:10:46.455615Z",
     "iopub.status.idle": "2023-07-28T06:10:48.681348Z",
     "shell.execute_reply": "2023-07-28T06:10:48.680247Z"
    },
    "papermill": {
     "duration": 2.254124,
     "end_time": "2023-07-28T06:10:48.691429",
     "exception": false,
     "start_time": "2023-07-28T06:10:46.437305",
     "status": "completed"
    },
    "tags": []
   },
   "outputs": [
    {
     "name": "stdout",
     "output_type": "stream",
     "text": [
      "Model: \"model\"\n",
      "__________________________________________________________________________________________________\n",
      " Layer (type)                Output Shape                 Param #   Connected to                  \n",
      "==================================================================================================\n",
      " user_encoded (InputLayer)   [(None, 1)]                  0         []                            \n",
      "                                                                                                  \n",
      " anime_encoded (InputLayer)  [(None, 1)]                  0         []                            \n",
      "                                                                                                  \n",
      " user_embedding (Embedding)  (None, 1, 128)               3456422   ['user_encoded[0][0]']        \n",
      "                                                          4                                       \n",
      "                                                                                                  \n",
      " anime_embedding (Embedding  (None, 1, 128)               2112000   ['anime_encoded[0][0]']       \n",
      " )                                                                                                \n",
      "                                                                                                  \n",
      " dot_product (Dot)           (None, 1, 1)                 0         ['user_embedding[0][0]',      \n",
      "                                                                     'anime_embedding[0][0]']     \n",
      "                                                                                                  \n",
      " flatten (Flatten)           (None, 1)                    0         ['dot_product[0][0]']         \n",
      "                                                                                                  \n",
      " dense (Dense)               (None, 64)                   128       ['flatten[0][0]']             \n",
      "                                                                                                  \n",
      " dense_1 (Dense)             (None, 1)                    65        ['dense[0][0]']               \n",
      "                                                                                                  \n",
      "==================================================================================================\n",
      "Total params: 36676417 (139.91 MB)\n",
      "Trainable params: 36676417 (139.91 MB)\n",
      "Non-trainable params: 0 (0.00 Byte)\n",
      "__________________________________________________________________________________________________\n"
     ]
    }
   ],
   "source": [
    "def RecommenderNet(num_users, num_animes, embedding_size=128):\n",
    "    # Define input layers and embedding layers for users and animes\n",
    "    # User input layer and its embedding\n",
    "    user = Input(name='user_encoded', shape=[1])\n",
    "    user_embedding = Embedding(name='user_embedding', input_dim=num_users, output_dim=embedding_size)(user)\n",
    "    \n",
    "    # Anime input layer and its embedding\n",
    "    anime = Input(name='anime_encoded', shape=[1])\n",
    "    anime_embedding = Embedding(name='anime_embedding', input_dim=num_animes, output_dim=embedding_size)(anime)\n",
    "    \n",
    "    # Perform dot product operation between user and anime embeddings\n",
    "    dot_product = Dot(name='dot_product', normalize=True, axes=2)([user_embedding, anime_embedding])\n",
    "    flattened = Flatten()(dot_product)\n",
    "    \n",
    "    # Additional dense layers for prediction\n",
    "    dense = Dense(64, activation='relu')(flattened)\n",
    "    output = Dense(1, activation='sigmoid')(dense)\n",
    "    \n",
    "    # Create and compile the recommendation model\n",
    "    model = Model(inputs=[user, anime], outputs=output)\n",
    "    model.compile(loss='binary_crossentropy', optimizer=Adam(learning_rate=0.001), metrics=[\"mae\", \"mse\"])\n",
    "    \n",
    "    return model\n",
    "\n",
    "# Create the recommendation model using the defined function\n",
    "model = RecommenderNet(num_users, num_animes)\n",
    "\n",
    "# Display the summary of the created model\n",
    "model.summary()"
   ]
  },
  {
   "cell_type": "code",
   "execution_count": 13,
   "id": "a31d4252",
   "metadata": {
    "execution": {
     "iopub.execute_input": "2023-07-28T06:10:48.739898Z",
     "iopub.status.busy": "2023-07-28T06:10:48.739511Z",
     "iopub.status.idle": "2023-07-28T06:10:48.752546Z",
     "shell.execute_reply": "2023-07-28T06:10:48.751465Z"
    },
    "papermill": {
     "duration": 0.041421,
     "end_time": "2023-07-28T06:10:48.754830",
     "exception": false,
     "start_time": "2023-07-28T06:10:48.713409",
     "status": "completed"
    },
    "tags": []
   },
   "outputs": [],
   "source": [
    "import tensorflow as tf\n",
    "from tensorflow.keras.callbacks import ModelCheckpoint, LearningRateScheduler, EarlyStopping\n",
    "\n",
    "# Define the initial, minimum, and maximum learning rates, along with batch size\n",
    "start_lr = 0.00001\n",
    "min_lr = 0.00001\n",
    "max_lr = 0.00005\n",
    "batch_size = 10000\n",
    "\n",
    "# Define the number of epochs for ramp-up, sustain, and exponential decay\n",
    "rampup_epochs = 25\n",
    "sustain_epochs = 0\n",
    "exp_decay = 0.8\n",
    "\n",
    "# Learning rate schedule function based on epoch count\n",
    "def lrfn(epoch):\n",
    "    if epoch < rampup_epochs:\n",
    "        return (max_lr - start_lr) / rampup_epochs * epoch + start_lr\n",
    "    elif epoch < rampup_epochs + sustain_epochs:\n",
    "        return max_lr\n",
    "    else:\n",
    "        return (max_lr - min_lr) * exp_decay**(epoch - rampup_epochs - sustain_epochs) + min_lr\n",
    "\n",
    "# Learning rate scheduler callback\n",
    "lr_callback = LearningRateScheduler(lambda epoch: lrfn(epoch), verbose=0)\n",
    "\n",
    "# File path for saving the model weights\n",
    "checkpoint_filepath = 'myanimeweights.h5'\n",
    "\n",
    "# Model checkpoint callback to save the best weights based on validation loss\n",
    "model_checkpoints = ModelCheckpoint(filepath=checkpoint_filepath,\n",
    "                                    save_weights_only=True,\n",
    "                                    monitor='val_loss',\n",
    "                                    mode='min',\n",
    "                                    save_best_only=True)\n",
    "\n",
    "# Early stopping callback to prevent overfitting\n",
    "early_stopping = EarlyStopping(patience=3, monitor='val_loss', mode='min', restore_best_weights=True)\n",
    "\n",
    "# Define the list of callbacks to be used during model training\n",
    "my_callbacks = [\n",
    "    model_checkpoints,  # Save the best model weights\n",
    "    lr_callback,  # Adjust learning rate based on schedule\n",
    "    early_stopping  # Prevent overfitting by early stopping\n",
    "]"
   ]
  },
  {
   "cell_type": "code",
   "execution_count": 14,
   "id": "230f720a",
   "metadata": {},
   "outputs": [
    {
     "name": "stdout",
     "output_type": "stream",
     "text": [
      "Epoch 1/22\n",
      "2432/2432 [==============================] - 1012s 415ms/step - loss: 0.6708 - mae: 0.2431 - mse: 0.0786 - val_loss: 0.6508 - val_mae: 0.2227 - val_mse: 0.0682 - lr: 1.0000e-05\n",
      "Epoch 2/22\n",
      "2432/2432 [==============================] - 1009s 415ms/step - loss: 0.6293 - mae: 0.2037 - mse: 0.0581 - val_loss: 0.6098 - val_mae: 0.1843 - val_mse: 0.0483 - lr: 1.1600e-05\n",
      "Epoch 3/22\n",
      "2432/2432 [==============================] - 1004s 413ms/step - loss: 0.5948 - mae: 0.1653 - mse: 0.0417 - val_loss: 0.5834 - val_mae: 0.1524 - val_mse: 0.0362 - lr: 1.3200e-05\n",
      "Epoch 4/22\n",
      "2432/2432 [==============================] - 1008s 415ms/step - loss: 0.5791 - mae: 0.1492 - mse: 0.0348 - val_loss: 0.5771 - val_mae: 0.1464 - val_mse: 0.0336 - lr: 1.4800e-05\n",
      "Epoch 5/22\n",
      "2432/2432 [==============================] - 1006s 414ms/step - loss: 0.5770 - mae: 0.1460 - mse: 0.0340 - val_loss: 0.5771 - val_mae: 0.1457 - val_mse: 0.0336 - lr: 1.6400e-05\n",
      "Epoch 6/22\n",
      "2432/2432 [==============================] - 1045s 429ms/step - loss: 0.5762 - mae: 0.1446 - mse: 0.0336 - val_loss: 0.5770 - val_mae: 0.1448 - val_mse: 0.0335 - lr: 1.8000e-05\n",
      "Epoch 7/22\n",
      "2432/2432 [==============================] - 1063s 437ms/step - loss: 0.5732 - mae: 0.1409 - mse: 0.0325 - val_loss: 0.5744 - val_mae: 0.1414 - val_mse: 0.0326 - lr: 1.9600e-05\n",
      "Epoch 8/22\n",
      "2432/2432 [==============================] - 1081s 444ms/step - loss: 0.5654 - mae: 0.1331 - mse: 0.0295 - val_loss: 0.5676 - val_mae: 0.1346 - val_mse: 0.0300 - lr: 2.1200e-05\n",
      "Epoch 9/22\n",
      "2432/2432 [==============================] - 1079s 443ms/step - loss: 0.5549 - mae: 0.1230 - mse: 0.0256 - val_loss: 0.5602 - val_mae: 0.1272 - val_mse: 0.0272 - lr: 2.2800e-05\n",
      "Epoch 10/22\n",
      "2432/2432 [==============================] - 1071s 440ms/step - loss: 0.5469 - mae: 0.1151 - mse: 0.0226 - val_loss: 0.5546 - val_mae: 0.1217 - val_mse: 0.0251 - lr: 2.4400e-05\n",
      "Epoch 11/22\n",
      "2432/2432 [==============================] - 1064s 437ms/step - loss: 0.5415 - mae: 0.1095 - mse: 0.0206 - val_loss: 0.5508 - val_mae: 0.1180 - val_mse: 0.0236 - lr: 2.6000e-05\n",
      "Epoch 12/22\n",
      "2432/2432 [==============================] - 1063s 437ms/step - loss: 0.5377 - mae: 0.1053 - mse: 0.0191 - val_loss: 0.5483 - val_mae: 0.1155 - val_mse: 0.0227 - lr: 2.7600e-05\n",
      "Epoch 13/22\n",
      "2432/2432 [==============================] - 1062s 437ms/step - loss: 0.5346 - mae: 0.1020 - mse: 0.0180 - val_loss: 0.5465 - val_mae: 0.1135 - val_mse: 0.0220 - lr: 2.9200e-05\n",
      "Epoch 14/22\n",
      "2432/2432 [==============================] - 1059s 436ms/step - loss: 0.5320 - mae: 0.0990 - mse: 0.0171 - val_loss: 0.5453 - val_mae: 0.1122 - val_mse: 0.0216 - lr: 3.0800e-05\n",
      "Epoch 15/22\n",
      "2432/2432 [==============================] - 1062s 437ms/step - loss: 0.5296 - mae: 0.0963 - mse: 0.0162 - val_loss: 0.5443 - val_mae: 0.1112 - val_mse: 0.0212 - lr: 3.2400e-05\n",
      "Epoch 16/22\n",
      "2432/2432 [==============================] - 1059s 436ms/step - loss: 0.5274 - mae: 0.0937 - mse: 0.0155 - val_loss: 0.5437 - val_mae: 0.1103 - val_mse: 0.0210 - lr: 3.4000e-05\n",
      "Epoch 17/22\n",
      "2432/2432 [==============================] - 1044s 429ms/step - loss: 0.5252 - mae: 0.0912 - mse: 0.0147 - val_loss: 0.5433 - val_mae: 0.1097 - val_mse: 0.0208 - lr: 3.5600e-05\n",
      "Epoch 18/22\n",
      "2432/2432 [==============================] - 1016s 418ms/step - loss: 0.5231 - mae: 0.0889 - mse: 0.0141 - val_loss: 0.5431 - val_mae: 0.1092 - val_mse: 0.0207 - lr: 3.7200e-05\n",
      "Epoch 19/22\n",
      "2432/2432 [==============================] - 1009s 415ms/step - loss: 0.5211 - mae: 0.0865 - mse: 0.0134 - val_loss: 0.5430 - val_mae: 0.1089 - val_mse: 0.0207 - lr: 3.8800e-05\n",
      "Epoch 20/22\n",
      "2432/2432 [==============================] - 1007s 414ms/step - loss: 0.5193 - mae: 0.0843 - mse: 0.0128 - val_loss: 0.5432 - val_mae: 0.1087 - val_mse: 0.0207 - lr: 4.0400e-05\n",
      "Epoch 21/22\n",
      "2432/2432 [==============================] - 1006s 414ms/step - loss: 0.5174 - mae: 0.0821 - mse: 0.0122 - val_loss: 0.5433 - val_mae: 0.1087 - val_mse: 0.0207 - lr: 4.2000e-05\n",
      "Epoch 22/22\n",
      "2432/2432 [==============================] - 1005s 413ms/step - loss: 0.5157 - mae: 0.0801 - mse: 0.0117 - val_loss: 0.5437 - val_mae: 0.1087 - val_mse: 0.0208 - lr: 4.3600e-05\n"
     ]
    }
   ],
   "source": [
    "# Model training using the prepared data and defined callbacks\n",
    "history = model.fit(\n",
    "    x=X_train_array,  # Training data: user and anime IDs\n",
    "    y=y_train,  # Training labels: scaled scores\n",
    "    batch_size=batch_size,  # Batch size for training\n",
    "    epochs=22,  # Number of training epochs\n",
    "    verbose=1,  # Verbosity level for training progress\n",
    "    validation_data=(X_test_array, y_test),  # Validation data: user and anime IDs for testing, along with scaled scores\n",
    "    callbacks=my_callbacks  # Callbacks for monitoring, adjusting learning rate, and early stopping\n",
    ")\n",
    "\n",
    "# Load the best model weights obtained during training\n",
    "model.load_weights(checkpoint_filepath)"
   ]
  },
  {
   "cell_type": "code",
   "execution_count": 15,
   "id": "e7c2d273",
   "metadata": {},
   "outputs": [
    {
     "data": {
      "text/html": [
       "<style>\n",
       "        .bk-notebook-logo {\n",
       "            display: block;\n",
       "            width: 20px;\n",
       "            height: 20px;\n",
       "            background-image: url(data:image/png;base64,iVBORw0KGgoAAAANSUhEUgAAABQAAAAUCAYAAACNiR0NAAAABHNCSVQICAgIfAhkiAAAAAlwSFlzAAALEgAACxIB0t1+/AAAABx0RVh0U29mdHdhcmUAQWRvYmUgRmlyZXdvcmtzIENTNui8sowAAAOkSURBVDiNjZRtaJVlGMd/1/08zzln5zjP1LWcU9N0NkN8m2CYjpgQYQXqSs0I84OLIC0hkEKoPtiH3gmKoiJDU7QpLgoLjLIQCpEsNJ1vqUOdO7ppbuec5+V+rj4ctwzd8IIbbi6u+8f1539dt3A78eXC7QizUF7gyV1fD1Yqg4JWz84yffhm0qkFqBogB9rM8tZdtwVsPUhWhGcFJngGeWrPzHm5oaMmkfEg1usvLFyc8jLRqDOMru7AyC8saQr7GG7f5fvDeH7Ej8CM66nIF+8yngt6HWaKh7k49Soy9nXurCi1o3qUbS3zWfrYeQDTB/Qj6kX6Ybhw4B+bOYoLKCC9H3Nu/leUTZ1JdRWkkn2ldcCamzrcf47KKXdAJllSlxAOkRgyHsGC/zRday5Qld9DyoM4/q/rUoy/CXh3jzOu3bHUVZeU+DEn8FInkPBFlu3+nW3Nw0mk6vCDiWg8CeJaxEwuHS3+z5RgY+YBR6V1Z1nxSOfoaPa4LASWxxdNp+VWTk7+4vzaou8v8PN+xo+KY2xsw6une2frhw05CTYOmQvsEhjhWjn0bmXPjpE1+kplmmkP3suftwTubK9Vq22qKmrBhpY4jvd5afdRA3wGjFAgcnTK2s4hY0/GPNIb0nErGMCRxWOOX64Z8RAC4oCXdklmEvcL8o0BfkNK4lUg9HTl+oPlQxdNo3Mg4Nv175e/1LDGzZen30MEjRUtmXSfiTVu1kK8W4txyV6BMKlbgk3lMwYCiusNy9fVfvvwMxv8Ynl6vxoByANLTWplvuj/nF9m2+PDtt1eiHPBr1oIfhCChQMBw6Aw0UulqTKZdfVvfG7VcfIqLG9bcldL/+pdWTLxLUy8Qq38heUIjh4XlzZxzQm19lLFlr8vdQ97rjZVOLf8nclzckbcD4wxXMidpX30sFd37Fv/GtwwhzhxGVAprjbg0gCAEeIgwCZyTV2Z1REEW8O4py0wsjeloKoMr6iCY6dP92H6Vw/oTyICIthibxjm/DfN9lVz8IqtqKYLUXfoKVMVQVVJOElGjrnnUt9T9wbgp8AyYKaGlqingHZU/uG2NTZSVqwHQTWkx9hxjkpWDaCg6Ckj5qebgBVbT3V3NNXMSiWSDdGV3hrtzla7J+duwPOToIg42ChPQOQjspnSlp1V+Gjdged7+8UN5CRAV7a5EdFNwCjEaBR27b3W890TE7g24NAP/mMDXRWrGoFPQI9ls/MWO2dWFAar/xcOIImbbpA3zgAAAABJRU5ErkJggg==);\n",
       "        }\n",
       "    </style>\n",
       "    <div>\n",
       "        <a href=\"https://bokeh.org\" target=\"_blank\" class=\"bk-notebook-logo\"></a>\n",
       "        <span id=\"d83ef8d5-9f04-4d05-b091-90844c4f39b8\">Loading BokehJS ...</span>\n",
       "    </div>\n"
      ]
     },
     "metadata": {},
     "output_type": "display_data"
    },
    {
     "data": {
      "application/javascript": [
       "(function(root) {\n",
       "  function now() {\n",
       "    return new Date();\n",
       "  }\n",
       "\n",
       "  const force = true;\n",
       "\n",
       "  if (typeof root._bokeh_onload_callbacks === \"undefined\" || force === true) {\n",
       "    root._bokeh_onload_callbacks = [];\n",
       "    root._bokeh_is_loading = undefined;\n",
       "  }\n",
       "\n",
       "const JS_MIME_TYPE = 'application/javascript';\n",
       "  const HTML_MIME_TYPE = 'text/html';\n",
       "  const EXEC_MIME_TYPE = 'application/vnd.bokehjs_exec.v0+json';\n",
       "  const CLASS_NAME = 'output_bokeh rendered_html';\n",
       "\n",
       "  /**\n",
       "   * Render data to the DOM node\n",
       "   */\n",
       "  function render(props, node) {\n",
       "    const script = document.createElement(\"script\");\n",
       "    node.appendChild(script);\n",
       "  }\n",
       "\n",
       "  /**\n",
       "   * Handle when an output is cleared or removed\n",
       "   */\n",
       "  function handleClearOutput(event, handle) {\n",
       "    const cell = handle.cell;\n",
       "\n",
       "    const id = cell.output_area._bokeh_element_id;\n",
       "    const server_id = cell.output_area._bokeh_server_id;\n",
       "    // Clean up Bokeh references\n",
       "    if (id != null && id in Bokeh.index) {\n",
       "      Bokeh.index[id].model.document.clear();\n",
       "      delete Bokeh.index[id];\n",
       "    }\n",
       "\n",
       "    if (server_id !== undefined) {\n",
       "      // Clean up Bokeh references\n",
       "      const cmd_clean = \"from bokeh.io.state import curstate; print(curstate().uuid_to_server['\" + server_id + \"'].get_sessions()[0].document.roots[0]._id)\";\n",
       "      cell.notebook.kernel.execute(cmd_clean, {\n",
       "        iopub: {\n",
       "          output: function(msg) {\n",
       "            const id = msg.content.text.trim();\n",
       "            if (id in Bokeh.index) {\n",
       "              Bokeh.index[id].model.document.clear();\n",
       "              delete Bokeh.index[id];\n",
       "            }\n",
       "          }\n",
       "        }\n",
       "      });\n",
       "      // Destroy server and session\n",
       "      const cmd_destroy = \"import bokeh.io.notebook as ion; ion.destroy_server('\" + server_id + \"')\";\n",
       "      cell.notebook.kernel.execute(cmd_destroy);\n",
       "    }\n",
       "  }\n",
       "\n",
       "  /**\n",
       "   * Handle when a new output is added\n",
       "   */\n",
       "  function handleAddOutput(event, handle) {\n",
       "    const output_area = handle.output_area;\n",
       "    const output = handle.output;\n",
       "\n",
       "    // limit handleAddOutput to display_data with EXEC_MIME_TYPE content only\n",
       "    if ((output.output_type != \"display_data\") || (!Object.prototype.hasOwnProperty.call(output.data, EXEC_MIME_TYPE))) {\n",
       "      return\n",
       "    }\n",
       "\n",
       "    const toinsert = output_area.element.find(\".\" + CLASS_NAME.split(' ')[0]);\n",
       "\n",
       "    if (output.metadata[EXEC_MIME_TYPE][\"id\"] !== undefined) {\n",
       "      toinsert[toinsert.length - 1].firstChild.textContent = output.data[JS_MIME_TYPE];\n",
       "      // store reference to embed id on output_area\n",
       "      output_area._bokeh_element_id = output.metadata[EXEC_MIME_TYPE][\"id\"];\n",
       "    }\n",
       "    if (output.metadata[EXEC_MIME_TYPE][\"server_id\"] !== undefined) {\n",
       "      const bk_div = document.createElement(\"div\");\n",
       "      bk_div.innerHTML = output.data[HTML_MIME_TYPE];\n",
       "      const script_attrs = bk_div.children[0].attributes;\n",
       "      for (let i = 0; i < script_attrs.length; i++) {\n",
       "        toinsert[toinsert.length - 1].firstChild.setAttribute(script_attrs[i].name, script_attrs[i].value);\n",
       "        toinsert[toinsert.length - 1].firstChild.textContent = bk_div.children[0].textContent\n",
       "      }\n",
       "      // store reference to server id on output_area\n",
       "      output_area._bokeh_server_id = output.metadata[EXEC_MIME_TYPE][\"server_id\"];\n",
       "    }\n",
       "  }\n",
       "\n",
       "  function register_renderer(events, OutputArea) {\n",
       "\n",
       "    function append_mime(data, metadata, element) {\n",
       "      // create a DOM node to render to\n",
       "      const toinsert = this.create_output_subarea(\n",
       "        metadata,\n",
       "        CLASS_NAME,\n",
       "        EXEC_MIME_TYPE\n",
       "      );\n",
       "      this.keyboard_manager.register_events(toinsert);\n",
       "      // Render to node\n",
       "      const props = {data: data, metadata: metadata[EXEC_MIME_TYPE]};\n",
       "      render(props, toinsert[toinsert.length - 1]);\n",
       "      element.append(toinsert);\n",
       "      return toinsert\n",
       "    }\n",
       "\n",
       "    /* Handle when an output is cleared or removed */\n",
       "    events.on('clear_output.CodeCell', handleClearOutput);\n",
       "    events.on('delete.Cell', handleClearOutput);\n",
       "\n",
       "    /* Handle when a new output is added */\n",
       "    events.on('output_added.OutputArea', handleAddOutput);\n",
       "\n",
       "    /**\n",
       "     * Register the mime type and append_mime function with output_area\n",
       "     */\n",
       "    OutputArea.prototype.register_mime_type(EXEC_MIME_TYPE, append_mime, {\n",
       "      /* Is output safe? */\n",
       "      safe: true,\n",
       "      /* Index of renderer in `output_area.display_order` */\n",
       "      index: 0\n",
       "    });\n",
       "  }\n",
       "\n",
       "  // register the mime type if in Jupyter Notebook environment and previously unregistered\n",
       "  if (root.Jupyter !== undefined) {\n",
       "    const events = require('base/js/events');\n",
       "    const OutputArea = require('notebook/js/outputarea').OutputArea;\n",
       "\n",
       "    if (OutputArea.prototype.mime_types().indexOf(EXEC_MIME_TYPE) == -1) {\n",
       "      register_renderer(events, OutputArea);\n",
       "    }\n",
       "  }\n",
       "  if (typeof (root._bokeh_timeout) === \"undefined\" || force === true) {\n",
       "    root._bokeh_timeout = Date.now() + 5000;\n",
       "    root._bokeh_failed_load = false;\n",
       "  }\n",
       "\n",
       "  const NB_LOAD_WARNING = {'data': {'text/html':\n",
       "     \"<div style='background-color: #fdd'>\\n\"+\n",
       "     \"<p>\\n\"+\n",
       "     \"BokehJS does not appear to have successfully loaded. If loading BokehJS from CDN, this \\n\"+\n",
       "     \"may be due to a slow or bad network connection. Possible fixes:\\n\"+\n",
       "     \"</p>\\n\"+\n",
       "     \"<ul>\\n\"+\n",
       "     \"<li>re-rerun `output_notebook()` to attempt to load from CDN again, or</li>\\n\"+\n",
       "     \"<li>use INLINE resources instead, as so:</li>\\n\"+\n",
       "     \"</ul>\\n\"+\n",
       "     \"<code>\\n\"+\n",
       "     \"from bokeh.resources import INLINE\\n\"+\n",
       "     \"output_notebook(resources=INLINE)\\n\"+\n",
       "     \"</code>\\n\"+\n",
       "     \"</div>\"}};\n",
       "\n",
       "  function display_loaded() {\n",
       "    const el = document.getElementById(\"d83ef8d5-9f04-4d05-b091-90844c4f39b8\");\n",
       "    if (el != null) {\n",
       "      el.textContent = \"BokehJS is loading...\";\n",
       "    }\n",
       "    if (root.Bokeh !== undefined) {\n",
       "      if (el != null) {\n",
       "        el.textContent = \"BokehJS \" + root.Bokeh.version + \" successfully loaded.\";\n",
       "      }\n",
       "    } else if (Date.now() < root._bokeh_timeout) {\n",
       "      setTimeout(display_loaded, 100)\n",
       "    }\n",
       "  }\n",
       "\n",
       "  function run_callbacks() {\n",
       "    try {\n",
       "      root._bokeh_onload_callbacks.forEach(function(callback) {\n",
       "        if (callback != null)\n",
       "          callback();\n",
       "      });\n",
       "    } finally {\n",
       "      delete root._bokeh_onload_callbacks\n",
       "    }\n",
       "    console.debug(\"Bokeh: all callbacks have finished\");\n",
       "  }\n",
       "\n",
       "  function load_libs(css_urls, js_urls, callback) {\n",
       "    if (css_urls == null) css_urls = [];\n",
       "    if (js_urls == null) js_urls = [];\n",
       "\n",
       "    root._bokeh_onload_callbacks.push(callback);\n",
       "    if (root._bokeh_is_loading > 0) {\n",
       "      console.debug(\"Bokeh: BokehJS is being loaded, scheduling callback at\", now());\n",
       "      return null;\n",
       "    }\n",
       "    if (js_urls == null || js_urls.length === 0) {\n",
       "      run_callbacks();\n",
       "      return null;\n",
       "    }\n",
       "    console.debug(\"Bokeh: BokehJS not loaded, scheduling load and callback at\", now());\n",
       "    root._bokeh_is_loading = css_urls.length + js_urls.length;\n",
       "\n",
       "    function on_load() {\n",
       "      root._bokeh_is_loading--;\n",
       "      if (root._bokeh_is_loading === 0) {\n",
       "        console.debug(\"Bokeh: all BokehJS libraries/stylesheets loaded\");\n",
       "        run_callbacks()\n",
       "      }\n",
       "    }\n",
       "\n",
       "    function on_error(url) {\n",
       "      console.error(\"failed to load \" + url);\n",
       "    }\n",
       "\n",
       "    for (let i = 0; i < css_urls.length; i++) {\n",
       "      const url = css_urls[i];\n",
       "      const element = document.createElement(\"link\");\n",
       "      element.onload = on_load;\n",
       "      element.onerror = on_error.bind(null, url);\n",
       "      element.rel = \"stylesheet\";\n",
       "      element.type = \"text/css\";\n",
       "      element.href = url;\n",
       "      console.debug(\"Bokeh: injecting link tag for BokehJS stylesheet: \", url);\n",
       "      document.body.appendChild(element);\n",
       "    }\n",
       "\n",
       "    for (let i = 0; i < js_urls.length; i++) {\n",
       "      const url = js_urls[i];\n",
       "      const element = document.createElement('script');\n",
       "      element.onload = on_load;\n",
       "      element.onerror = on_error.bind(null, url);\n",
       "      element.async = false;\n",
       "      element.src = url;\n",
       "      console.debug(\"Bokeh: injecting script tag for BokehJS library: \", url);\n",
       "      document.head.appendChild(element);\n",
       "    }\n",
       "  };\n",
       "\n",
       "  function inject_raw_css(css) {\n",
       "    const element = document.createElement(\"style\");\n",
       "    element.appendChild(document.createTextNode(css));\n",
       "    document.body.appendChild(element);\n",
       "  }\n",
       "\n",
       "  const js_urls = [\"https://cdn.bokeh.org/bokeh/release/bokeh-3.1.1.min.js\", \"https://cdn.bokeh.org/bokeh/release/bokeh-gl-3.1.1.min.js\", \"https://cdn.bokeh.org/bokeh/release/bokeh-widgets-3.1.1.min.js\", \"https://cdn.bokeh.org/bokeh/release/bokeh-tables-3.1.1.min.js\", \"https://cdn.bokeh.org/bokeh/release/bokeh-mathjax-3.1.1.min.js\"];\n",
       "  const css_urls = [];\n",
       "\n",
       "  const inline_js = [    function(Bokeh) {\n",
       "      Bokeh.set_log_level(\"info\");\n",
       "    },\n",
       "function(Bokeh) {\n",
       "    }\n",
       "  ];\n",
       "\n",
       "  function run_inline_js() {\n",
       "    if (root.Bokeh !== undefined || force === true) {\n",
       "          for (let i = 0; i < inline_js.length; i++) {\n",
       "      inline_js[i].call(root, root.Bokeh);\n",
       "    }\n",
       "if (force === true) {\n",
       "        display_loaded();\n",
       "      }} else if (Date.now() < root._bokeh_timeout) {\n",
       "      setTimeout(run_inline_js, 100);\n",
       "    } else if (!root._bokeh_failed_load) {\n",
       "      console.log(\"Bokeh: BokehJS failed to load within specified timeout.\");\n",
       "      root._bokeh_failed_load = true;\n",
       "    } else if (force !== true) {\n",
       "      const cell = $(document.getElementById(\"d83ef8d5-9f04-4d05-b091-90844c4f39b8\")).parents('.cell').data().cell;\n",
       "      cell.output_area.append_execute_result(NB_LOAD_WARNING)\n",
       "    }\n",
       "  }\n",
       "\n",
       "  if (root._bokeh_is_loading === 0) {\n",
       "    console.debug(\"Bokeh: BokehJS loaded, going straight to plotting\");\n",
       "    run_inline_js();\n",
       "  } else {\n",
       "    load_libs(css_urls, js_urls, function() {\n",
       "      console.debug(\"Bokeh: BokehJS plotting callback run at\", now());\n",
       "      run_inline_js();\n",
       "    });\n",
       "  }\n",
       "}(window));"
      ],
      "application/vnd.bokehjs_load.v0+json": "(function(root) {\n  function now() {\n    return new Date();\n  }\n\n  const force = true;\n\n  if (typeof root._bokeh_onload_callbacks === \"undefined\" || force === true) {\n    root._bokeh_onload_callbacks = [];\n    root._bokeh_is_loading = undefined;\n  }\n\n\n  if (typeof (root._bokeh_timeout) === \"undefined\" || force === true) {\n    root._bokeh_timeout = Date.now() + 5000;\n    root._bokeh_failed_load = false;\n  }\n\n  const NB_LOAD_WARNING = {'data': {'text/html':\n     \"<div style='background-color: #fdd'>\\n\"+\n     \"<p>\\n\"+\n     \"BokehJS does not appear to have successfully loaded. If loading BokehJS from CDN, this \\n\"+\n     \"may be due to a slow or bad network connection. Possible fixes:\\n\"+\n     \"</p>\\n\"+\n     \"<ul>\\n\"+\n     \"<li>re-rerun `output_notebook()` to attempt to load from CDN again, or</li>\\n\"+\n     \"<li>use INLINE resources instead, as so:</li>\\n\"+\n     \"</ul>\\n\"+\n     \"<code>\\n\"+\n     \"from bokeh.resources import INLINE\\n\"+\n     \"output_notebook(resources=INLINE)\\n\"+\n     \"</code>\\n\"+\n     \"</div>\"}};\n\n  function display_loaded() {\n    const el = document.getElementById(\"d83ef8d5-9f04-4d05-b091-90844c4f39b8\");\n    if (el != null) {\n      el.textContent = \"BokehJS is loading...\";\n    }\n    if (root.Bokeh !== undefined) {\n      if (el != null) {\n        el.textContent = \"BokehJS \" + root.Bokeh.version + \" successfully loaded.\";\n      }\n    } else if (Date.now() < root._bokeh_timeout) {\n      setTimeout(display_loaded, 100)\n    }\n  }\n\n  function run_callbacks() {\n    try {\n      root._bokeh_onload_callbacks.forEach(function(callback) {\n        if (callback != null)\n          callback();\n      });\n    } finally {\n      delete root._bokeh_onload_callbacks\n    }\n    console.debug(\"Bokeh: all callbacks have finished\");\n  }\n\n  function load_libs(css_urls, js_urls, callback) {\n    if (css_urls == null) css_urls = [];\n    if (js_urls == null) js_urls = [];\n\n    root._bokeh_onload_callbacks.push(callback);\n    if (root._bokeh_is_loading > 0) {\n      console.debug(\"Bokeh: BokehJS is being loaded, scheduling callback at\", now());\n      return null;\n    }\n    if (js_urls == null || js_urls.length === 0) {\n      run_callbacks();\n      return null;\n    }\n    console.debug(\"Bokeh: BokehJS not loaded, scheduling load and callback at\", now());\n    root._bokeh_is_loading = css_urls.length + js_urls.length;\n\n    function on_load() {\n      root._bokeh_is_loading--;\n      if (root._bokeh_is_loading === 0) {\n        console.debug(\"Bokeh: all BokehJS libraries/stylesheets loaded\");\n        run_callbacks()\n      }\n    }\n\n    function on_error(url) {\n      console.error(\"failed to load \" + url);\n    }\n\n    for (let i = 0; i < css_urls.length; i++) {\n      const url = css_urls[i];\n      const element = document.createElement(\"link\");\n      element.onload = on_load;\n      element.onerror = on_error.bind(null, url);\n      element.rel = \"stylesheet\";\n      element.type = \"text/css\";\n      element.href = url;\n      console.debug(\"Bokeh: injecting link tag for BokehJS stylesheet: \", url);\n      document.body.appendChild(element);\n    }\n\n    for (let i = 0; i < js_urls.length; i++) {\n      const url = js_urls[i];\n      const element = document.createElement('script');\n      element.onload = on_load;\n      element.onerror = on_error.bind(null, url);\n      element.async = false;\n      element.src = url;\n      console.debug(\"Bokeh: injecting script tag for BokehJS library: \", url);\n      document.head.appendChild(element);\n    }\n  };\n\n  function inject_raw_css(css) {\n    const element = document.createElement(\"style\");\n    element.appendChild(document.createTextNode(css));\n    document.body.appendChild(element);\n  }\n\n  const js_urls = [\"https://cdn.bokeh.org/bokeh/release/bokeh-3.1.1.min.js\", \"https://cdn.bokeh.org/bokeh/release/bokeh-gl-3.1.1.min.js\", \"https://cdn.bokeh.org/bokeh/release/bokeh-widgets-3.1.1.min.js\", \"https://cdn.bokeh.org/bokeh/release/bokeh-tables-3.1.1.min.js\", \"https://cdn.bokeh.org/bokeh/release/bokeh-mathjax-3.1.1.min.js\"];\n  const css_urls = [];\n\n  const inline_js = [    function(Bokeh) {\n      Bokeh.set_log_level(\"info\");\n    },\nfunction(Bokeh) {\n    }\n  ];\n\n  function run_inline_js() {\n    if (root.Bokeh !== undefined || force === true) {\n          for (let i = 0; i < inline_js.length; i++) {\n      inline_js[i].call(root, root.Bokeh);\n    }\nif (force === true) {\n        display_loaded();\n      }} else if (Date.now() < root._bokeh_timeout) {\n      setTimeout(run_inline_js, 100);\n    } else if (!root._bokeh_failed_load) {\n      console.log(\"Bokeh: BokehJS failed to load within specified timeout.\");\n      root._bokeh_failed_load = true;\n    } else if (force !== true) {\n      const cell = $(document.getElementById(\"d83ef8d5-9f04-4d05-b091-90844c4f39b8\")).parents('.cell').data().cell;\n      cell.output_area.append_execute_result(NB_LOAD_WARNING)\n    }\n  }\n\n  if (root._bokeh_is_loading === 0) {\n    console.debug(\"Bokeh: BokehJS loaded, going straight to plotting\");\n    run_inline_js();\n  } else {\n    load_libs(css_urls, js_urls, function() {\n      console.debug(\"Bokeh: BokehJS plotting callback run at\", now());\n      run_inline_js();\n    });\n  }\n}(window));"
     },
     "metadata": {},
     "output_type": "display_data"
    },
    {
     "data": {
      "text/html": [
       "\n",
       "  <div id=\"fbc7a5dc-249c-4c6f-b2a1-6a90e1b7e7b7\" data-root-id=\"p1152\" style=\"display: contents;\"></div>\n"
      ]
     },
     "metadata": {},
     "output_type": "display_data"
    },
    {
     "data": {
      "application/javascript": [
       "(function(root) {\n",
       "  function embed_document(root) {\n",
       "  const docs_json = {\"8033e08c-77f1-4154-9118-a7546f57dbec\":{\"version\":\"3.1.1\",\"title\":\"Bokeh Application\",\"defs\":[],\"roots\":[{\"type\":\"object\",\"name\":\"Column\",\"id\":\"p1152\",\"attributes\":{\"children\":[{\"type\":\"object\",\"name\":\"Figure\",\"id\":\"p1004\",\"attributes\":{\"x_range\":{\"type\":\"object\",\"name\":\"DataRange1d\",\"id\":\"p1005\"},\"y_range\":{\"type\":\"object\",\"name\":\"DataRange1d\",\"id\":\"p1006\"},\"x_scale\":{\"type\":\"object\",\"name\":\"LinearScale\",\"id\":\"p1018\"},\"y_scale\":{\"type\":\"object\",\"name\":\"LinearScale\",\"id\":\"p1020\"},\"title\":{\"type\":\"object\",\"name\":\"Title\",\"id\":\"p1007\",\"attributes\":{\"text\":\"Model Loss\"}},\"renderers\":[{\"type\":\"object\",\"name\":\"GlyphRenderer\",\"id\":\"p1057\",\"attributes\":{\"data_source\":{\"type\":\"object\",\"name\":\"ColumnDataSource\",\"id\":\"p1001\",\"attributes\":{\"selected\":{\"type\":\"object\",\"name\":\"Selection\",\"id\":\"p1002\",\"attributes\":{\"indices\":[],\"line_indices\":[]}},\"selection_policy\":{\"type\":\"object\",\"name\":\"UnionRenderers\",\"id\":\"p1003\"},\"data\":{\"type\":\"map\",\"entries\":[[\"epoch\",[0,1,2,3,4,5,6,7,8,9,10,11,12,13,14,15,16,17,18,19,20,21]],[\"train_loss\",[0.6708484888076782,0.6292898058891296,0.5947695374488831,0.5791098475456238,0.5770101547241211,0.576179027557373,0.5731821656227112,0.5653804540634155,0.5548813939094543,0.5468780398368835,0.541508674621582,0.5376758575439453,0.5346446633338928,0.5320132970809937,0.5296118855476379,0.527350664138794,0.5251922607421875,0.5231273770332336,0.5211479067802429,0.5192505717277527,0.517436683177948,0.5157104134559631]],[\"test_loss\",[0.6507548093795776,0.6097701787948608,0.5833704471588135,0.5770837664604187,0.5771397352218628,0.5769827961921692,0.5744466781616211,0.5675554871559143,0.5601661205291748,0.5545887351036072,0.5507910847663879,0.5483002662658691,0.5464823246002197,0.5452920198440552,0.5443446040153503,0.5436875820159912,0.543287992477417,0.5431214570999146,0.5430335998535156,0.5431790947914124,0.5433444380760193,0.5437464714050293]]]}}},\"view\":{\"type\":\"object\",\"name\":\"CDSView\",\"id\":\"p1058\",\"attributes\":{\"filter\":{\"type\":\"object\",\"name\":\"AllIndices\",\"id\":\"p1059\"}}},\"glyph\":{\"type\":\"object\",\"name\":\"Line\",\"id\":\"p1054\",\"attributes\":{\"x\":{\"type\":\"field\",\"field\":\"epoch\"},\"y\":{\"type\":\"field\",\"field\":\"train_loss\"},\"line_color\":\"blue\",\"line_width\":2}},\"nonselection_glyph\":{\"type\":\"object\",\"name\":\"Line\",\"id\":\"p1055\",\"attributes\":{\"x\":{\"type\":\"field\",\"field\":\"epoch\"},\"y\":{\"type\":\"field\",\"field\":\"train_loss\"},\"line_color\":\"blue\",\"line_alpha\":0.1,\"line_width\":2}},\"muted_glyph\":{\"type\":\"object\",\"name\":\"Line\",\"id\":\"p1056\",\"attributes\":{\"x\":{\"type\":\"field\",\"field\":\"epoch\"},\"y\":{\"type\":\"field\",\"field\":\"train_loss\"},\"line_color\":\"blue\",\"line_alpha\":0.2,\"line_width\":2}}}},{\"type\":\"object\",\"name\":\"GlyphRenderer\",\"id\":\"p1068\",\"attributes\":{\"data_source\":{\"id\":\"p1001\"},\"view\":{\"type\":\"object\",\"name\":\"CDSView\",\"id\":\"p1069\",\"attributes\":{\"filter\":{\"type\":\"object\",\"name\":\"AllIndices\",\"id\":\"p1070\"}}},\"glyph\":{\"type\":\"object\",\"name\":\"Circle\",\"id\":\"p1065\",\"attributes\":{\"x\":{\"type\":\"field\",\"field\":\"epoch\"},\"y\":{\"type\":\"field\",\"field\":\"train_loss\"},\"size\":{\"type\":\"value\",\"value\":5},\"line_color\":{\"type\":\"value\",\"value\":\"blue\"},\"fill_color\":{\"type\":\"value\",\"value\":\"white\"}}},\"nonselection_glyph\":{\"type\":\"object\",\"name\":\"Circle\",\"id\":\"p1066\",\"attributes\":{\"x\":{\"type\":\"field\",\"field\":\"epoch\"},\"y\":{\"type\":\"field\",\"field\":\"train_loss\"},\"size\":{\"type\":\"value\",\"value\":5},\"line_color\":{\"type\":\"value\",\"value\":\"blue\"},\"line_alpha\":{\"type\":\"value\",\"value\":0.1},\"fill_color\":{\"type\":\"value\",\"value\":\"white\"},\"fill_alpha\":{\"type\":\"value\",\"value\":0.1},\"hatch_alpha\":{\"type\":\"value\",\"value\":0.1}}},\"muted_glyph\":{\"type\":\"object\",\"name\":\"Circle\",\"id\":\"p1067\",\"attributes\":{\"x\":{\"type\":\"field\",\"field\":\"epoch\"},\"y\":{\"type\":\"field\",\"field\":\"train_loss\"},\"size\":{\"type\":\"value\",\"value\":5},\"line_color\":{\"type\":\"value\",\"value\":\"blue\"},\"line_alpha\":{\"type\":\"value\",\"value\":0.2},\"fill_color\":{\"type\":\"value\",\"value\":\"white\"},\"fill_alpha\":{\"type\":\"value\",\"value\":0.2},\"hatch_alpha\":{\"type\":\"value\",\"value\":0.2}}}}},{\"type\":\"object\",\"name\":\"GlyphRenderer\",\"id\":\"p1077\",\"attributes\":{\"data_source\":{\"id\":\"p1001\"},\"view\":{\"type\":\"object\",\"name\":\"CDSView\",\"id\":\"p1078\",\"attributes\":{\"filter\":{\"type\":\"object\",\"name\":\"AllIndices\",\"id\":\"p1079\"}}},\"glyph\":{\"type\":\"object\",\"name\":\"Line\",\"id\":\"p1074\",\"attributes\":{\"x\":{\"type\":\"field\",\"field\":\"epoch\"},\"y\":{\"type\":\"field\",\"field\":\"test_loss\"},\"line_color\":\"red\",\"line_width\":2}},\"nonselection_glyph\":{\"type\":\"object\",\"name\":\"Line\",\"id\":\"p1075\",\"attributes\":{\"x\":{\"type\":\"field\",\"field\":\"epoch\"},\"y\":{\"type\":\"field\",\"field\":\"test_loss\"},\"line_color\":\"red\",\"line_alpha\":0.1,\"line_width\":2}},\"muted_glyph\":{\"type\":\"object\",\"name\":\"Line\",\"id\":\"p1076\",\"attributes\":{\"x\":{\"type\":\"field\",\"field\":\"epoch\"},\"y\":{\"type\":\"field\",\"field\":\"test_loss\"},\"line_color\":\"red\",\"line_alpha\":0.2,\"line_width\":2}}}},{\"type\":\"object\",\"name\":\"GlyphRenderer\",\"id\":\"p1087\",\"attributes\":{\"data_source\":{\"id\":\"p1001\"},\"view\":{\"type\":\"object\",\"name\":\"CDSView\",\"id\":\"p1088\",\"attributes\":{\"filter\":{\"type\":\"object\",\"name\":\"AllIndices\",\"id\":\"p1089\"}}},\"glyph\":{\"type\":\"object\",\"name\":\"Circle\",\"id\":\"p1084\",\"attributes\":{\"x\":{\"type\":\"field\",\"field\":\"epoch\"},\"y\":{\"type\":\"field\",\"field\":\"test_loss\"},\"size\":{\"type\":\"value\",\"value\":5},\"line_color\":{\"type\":\"value\",\"value\":\"red\"},\"fill_color\":{\"type\":\"value\",\"value\":\"white\"}}},\"nonselection_glyph\":{\"type\":\"object\",\"name\":\"Circle\",\"id\":\"p1085\",\"attributes\":{\"x\":{\"type\":\"field\",\"field\":\"epoch\"},\"y\":{\"type\":\"field\",\"field\":\"test_loss\"},\"size\":{\"type\":\"value\",\"value\":5},\"line_color\":{\"type\":\"value\",\"value\":\"red\"},\"line_alpha\":{\"type\":\"value\",\"value\":0.1},\"fill_color\":{\"type\":\"value\",\"value\":\"white\"},\"fill_alpha\":{\"type\":\"value\",\"value\":0.1},\"hatch_alpha\":{\"type\":\"value\",\"value\":0.1}}},\"muted_glyph\":{\"type\":\"object\",\"name\":\"Circle\",\"id\":\"p1086\",\"attributes\":{\"x\":{\"type\":\"field\",\"field\":\"epoch\"},\"y\":{\"type\":\"field\",\"field\":\"test_loss\"},\"size\":{\"type\":\"value\",\"value\":5},\"line_color\":{\"type\":\"value\",\"value\":\"red\"},\"line_alpha\":{\"type\":\"value\",\"value\":0.2},\"fill_color\":{\"type\":\"value\",\"value\":\"white\"},\"fill_alpha\":{\"type\":\"value\",\"value\":0.2},\"hatch_alpha\":{\"type\":\"value\",\"value\":0.2}}}}}],\"toolbar\":{\"type\":\"object\",\"name\":\"Toolbar\",\"id\":\"p1012\",\"attributes\":{\"tools\":[{\"type\":\"object\",\"name\":\"PanTool\",\"id\":\"p1036\"},{\"type\":\"object\",\"name\":\"WheelZoomTool\",\"id\":\"p1037\"},{\"type\":\"object\",\"name\":\"BoxZoomTool\",\"id\":\"p1038\",\"attributes\":{\"overlay\":{\"type\":\"object\",\"name\":\"BoxAnnotation\",\"id\":\"p1039\",\"attributes\":{\"syncable\":false,\"level\":\"overlay\",\"visible\":false,\"left_units\":\"canvas\",\"right_units\":\"canvas\",\"bottom_units\":\"canvas\",\"top_units\":\"canvas\",\"line_color\":\"black\",\"line_alpha\":1.0,\"line_width\":2,\"line_dash\":[4,4],\"fill_color\":\"lightgrey\",\"fill_alpha\":0.5}}}},{\"type\":\"object\",\"name\":\"SaveTool\",\"id\":\"p1040\"},{\"type\":\"object\",\"name\":\"ResetTool\",\"id\":\"p1041\"},{\"type\":\"object\",\"name\":\"HelpTool\",\"id\":\"p1042\"},{\"type\":\"object\",\"name\":\"HoverTool\",\"id\":\"p1090\",\"attributes\":{\"renderers\":\"auto\",\"tooltips\":[[\"Epoch\",\"@epoch\"],[\"Training Loss\",\"@train_loss\"],[\"Test Loss\",\"@test_loss\"]]}}]}},\"left\":[{\"type\":\"object\",\"name\":\"LinearAxis\",\"id\":\"p1029\",\"attributes\":{\"ticker\":{\"type\":\"object\",\"name\":\"BasicTicker\",\"id\":\"p1031\",\"attributes\":{\"mantissas\":[1,2,5]}},\"formatter\":{\"type\":\"object\",\"name\":\"BasicTickFormatter\",\"id\":\"p1032\"},\"axis_label\":\"Loss\",\"major_label_policy\":{\"type\":\"object\",\"name\":\"AllLabels\",\"id\":\"p1030\"}}}],\"below\":[{\"type\":\"object\",\"name\":\"LinearAxis\",\"id\":\"p1022\",\"attributes\":{\"ticker\":{\"type\":\"object\",\"name\":\"BasicTicker\",\"id\":\"p1024\",\"attributes\":{\"mantissas\":[1,2,5]}},\"formatter\":{\"type\":\"object\",\"name\":\"BasicTickFormatter\",\"id\":\"p1025\"},\"axis_label\":\"Epoch\",\"major_label_policy\":{\"type\":\"object\",\"name\":\"AllLabels\",\"id\":\"p1023\"}}}],\"center\":[{\"type\":\"object\",\"name\":\"Grid\",\"id\":\"p1028\",\"attributes\":{\"axis\":{\"id\":\"p1022\"}}},{\"type\":\"object\",\"name\":\"Grid\",\"id\":\"p1035\",\"attributes\":{\"dimension\":1,\"axis\":{\"id\":\"p1029\"}}},{\"type\":\"object\",\"name\":\"Legend\",\"id\":\"p1060\",\"attributes\":{\"items\":[{\"type\":\"object\",\"name\":\"LegendItem\",\"id\":\"p1061\",\"attributes\":{\"label\":{\"type\":\"value\",\"value\":\"Train\"},\"renderers\":[{\"id\":\"p1057\"},{\"id\":\"p1068\"}]}},{\"type\":\"object\",\"name\":\"LegendItem\",\"id\":\"p1080\",\"attributes\":{\"label\":{\"type\":\"value\",\"value\":\"Test\"},\"renderers\":[{\"id\":\"p1077\"},{\"id\":\"p1087\"}]}}]}}]}},{\"type\":\"object\",\"name\":\"Figure\",\"id\":\"p1092\",\"attributes\":{\"x_range\":{\"id\":\"p1005\"},\"y_range\":{\"type\":\"object\",\"name\":\"DataRange1d\",\"id\":\"p1094\"},\"x_scale\":{\"type\":\"object\",\"name\":\"LinearScale\",\"id\":\"p1105\"},\"y_scale\":{\"type\":\"object\",\"name\":\"LinearScale\",\"id\":\"p1107\"},\"title\":{\"type\":\"object\",\"name\":\"Title\",\"id\":\"p1095\",\"attributes\":{\"text\":\"Inverted Training Loss\"}},\"renderers\":[{\"type\":\"object\",\"name\":\"GlyphRenderer\",\"id\":\"p1147\",\"attributes\":{\"data_source\":{\"type\":\"object\",\"name\":\"ColumnDataSource\",\"id\":\"p1138\",\"attributes\":{\"selected\":{\"type\":\"object\",\"name\":\"Selection\",\"id\":\"p1139\",\"attributes\":{\"indices\":[],\"line_indices\":[]}},\"selection_policy\":{\"type\":\"object\",\"name\":\"UnionRenderers\",\"id\":\"p1140\"},\"data\":{\"type\":\"map\",\"entries\":[[\"epoch\",[0,1,2,3,4,5,6,7,8,9,10,11,12,13,14,15,16,17,18,19,20,21]],[\"inverted_train_loss\",[-0.6708484888076782,-0.6292898058891296,-0.5947695374488831,-0.5791098475456238,-0.5770101547241211,-0.576179027557373,-0.5731821656227112,-0.5653804540634155,-0.5548813939094543,-0.5468780398368835,-0.541508674621582,-0.5376758575439453,-0.5346446633338928,-0.5320132970809937,-0.5296118855476379,-0.527350664138794,-0.5251922607421875,-0.5231273770332336,-0.5211479067802429,-0.5192505717277527,-0.517436683177948,-0.5157104134559631]]]}}},\"view\":{\"type\":\"object\",\"name\":\"CDSView\",\"id\":\"p1148\",\"attributes\":{\"filter\":{\"type\":\"object\",\"name\":\"AllIndices\",\"id\":\"p1149\"}}},\"glyph\":{\"type\":\"object\",\"name\":\"VBar\",\"id\":\"p1144\",\"attributes\":{\"x\":{\"type\":\"field\",\"field\":\"epoch\"},\"width\":{\"type\":\"value\",\"value\":0.5},\"top\":{\"type\":\"field\",\"field\":\"inverted_train_loss\"},\"line_color\":{\"type\":\"value\",\"value\":\"green\"},\"fill_color\":{\"type\":\"value\",\"value\":\"green\"},\"hatch_color\":{\"type\":\"value\",\"value\":\"green\"}}},\"nonselection_glyph\":{\"type\":\"object\",\"name\":\"VBar\",\"id\":\"p1145\",\"attributes\":{\"x\":{\"type\":\"field\",\"field\":\"epoch\"},\"width\":{\"type\":\"value\",\"value\":0.5},\"top\":{\"type\":\"field\",\"field\":\"inverted_train_loss\"},\"line_color\":{\"type\":\"value\",\"value\":\"green\"},\"line_alpha\":{\"type\":\"value\",\"value\":0.1},\"fill_color\":{\"type\":\"value\",\"value\":\"green\"},\"fill_alpha\":{\"type\":\"value\",\"value\":0.1},\"hatch_color\":{\"type\":\"value\",\"value\":\"green\"},\"hatch_alpha\":{\"type\":\"value\",\"value\":0.1}}},\"muted_glyph\":{\"type\":\"object\",\"name\":\"VBar\",\"id\":\"p1146\",\"attributes\":{\"x\":{\"type\":\"field\",\"field\":\"epoch\"},\"width\":{\"type\":\"value\",\"value\":0.5},\"top\":{\"type\":\"field\",\"field\":\"inverted_train_loss\"},\"line_color\":{\"type\":\"value\",\"value\":\"green\"},\"line_alpha\":{\"type\":\"value\",\"value\":0.2},\"fill_color\":{\"type\":\"value\",\"value\":\"green\"},\"fill_alpha\":{\"type\":\"value\",\"value\":0.2},\"hatch_color\":{\"type\":\"value\",\"value\":\"green\"},\"hatch_alpha\":{\"type\":\"value\",\"value\":0.2}}}}}],\"toolbar\":{\"type\":\"object\",\"name\":\"Toolbar\",\"id\":\"p1100\",\"attributes\":{\"tools\":[{\"type\":\"object\",\"name\":\"PanTool\",\"id\":\"p1123\"},{\"type\":\"object\",\"name\":\"WheelZoomTool\",\"id\":\"p1124\"},{\"type\":\"object\",\"name\":\"BoxZoomTool\",\"id\":\"p1125\",\"attributes\":{\"overlay\":{\"type\":\"object\",\"name\":\"BoxAnnotation\",\"id\":\"p1126\",\"attributes\":{\"syncable\":false,\"level\":\"overlay\",\"visible\":false,\"left_units\":\"canvas\",\"right_units\":\"canvas\",\"bottom_units\":\"canvas\",\"top_units\":\"canvas\",\"line_color\":\"black\",\"line_alpha\":1.0,\"line_width\":2,\"line_dash\":[4,4],\"fill_color\":\"lightgrey\",\"fill_alpha\":0.5}}}},{\"type\":\"object\",\"name\":\"SaveTool\",\"id\":\"p1127\"},{\"type\":\"object\",\"name\":\"ResetTool\",\"id\":\"p1128\"},{\"type\":\"object\",\"name\":\"HelpTool\",\"id\":\"p1129\"},{\"type\":\"object\",\"name\":\"HoverTool\",\"id\":\"p1150\",\"attributes\":{\"renderers\":[{\"id\":\"p1147\"}],\"tooltips\":[[\"Epoch\",\"@epoch\"],[\"Inverted Training Loss\",\"@inverted_train_loss\"]]}}]}},\"left\":[{\"type\":\"object\",\"name\":\"LinearAxis\",\"id\":\"p1116\",\"attributes\":{\"ticker\":{\"type\":\"object\",\"name\":\"BasicTicker\",\"id\":\"p1118\",\"attributes\":{\"mantissas\":[1,2,5]}},\"formatter\":{\"type\":\"object\",\"name\":\"BasicTickFormatter\",\"id\":\"p1119\"},\"axis_label\":\"Loss\",\"major_label_policy\":{\"type\":\"object\",\"name\":\"AllLabels\",\"id\":\"p1117\"}}}],\"below\":[{\"type\":\"object\",\"name\":\"LinearAxis\",\"id\":\"p1109\",\"attributes\":{\"ticker\":{\"type\":\"object\",\"name\":\"BasicTicker\",\"id\":\"p1111\",\"attributes\":{\"mantissas\":[1,2,5]}},\"formatter\":{\"type\":\"object\",\"name\":\"BasicTickFormatter\",\"id\":\"p1112\"},\"axis_label\":\"Epoch\",\"major_label_policy\":{\"type\":\"object\",\"name\":\"AllLabels\",\"id\":\"p1110\"}}}],\"center\":[{\"type\":\"object\",\"name\":\"Grid\",\"id\":\"p1115\",\"attributes\":{\"axis\":{\"id\":\"p1109\"}}},{\"type\":\"object\",\"name\":\"Grid\",\"id\":\"p1122\",\"attributes\":{\"dimension\":1,\"axis\":{\"id\":\"p1116\"}}}]}}]}}],\"callbacks\":{\"type\":\"map\"}}};\n",
       "  const render_items = [{\"docid\":\"8033e08c-77f1-4154-9118-a7546f57dbec\",\"roots\":{\"p1152\":\"fbc7a5dc-249c-4c6f-b2a1-6a90e1b7e7b7\"},\"root_ids\":[\"p1152\"],\"notebook_comms_target\":\"p1188\"}];\n",
       "  root.Bokeh.embed.embed_items_notebook(docs_json, render_items);\n",
       "  }\n",
       "  if (root.Bokeh !== undefined) {\n",
       "    embed_document(root);\n",
       "  } else {\n",
       "    let attempts = 0;\n",
       "    const timer = setInterval(function(root) {\n",
       "      if (root.Bokeh !== undefined) {\n",
       "        clearInterval(timer);\n",
       "        embed_document(root);\n",
       "      } else {\n",
       "        attempts++;\n",
       "        if (attempts > 100) {\n",
       "          clearInterval(timer);\n",
       "          console.log(\"Bokeh: ERROR: Unable to run BokehJS code because BokehJS library is missing\");\n",
       "        }\n",
       "      }\n",
       "    }, 10, root)\n",
       "  }\n",
       "})(window);"
      ],
      "application/vnd.bokehjs_exec.v0+json": ""
     },
     "metadata": {
      "application/vnd.bokehjs_exec.v0+json": {
       "id": "p1152"
      }
     },
     "output_type": "display_data"
    },
    {
     "data": {
      "text/html": [
       "<p><code>&lt;Bokeh Notebook handle for <strong>In[15]</strong>&gt;</code></p>"
      ],
      "text/plain": [
       "<bokeh.io.notebook.CommsHandle at 0x1b4163c2d90>"
      ]
     },
     "execution_count": 15,
     "metadata": {},
     "output_type": "execute_result"
    }
   ],
   "source": [
    "# Importing necessary libraries for plotting using Bokeh and setting up output to notebook\n",
    "from bokeh.plotting import figure, show, output_notebook\n",
    "from bokeh.layouts import column\n",
    "from bokeh.models import ColumnDataSource, HoverTool\n",
    "\n",
    "output_notebook()  # Display Bokeh plots in the notebook\n",
    "\n",
    "# Creating a dictionary 'data' containing epoch, training loss, and test loss data for plotting\n",
    "data = {\n",
    "    'epoch': list(range(len(history.history[\"loss\"]))),  # Epochs as x-axis data\n",
    "    'train_loss': history.history[\"loss\"],  # Training loss as y-axis data\n",
    "    'test_loss': history.history[\"val_loss\"]  # Test/validation loss as y-axis data\n",
    "}\n",
    "\n",
    "# Creating a ColumnDataSource object using the data dictionary for line plot\n",
    "source = ColumnDataSource(data=data)\n",
    "\n",
    "# Creating a Bokeh figure 'p_line' for line plot with appropriate labels\n",
    "p_line = figure(title=\"Model Loss\", x_axis_label=\"Epoch\", y_axis_label=\"Loss\")\n",
    "\n",
    "# Adding line glyphs for training and test loss to the figure 'p_line'\n",
    "train_line = p_line.line('epoch', 'train_loss', source=source, legend_label=\"Train\", line_width=2, line_color=\"blue\")\n",
    "p_line.circle('epoch', 'train_loss', source=source, legend_label=\"Train\", size=5, fill_color=\"white\", line_color=\"blue\")\n",
    "test_line = p_line.line('epoch', 'test_loss', source=source, legend_label=\"Test\", line_width=2, line_color=\"red\")\n",
    "p_line.circle('epoch', 'test_loss', source=source, legend_label=\"Test\", size=5, fill_color=\"white\", line_color=\"red\")\n",
    "\n",
    "# Adding HoverTool with tooltips to the line plot for epoch, training loss, and test loss\n",
    "hover_line = HoverTool()\n",
    "hover_line.tooltips = [\n",
    "    (\"Epoch\", \"@epoch\"),\n",
    "    (\"Training Loss\", \"@train_loss\"),\n",
    "    (\"Test Loss\", \"@test_loss\")\n",
    "]\n",
    "p_line.add_tools(hover_line)\n",
    "\n",
    "# Creating a Bokeh figure 'p_bar' for inverted training loss in a bar graph\n",
    "p_bar = figure(title=\"Inverted Training Loss\", x_axis_label=\"Epoch\", y_axis_label=\"Loss\", x_range=p_line.x_range)\n",
    "\n",
    "# Generating inverted training loss data for the bar graph\n",
    "inverted_train_loss = [-loss for loss in history.history[\"loss\"]]\n",
    "inverted_source = ColumnDataSource(data={'epoch': data['epoch'], 'inverted_train_loss': inverted_train_loss})\n",
    "\n",
    "# Adding a bar glyph for inverted training loss to the figure 'p_bar'\n",
    "bar = p_bar.vbar(x='epoch', top='inverted_train_loss', width=0.5, source=inverted_source, color=\"green\")\n",
    "\n",
    "# Adding HoverTool with tooltips to the bar graph for epoch and inverted training loss\n",
    "hover_bar = HoverTool(renderers=[bar])\n",
    "hover_bar.tooltips = [\n",
    "    (\"Epoch\", \"@epoch\"),\n",
    "    (\"Inverted Training Loss\", \"@inverted_train_loss\")\n",
    "]\n",
    "p_bar.add_tools(hover_bar)\n",
    "\n",
    "# Combining the line plot and bar graph using a layout (column layout in this case)\n",
    "combined_plot = column(p_line, p_bar)\n",
    "\n",
    "# Displaying the combined Bokeh plot in the notebook cell\n",
    "show(combined_plot, notebook_handle=True)\n"
   ]
  },
  {
   "cell_type": "code",
   "execution_count": 16,
   "id": "d480e4e3",
   "metadata": {},
   "outputs": [
    {
     "data": {
      "image/png": "[encoded data removed]",
      "text/plain": [
       "<Figure size 640x480 with 1 Axes>"
      ]
     },
     "metadata": {},
     "output_type": "display_data"
    }
   ],
   "source": [
    "# Plotting training results: Mean Squared Error (MSE) over epochs\n",
    "# Truncating the last 3 epochs to exclude potential outlier values from early stopping\n",
    "plt.plot(history.history[\"mse\"][:-3])  # Plotting training MSE\n",
    "plt.plot(history.history[\"val_mse\"][:-3])  # Plotting validation/test MSE\n",
    "plt.title('Model MSE')  # Setting plot title\n",
    "plt.ylabel('MSE')  # Label for y-axis\n",
    "plt.xlabel('Epoch')  # Label for x-axis\n",
    "plt.legend(['Train', 'Test'], loc='upper left')  # Adding legend for train and test lines\n",
    "plt.show()  # Displaying the plot"
   ]
  },
  {
   "cell_type": "code",
   "execution_count": 17,
   "id": "91d2d057",
   "metadata": {},
   "outputs": [
    {
     "data": {
      "text/html": [
       "\n",
       "  <div id=\"e2a60dce-a582-4015-96a1-984c0302a8af\" data-root-id=\"p1532\" style=\"display: contents;\"></div>\n"
      ]
     },
     "metadata": {},
     "output_type": "display_data"
    },
    {
     "data": {
      "application/javascript": [
       "(function(root) {\n",
       "  function embed_document(root) {\n",
       "  const docs_json = {\"aa227a22-4fed-4dc7-a72a-c01e49b7a0d0\":{\"version\":\"3.1.1\",\"title\":\"Bokeh Application\",\"defs\":[],\"roots\":[{\"type\":\"object\",\"name\":\"Column\",\"id\":\"p1532\",\"attributes\":{\"children\":[{\"type\":\"object\",\"name\":\"Figure\",\"id\":\"p1373\",\"attributes\":{\"x_range\":{\"type\":\"object\",\"name\":\"DataRange1d\",\"id\":\"p1374\"},\"y_range\":{\"type\":\"object\",\"name\":\"DataRange1d\",\"id\":\"p1375\"},\"x_scale\":{\"type\":\"object\",\"name\":\"LinearScale\",\"id\":\"p1387\"},\"y_scale\":{\"type\":\"object\",\"name\":\"LinearScale\",\"id\":\"p1389\"},\"title\":{\"type\":\"object\",\"name\":\"Title\",\"id\":\"p1376\",\"attributes\":{\"text\":\"Model MSE\"}},\"renderers\":[{\"type\":\"object\",\"name\":\"GlyphRenderer\",\"id\":\"p1426\",\"attributes\":{\"data_source\":{\"type\":\"object\",\"name\":\"ColumnDataSource\",\"id\":\"p1370\",\"attributes\":{\"selected\":{\"type\":\"object\",\"name\":\"Selection\",\"id\":\"p1371\",\"attributes\":{\"indices\":[],\"line_indices\":[]}},\"selection_policy\":{\"type\":\"object\",\"name\":\"UnionRenderers\",\"id\":\"p1372\"},\"data\":{\"type\":\"map\",\"entries\":[[\"epoch\",[0,1,2,3,4,5,6,7,8,9,10,11,12,13,14,15,16,17,18]],[\"train_mse\",[0.07859007269144058,0.05808360502123833,0.04172642529010773,0.034817252308130264,0.033961791545152664,0.033640068024396896,0.032489560544490814,0.029537109658122063,0.02559627965092659,0.022573543712496758,0.020552951842546463,0.01912815310060978,0.018021035939455032,0.01708180457353592,0.016244061291217804,0.01547027938067913,0.014745538122951984,0.014064333401620388,0.013421538285911083]],[\"val_mse\",[0.06821482628583908,0.04828052222728729,0.036214716732501984,0.033578138798475266,0.033597223460674286,0.033532172441482544,0.03255573287606239,0.02997604012489319,0.02717689797282219,0.025053778663277626,0.023634813725948334,0.0227012000977993,0.022023847326636314,0.021579889580607414,0.021235596388578415,0.02098437212407589,0.020828066393733025,0.020745404064655304,0.02067948877811432]]]}}},\"view\":{\"type\":\"object\",\"name\":\"CDSView\",\"id\":\"p1427\",\"attributes\":{\"filter\":{\"type\":\"object\",\"name\":\"AllIndices\",\"id\":\"p1428\"}}},\"glyph\":{\"type\":\"object\",\"name\":\"Line\",\"id\":\"p1423\",\"attributes\":{\"x\":{\"type\":\"field\",\"field\":\"epoch\"},\"y\":{\"type\":\"field\",\"field\":\"train_mse\"},\"line_color\":\"blue\",\"line_width\":2}},\"nonselection_glyph\":{\"type\":\"object\",\"name\":\"Line\",\"id\":\"p1424\",\"attributes\":{\"x\":{\"type\":\"field\",\"field\":\"epoch\"},\"y\":{\"type\":\"field\",\"field\":\"train_mse\"},\"line_color\":\"blue\",\"line_alpha\":0.1,\"line_width\":2}},\"muted_glyph\":{\"type\":\"object\",\"name\":\"Line\",\"id\":\"p1425\",\"attributes\":{\"x\":{\"type\":\"field\",\"field\":\"epoch\"},\"y\":{\"type\":\"field\",\"field\":\"train_mse\"},\"line_color\":\"blue\",\"line_alpha\":0.2,\"line_width\":2}}}},{\"type\":\"object\",\"name\":\"GlyphRenderer\",\"id\":\"p1437\",\"attributes\":{\"data_source\":{\"id\":\"p1370\"},\"view\":{\"type\":\"object\",\"name\":\"CDSView\",\"id\":\"p1438\",\"attributes\":{\"filter\":{\"type\":\"object\",\"name\":\"AllIndices\",\"id\":\"p1439\"}}},\"glyph\":{\"type\":\"object\",\"name\":\"Line\",\"id\":\"p1434\",\"attributes\":{\"x\":{\"type\":\"field\",\"field\":\"epoch\"},\"y\":{\"type\":\"field\",\"field\":\"val_mse\"},\"line_color\":\"red\",\"line_width\":2}},\"nonselection_glyph\":{\"type\":\"object\",\"name\":\"Line\",\"id\":\"p1435\",\"attributes\":{\"x\":{\"type\":\"field\",\"field\":\"epoch\"},\"y\":{\"type\":\"field\",\"field\":\"val_mse\"},\"line_color\":\"red\",\"line_alpha\":0.1,\"line_width\":2}},\"muted_glyph\":{\"type\":\"object\",\"name\":\"Line\",\"id\":\"p1436\",\"attributes\":{\"x\":{\"type\":\"field\",\"field\":\"epoch\"},\"y\":{\"type\":\"field\",\"field\":\"val_mse\"},\"line_color\":\"red\",\"line_alpha\":0.2,\"line_width\":2}}}},{\"type\":\"object\",\"name\":\"GlyphRenderer\",\"id\":\"p1447\",\"attributes\":{\"data_source\":{\"id\":\"p1370\"},\"view\":{\"type\":\"object\",\"name\":\"CDSView\",\"id\":\"p1448\",\"attributes\":{\"filter\":{\"type\":\"object\",\"name\":\"AllIndices\",\"id\":\"p1449\"}}},\"glyph\":{\"type\":\"object\",\"name\":\"Circle\",\"id\":\"p1444\",\"attributes\":{\"x\":{\"type\":\"field\",\"field\":\"epoch\"},\"y\":{\"type\":\"field\",\"field\":\"train_mse\"},\"size\":{\"type\":\"value\",\"value\":8},\"line_color\":{\"type\":\"value\",\"value\":\"blue\"},\"line_alpha\":{\"type\":\"value\",\"value\":0.5},\"fill_color\":{\"type\":\"value\",\"value\":\"blue\"},\"fill_alpha\":{\"type\":\"value\",\"value\":0.5},\"hatch_color\":{\"type\":\"value\",\"value\":\"blue\"},\"hatch_alpha\":{\"type\":\"value\",\"value\":0.5}}},\"nonselection_glyph\":{\"type\":\"object\",\"name\":\"Circle\",\"id\":\"p1445\",\"attributes\":{\"x\":{\"type\":\"field\",\"field\":\"epoch\"},\"y\":{\"type\":\"field\",\"field\":\"train_mse\"},\"size\":{\"type\":\"value\",\"value\":8},\"line_color\":{\"type\":\"value\",\"value\":\"blue\"},\"line_alpha\":{\"type\":\"value\",\"value\":0.1},\"fill_color\":{\"type\":\"value\",\"value\":\"blue\"},\"fill_alpha\":{\"type\":\"value\",\"value\":0.1},\"hatch_color\":{\"type\":\"value\",\"value\":\"blue\"},\"hatch_alpha\":{\"type\":\"value\",\"value\":0.1}}},\"muted_glyph\":{\"type\":\"object\",\"name\":\"Circle\",\"id\":\"p1446\",\"attributes\":{\"x\":{\"type\":\"field\",\"field\":\"epoch\"},\"y\":{\"type\":\"field\",\"field\":\"train_mse\"},\"size\":{\"type\":\"value\",\"value\":8},\"line_color\":{\"type\":\"value\",\"value\":\"blue\"},\"line_alpha\":{\"type\":\"value\",\"value\":0.2},\"fill_color\":{\"type\":\"value\",\"value\":\"blue\"},\"fill_alpha\":{\"type\":\"value\",\"value\":0.2},\"hatch_color\":{\"type\":\"value\",\"value\":\"blue\"},\"hatch_alpha\":{\"type\":\"value\",\"value\":0.2}}}}},{\"type\":\"object\",\"name\":\"GlyphRenderer\",\"id\":\"p1456\",\"attributes\":{\"data_source\":{\"id\":\"p1370\"},\"view\":{\"type\":\"object\",\"name\":\"CDSView\",\"id\":\"p1457\",\"attributes\":{\"filter\":{\"type\":\"object\",\"name\":\"AllIndices\",\"id\":\"p1458\"}}},\"glyph\":{\"type\":\"object\",\"name\":\"Circle\",\"id\":\"p1453\",\"attributes\":{\"x\":{\"type\":\"field\",\"field\":\"epoch\"},\"y\":{\"type\":\"field\",\"field\":\"val_mse\"},\"size\":{\"type\":\"value\",\"value\":8},\"line_color\":{\"type\":\"value\",\"value\":\"red\"},\"line_alpha\":{\"type\":\"value\",\"value\":0.5},\"fill_color\":{\"type\":\"value\",\"value\":\"red\"},\"fill_alpha\":{\"type\":\"value\",\"value\":0.5},\"hatch_color\":{\"type\":\"value\",\"value\":\"red\"},\"hatch_alpha\":{\"type\":\"value\",\"value\":0.5}}},\"nonselection_glyph\":{\"type\":\"object\",\"name\":\"Circle\",\"id\":\"p1454\",\"attributes\":{\"x\":{\"type\":\"field\",\"field\":\"epoch\"},\"y\":{\"type\":\"field\",\"field\":\"val_mse\"},\"size\":{\"type\":\"value\",\"value\":8},\"line_color\":{\"type\":\"value\",\"value\":\"red\"},\"line_alpha\":{\"type\":\"value\",\"value\":0.1},\"fill_color\":{\"type\":\"value\",\"value\":\"red\"},\"fill_alpha\":{\"type\":\"value\",\"value\":0.1},\"hatch_color\":{\"type\":\"value\",\"value\":\"red\"},\"hatch_alpha\":{\"type\":\"value\",\"value\":0.1}}},\"muted_glyph\":{\"type\":\"object\",\"name\":\"Circle\",\"id\":\"p1455\",\"attributes\":{\"x\":{\"type\":\"field\",\"field\":\"epoch\"},\"y\":{\"type\":\"field\",\"field\":\"val_mse\"},\"size\":{\"type\":\"value\",\"value\":8},\"line_color\":{\"type\":\"value\",\"value\":\"red\"},\"line_alpha\":{\"type\":\"value\",\"value\":0.2},\"fill_color\":{\"type\":\"value\",\"value\":\"red\"},\"fill_alpha\":{\"type\":\"value\",\"value\":0.2},\"hatch_color\":{\"type\":\"value\",\"value\":\"red\"},\"hatch_alpha\":{\"type\":\"value\",\"value\":0.2}}}}}],\"toolbar\":{\"type\":\"object\",\"name\":\"Toolbar\",\"id\":\"p1381\",\"attributes\":{\"tools\":[{\"type\":\"object\",\"name\":\"PanTool\",\"id\":\"p1405\"},{\"type\":\"object\",\"name\":\"WheelZoomTool\",\"id\":\"p1406\"},{\"type\":\"object\",\"name\":\"BoxZoomTool\",\"id\":\"p1407\",\"attributes\":{\"overlay\":{\"type\":\"object\",\"name\":\"BoxAnnotation\",\"id\":\"p1408\",\"attributes\":{\"syncable\":false,\"level\":\"overlay\",\"visible\":false,\"left_units\":\"canvas\",\"right_units\":\"canvas\",\"bottom_units\":\"canvas\",\"top_units\":\"canvas\",\"line_color\":\"black\",\"line_alpha\":1.0,\"line_width\":2,\"line_dash\":[4,4],\"fill_color\":\"lightgrey\",\"fill_alpha\":0.5}}}},{\"type\":\"object\",\"name\":\"SaveTool\",\"id\":\"p1409\"},{\"type\":\"object\",\"name\":\"ResetTool\",\"id\":\"p1410\"},{\"type\":\"object\",\"name\":\"HelpTool\",\"id\":\"p1411\"},{\"type\":\"object\",\"name\":\"HoverTool\",\"id\":\"p1459\",\"attributes\":{\"renderers\":[{\"id\":\"p1447\"},{\"id\":\"p1456\"}],\"tooltips\":[[\"Epoch\",\"@epoch\"],[\"Training MSE\",\"@train_mse\"],[\"Validation MSE\",\"@val_mse\"]]}}]}},\"left\":[{\"type\":\"object\",\"name\":\"LinearAxis\",\"id\":\"p1398\",\"attributes\":{\"ticker\":{\"type\":\"object\",\"name\":\"BasicTicker\",\"id\":\"p1400\",\"attributes\":{\"mantissas\":[1,2,5]}},\"formatter\":{\"type\":\"object\",\"name\":\"BasicTickFormatter\",\"id\":\"p1401\"},\"axis_label\":\"MSE\",\"major_label_policy\":{\"type\":\"object\",\"name\":\"AllLabels\",\"id\":\"p1399\"}}}],\"below\":[{\"type\":\"object\",\"name\":\"LinearAxis\",\"id\":\"p1391\",\"attributes\":{\"ticker\":{\"type\":\"object\",\"name\":\"BasicTicker\",\"id\":\"p1393\",\"attributes\":{\"mantissas\":[1,2,5]}},\"formatter\":{\"type\":\"object\",\"name\":\"BasicTickFormatter\",\"id\":\"p1394\"},\"axis_label\":\"Epoch\",\"major_label_policy\":{\"type\":\"object\",\"name\":\"AllLabels\",\"id\":\"p1392\"}}}],\"center\":[{\"type\":\"object\",\"name\":\"Grid\",\"id\":\"p1397\",\"attributes\":{\"axis\":{\"id\":\"p1391\"}}},{\"type\":\"object\",\"name\":\"Grid\",\"id\":\"p1404\",\"attributes\":{\"dimension\":1,\"axis\":{\"id\":\"p1398\"}}},{\"type\":\"object\",\"name\":\"Legend\",\"id\":\"p1429\",\"attributes\":{\"items\":[{\"type\":\"object\",\"name\":\"LegendItem\",\"id\":\"p1430\",\"attributes\":{\"label\":{\"type\":\"value\",\"value\":\"Train\"},\"renderers\":[{\"id\":\"p1426\"},{\"id\":\"p1447\"}]}},{\"type\":\"object\",\"name\":\"LegendItem\",\"id\":\"p1440\",\"attributes\":{\"label\":{\"type\":\"value\",\"value\":\"Test\"},\"renderers\":[{\"id\":\"p1437\"},{\"id\":\"p1456\"}]}}]}}]}},{\"type\":\"object\",\"name\":\"Figure\",\"id\":\"p1464\",\"attributes\":{\"x_range\":{\"id\":\"p1374\"},\"y_range\":{\"type\":\"object\",\"name\":\"DataRange1d\",\"id\":\"p1466\"},\"x_scale\":{\"type\":\"object\",\"name\":\"LinearScale\",\"id\":\"p1477\"},\"y_scale\":{\"type\":\"object\",\"name\":\"LinearScale\",\"id\":\"p1479\"},\"title\":{\"type\":\"object\",\"name\":\"Title\",\"id\":\"p1467\",\"attributes\":{\"text\":\"Inverted Training MSE\"}},\"renderers\":[{\"type\":\"object\",\"name\":\"GlyphRenderer\",\"id\":\"p1516\",\"attributes\":{\"data_source\":{\"type\":\"object\",\"name\":\"ColumnDataSource\",\"id\":\"p1461\",\"attributes\":{\"selected\":{\"type\":\"object\",\"name\":\"Selection\",\"id\":\"p1462\",\"attributes\":{\"indices\":[],\"line_indices\":[]}},\"selection_policy\":{\"type\":\"object\",\"name\":\"UnionRenderers\",\"id\":\"p1463\"},\"data\":{\"type\":\"map\",\"entries\":[[\"epoch\",[0,1,2,3,4,5,6,7,8,9,10,11,12,13,14,15,16,17,18]],[\"inverted_train_mse\",{\"type\":\"ndarray\",\"array\":{\"type\":\"bytes\",\"data\":\"eJeKVB9+2z8vAvKNj33BP973S8ljsdo/mqfNn2X0xT/eM5DI1CfWP2JnbSzmesg/7oUyE1aq0T/G8/k6qoHUP3wcI/3UudY/qO6ygDXDzj+8vMP28/TSPzVBDNNiY8c/UkgDlrgh0j8yD6OGglPQPxwcsklUBNM/ID2+01IR3D88xC9uAJPZP9VdgPxS9tM/6vN4Y40L2T8=\"},\"shape\":[19],\"dtype\":\"float64\",\"order\":\"little\"}]]}}},\"view\":{\"type\":\"object\",\"name\":\"CDSView\",\"id\":\"p1517\",\"attributes\":{\"filter\":{\"type\":\"object\",\"name\":\"AllIndices\",\"id\":\"p1518\"}}},\"glyph\":{\"type\":\"object\",\"name\":\"VBar\",\"id\":\"p1513\",\"attributes\":{\"x\":{\"type\":\"field\",\"field\":\"epoch\"},\"width\":{\"type\":\"value\",\"value\":0.5},\"top\":{\"type\":\"field\",\"field\":\"inverted_train_mse\"},\"fill_color\":{\"type\":\"value\",\"value\":\"red\"},\"hatch_color\":{\"type\":\"value\",\"value\":\"red\"}}},\"nonselection_glyph\":{\"type\":\"object\",\"name\":\"VBar\",\"id\":\"p1514\",\"attributes\":{\"x\":{\"type\":\"field\",\"field\":\"epoch\"},\"width\":{\"type\":\"value\",\"value\":0.5},\"top\":{\"type\":\"field\",\"field\":\"inverted_train_mse\"},\"line_alpha\":{\"type\":\"value\",\"value\":0.1},\"fill_color\":{\"type\":\"value\",\"value\":\"red\"},\"fill_alpha\":{\"type\":\"value\",\"value\":0.1},\"hatch_color\":{\"type\":\"value\",\"value\":\"red\"},\"hatch_alpha\":{\"type\":\"value\",\"value\":0.1}}},\"muted_glyph\":{\"type\":\"object\",\"name\":\"VBar\",\"id\":\"p1515\",\"attributes\":{\"x\":{\"type\":\"field\",\"field\":\"epoch\"},\"width\":{\"type\":\"value\",\"value\":0.5},\"top\":{\"type\":\"field\",\"field\":\"inverted_train_mse\"},\"line_alpha\":{\"type\":\"value\",\"value\":0.2},\"fill_color\":{\"type\":\"value\",\"value\":\"red\"},\"fill_alpha\":{\"type\":\"value\",\"value\":0.2},\"hatch_color\":{\"type\":\"value\",\"value\":\"red\"},\"hatch_alpha\":{\"type\":\"value\",\"value\":0.2}}}}},{\"type\":\"object\",\"name\":\"GlyphRenderer\",\"id\":\"p1525\",\"attributes\":{\"data_source\":{\"type\":\"object\",\"name\":\"ColumnDataSource\",\"id\":\"p1519\",\"attributes\":{\"selected\":{\"type\":\"object\",\"name\":\"Selection\",\"id\":\"p1520\",\"attributes\":{\"indices\":[],\"line_indices\":[]}},\"selection_policy\":{\"type\":\"object\",\"name\":\"UnionRenderers\",\"id\":\"p1521\"},\"data\":{\"type\":\"map\",\"entries\":[[\"x\",{\"type\":\"ndarray\",\"array\":{\"type\":\"bytes\",\"data\":\"BgAAAA==\"},\"shape\":[1],\"dtype\":\"int32\",\"order\":\"little\"}],[\"y\",{\"type\":\"ndarray\",\"array\":{\"type\":\"bytes\",\"data\":\"6g+G2mLszD8=\"},\"shape\":[1],\"dtype\":\"float64\",\"order\":\"little\"}]]}}},\"view\":{\"type\":\"object\",\"name\":\"CDSView\",\"id\":\"p1526\",\"attributes\":{\"filter\":{\"type\":\"object\",\"name\":\"AllIndices\",\"id\":\"p1527\"}}},\"glyph\":{\"type\":\"object\",\"name\":\"Circle\",\"id\":\"p1522\",\"attributes\":{\"x\":{\"type\":\"field\",\"field\":\"x\"},\"y\":{\"type\":\"field\",\"field\":\"y\"},\"size\":{\"type\":\"value\",\"value\":8},\"line_color\":{\"type\":\"value\",\"value\":\"yellow\"},\"line_alpha\":{\"type\":\"value\",\"value\":0.5},\"fill_color\":{\"type\":\"value\",\"value\":\"yellow\"},\"fill_alpha\":{\"type\":\"value\",\"value\":0.5},\"hatch_color\":{\"type\":\"value\",\"value\":\"yellow\"},\"hatch_alpha\":{\"type\":\"value\",\"value\":0.5}}},\"nonselection_glyph\":{\"type\":\"object\",\"name\":\"Circle\",\"id\":\"p1523\",\"attributes\":{\"x\":{\"type\":\"field\",\"field\":\"x\"},\"y\":{\"type\":\"field\",\"field\":\"y\"},\"size\":{\"type\":\"value\",\"value\":8},\"line_color\":{\"type\":\"value\",\"value\":\"yellow\"},\"line_alpha\":{\"type\":\"value\",\"value\":0.1},\"fill_color\":{\"type\":\"value\",\"value\":\"yellow\"},\"fill_alpha\":{\"type\":\"value\",\"value\":0.1},\"hatch_color\":{\"type\":\"value\",\"value\":\"yellow\"},\"hatch_alpha\":{\"type\":\"value\",\"value\":0.1}}},\"muted_glyph\":{\"type\":\"object\",\"name\":\"Circle\",\"id\":\"p1524\",\"attributes\":{\"x\":{\"type\":\"field\",\"field\":\"x\"},\"y\":{\"type\":\"field\",\"field\":\"y\"},\"size\":{\"type\":\"value\",\"value\":8},\"line_color\":{\"type\":\"value\",\"value\":\"yellow\"},\"line_alpha\":{\"type\":\"value\",\"value\":0.2},\"fill_color\":{\"type\":\"value\",\"value\":\"yellow\"},\"fill_alpha\":{\"type\":\"value\",\"value\":0.2},\"hatch_color\":{\"type\":\"value\",\"value\":\"yellow\"},\"hatch_alpha\":{\"type\":\"value\",\"value\":0.2}}}}}],\"toolbar\":{\"type\":\"object\",\"name\":\"Toolbar\",\"id\":\"p1472\",\"attributes\":{\"tools\":[{\"type\":\"object\",\"name\":\"PanTool\",\"id\":\"p1495\"},{\"type\":\"object\",\"name\":\"WheelZoomTool\",\"id\":\"p1496\"},{\"type\":\"object\",\"name\":\"BoxZoomTool\",\"id\":\"p1497\",\"attributes\":{\"overlay\":{\"type\":\"object\",\"name\":\"BoxAnnotation\",\"id\":\"p1498\",\"attributes\":{\"syncable\":false,\"level\":\"overlay\",\"visible\":false,\"left_units\":\"canvas\",\"right_units\":\"canvas\",\"bottom_units\":\"canvas\",\"top_units\":\"canvas\",\"line_color\":\"black\",\"line_alpha\":1.0,\"line_width\":2,\"line_dash\":[4,4],\"fill_color\":\"lightgrey\",\"fill_alpha\":0.5}}}},{\"type\":\"object\",\"name\":\"SaveTool\",\"id\":\"p1499\"},{\"type\":\"object\",\"name\":\"ResetTool\",\"id\":\"p1500\"},{\"type\":\"object\",\"name\":\"HelpTool\",\"id\":\"p1501\"},{\"type\":\"object\",\"name\":\"HoverTool\",\"id\":\"p1530\",\"attributes\":{\"renderers\":[{\"id\":\"p1516\"}],\"tooltips\":[[\"Epoch\",\"@epoch\"],[\"Inverted Training MSE\",\"@inverted_train_mse\"]]}}]}},\"left\":[{\"type\":\"object\",\"name\":\"LinearAxis\",\"id\":\"p1488\",\"attributes\":{\"ticker\":{\"type\":\"object\",\"name\":\"BasicTicker\",\"id\":\"p1490\",\"attributes\":{\"mantissas\":[1,2,5]}},\"formatter\":{\"type\":\"object\",\"name\":\"BasicTickFormatter\",\"id\":\"p1491\"},\"axis_label\":\"MSE\",\"major_label_policy\":{\"type\":\"object\",\"name\":\"AllLabels\",\"id\":\"p1489\"}}}],\"below\":[{\"type\":\"object\",\"name\":\"LinearAxis\",\"id\":\"p1481\",\"attributes\":{\"ticker\":{\"type\":\"object\",\"name\":\"BasicTicker\",\"id\":\"p1483\",\"attributes\":{\"mantissas\":[1,2,5]}},\"formatter\":{\"type\":\"object\",\"name\":\"BasicTickFormatter\",\"id\":\"p1484\"},\"axis_label\":\"Epoch\",\"major_label_policy\":{\"type\":\"object\",\"name\":\"AllLabels\",\"id\":\"p1482\"}}}],\"center\":[{\"type\":\"object\",\"name\":\"Grid\",\"id\":\"p1487\",\"attributes\":{\"axis\":{\"id\":\"p1481\"}}},{\"type\":\"object\",\"name\":\"Grid\",\"id\":\"p1494\",\"attributes\":{\"dimension\":1,\"axis\":{\"id\":\"p1488\"}}},{\"type\":\"object\",\"name\":\"Legend\",\"id\":\"p1528\",\"attributes\":{\"items\":[{\"type\":\"object\",\"name\":\"LegendItem\",\"id\":\"p1529\",\"attributes\":{\"label\":{\"type\":\"value\",\"value\":\"Circle Points\"},\"renderers\":[{\"id\":\"p1525\"}]}}]}}]}}]}}],\"callbacks\":{\"type\":\"map\"}}};\n",
       "  const render_items = [{\"docid\":\"aa227a22-4fed-4dc7-a72a-c01e49b7a0d0\",\"roots\":{\"p1532\":\"e2a60dce-a582-4015-96a1-984c0302a8af\"},\"root_ids\":[\"p1532\"]}];\n",
       "  root.Bokeh.embed.embed_items_notebook(docs_json, render_items);\n",
       "  }\n",
       "  if (root.Bokeh !== undefined) {\n",
       "    embed_document(root);\n",
       "  } else {\n",
       "    let attempts = 0;\n",
       "    const timer = setInterval(function(root) {\n",
       "      if (root.Bokeh !== undefined) {\n",
       "        clearInterval(timer);\n",
       "        embed_document(root);\n",
       "      } else {\n",
       "        attempts++;\n",
       "        if (attempts > 100) {\n",
       "          clearInterval(timer);\n",
       "          console.log(\"Bokeh: ERROR: Unable to run BokehJS code because BokehJS library is missing\");\n",
       "        }\n",
       "      }\n",
       "    }, 10, root)\n",
       "  }\n",
       "})(window);"
      ],
      "application/vnd.bokehjs_exec.v0+json": ""
     },
     "metadata": {
      "application/vnd.bokehjs_exec.v0+json": {
       "id": "p1532"
      }
     },
     "output_type": "display_data"
    }
   ],
   "source": [
    "#Training results # 2\n",
    "from bokeh.plotting import figure, show\n",
    "from bokeh.models import ColumnDataSource, HoverTool\n",
    "from bokeh.layouts import column\n",
    "import numpy as np\n",
    "\n",
    "# Assuming 'history' contains 'mse' and 'val_mse'\n",
    "\n",
    "# Data for training and validation MSE\n",
    "data = {\n",
    "    'epoch': list(range(len(history.history[\"mse\"][:-3]))),\n",
    "    'train_mse': history.history[\"mse\"][:-3],\n",
    "    'val_mse': history.history[\"val_mse\"][:-3]\n",
    "}\n",
    "source = ColumnDataSource(data=data)\n",
    "\n",
    "# Creating the figure for the line plot\n",
    "p_line = figure(title=\"Model MSE\", x_axis_label=\"Epoch\", y_axis_label=\"MSE\")\n",
    "train_line = p_line.line('epoch', 'train_mse', source=source, legend_label=\"Train\", line_width=2, line_color=\"blue\")\n",
    "val_line = p_line.line('epoch', 'val_mse', source=source, legend_label=\"Test\", line_width=2, line_color=\"red\")\n",
    "\n",
    "# Circle glyphs for training and validation MSE on the line plot\n",
    "train_circle = p_line.circle('epoch', 'train_mse', source=source, legend_label=\"Train\", size=8, color=\"blue\", alpha=0.5)\n",
    "val_circle = p_line.circle('epoch', 'val_mse', source=source, legend_label=\"Test\", size=8, color=\"red\", alpha=0.5)\n",
    "\n",
    "# HoverTool for tooltips on the line plot\n",
    "hover_line = HoverTool(renderers=[train_circle, val_circle])\n",
    "hover_line.tooltips = [\n",
    "    (\"Epoch\", \"@epoch\"),\n",
    "    (\"Training MSE\", \"@train_mse\"),\n",
    "    (\"Validation MSE\", \"@val_mse\")\n",
    "]\n",
    "p_line.add_tools(hover_line)\n",
    "\n",
    "# Random sample data for the bar chart\n",
    "sample_epochs = list(range(len(history.history[\"mse\"][:-3])))\n",
    "inverted_train_mse = np.random.uniform(low=0.1, high=0.5, size=len(sample_epochs))\n",
    "\n",
    "# ColumnDataSource for the bar chart\n",
    "bar_data = {\n",
    "    'epoch': sample_epochs,\n",
    "    'inverted_train_mse': inverted_train_mse\n",
    "}\n",
    "bar_source = ColumnDataSource(data=bar_data)\n",
    "\n",
    "# Creating the figure for the bar chart with red shaded bars\n",
    "p_bar = figure(title=\"Inverted Training MSE\", x_axis_label=\"Epoch\", y_axis_label=\"MSE\", x_range=p_line.x_range)\n",
    "bar = p_bar.vbar(x='epoch', top='inverted_train_mse', width=0.5, source=bar_source, color=\"red\", line_color=\"black\")\n",
    "\n",
    "# Generating random circle points for bars\n",
    "circle_epochs = np.random.choice(range(len(sample_epochs)), int(len(sample_epochs) * 0.1), replace=False)\n",
    "circle_values = np.random.uniform(low=0.1, high=0.5, size=len(circle_epochs))\n",
    "\n",
    "# Adding circle points to the bar chart\n",
    "p_bar.circle(circle_epochs, circle_values, legend_label=\"Circle Points\", size=8, color=\"yellow\", alpha=0.5)\n",
    "\n",
    "# HoverTool for tooltips on the bar chart\n",
    "hover_bar = HoverTool(renderers=[bar])\n",
    "hover_bar.tooltips = [\n",
    "    (\"Epoch\", \"@epoch\"),\n",
    "    (\"Inverted Training MSE\", \"@inverted_train_mse\")\n",
    "]\n",
    "p_bar.add_tools(hover_bar)\n",
    "\n",
    "# Combining the line plot and bar chart in a column layout\n",
    "combined_plot = column(p_line, p_bar)\n",
    "\n",
    "# Displaying the combined Bokeh plot\n",
    "show(combined_plot)\n"
   ]
  },
  {
   "cell_type": "code",
   "execution_count": 18,
   "id": "aa112659",
   "metadata": {},
   "outputs": [
    {
     "data": {
      "image/png": "[encoded data removed]",
      "text/plain": [
       "<Figure size 640x480 with 1 Axes>"
      ]
     },
     "metadata": {},
     "output_type": "display_data"
    }
   ],
   "source": [
    "# Plotting training results: Mean Absolute Error (MAE) over epochs\n",
    "# Excluding the last 3 epochs to potentially exclude outlier values due to early stopping\n",
    "plt.plot(history.history[\"mae\"][:-3])  # Plotting training MAE\n",
    "plt.plot(history.history[\"val_mae\"][:-3])  # Plotting validation/test MAE\n",
    "plt.title('Model MAE')  # Setting plot title\n",
    "plt.ylabel('MAE')  # Label for y-axis\n",
    "plt.xlabel('Epoch')  # Label for x-axis\n",
    "plt.legend(['Train', 'Test'], loc='upper left')  # Adding legend for train and test lines\n",
    "plt.show()  # Displaying the plot"
   ]
  },
  {
   "cell_type": "code",
   "execution_count": 19,
   "id": "c131441a",
   "metadata": {},
   "outputs": [
    {
     "data": {
      "text/html": [
       "\n",
       "  <div id=\"d6c5fd33-4c43-4856-841d-b99d0a87591f\" data-root-id=\"p1979\" style=\"display: contents;\"></div>\n"
      ]
     },
     "metadata": {},
     "output_type": "display_data"
    },
    {
     "data": {
      "application/javascript": [
       "(function(root) {\n",
       "  function embed_document(root) {\n",
       "  const docs_json = {\"4b52e948-5126-45fe-8207-24d6eaedfcfe\":{\"version\":\"3.1.1\",\"title\":\"Bokeh Application\",\"defs\":[],\"roots\":[{\"type\":\"object\",\"name\":\"Column\",\"id\":\"p1979\",\"attributes\":{\"children\":[{\"type\":\"object\",\"name\":\"Figure\",\"id\":\"p1820\",\"attributes\":{\"x_range\":{\"type\":\"object\",\"name\":\"DataRange1d\",\"id\":\"p1821\"},\"y_range\":{\"type\":\"object\",\"name\":\"DataRange1d\",\"id\":\"p1822\"},\"x_scale\":{\"type\":\"object\",\"name\":\"LinearScale\",\"id\":\"p1834\"},\"y_scale\":{\"type\":\"object\",\"name\":\"LinearScale\",\"id\":\"p1836\"},\"title\":{\"type\":\"object\",\"name\":\"Title\",\"id\":\"p1823\",\"attributes\":{\"text\":\"Model MAE\"}},\"renderers\":[{\"type\":\"object\",\"name\":\"GlyphRenderer\",\"id\":\"p1873\",\"attributes\":{\"data_source\":{\"type\":\"object\",\"name\":\"ColumnDataSource\",\"id\":\"p1817\",\"attributes\":{\"selected\":{\"type\":\"object\",\"name\":\"Selection\",\"id\":\"p1818\",\"attributes\":{\"indices\":[],\"line_indices\":[]}},\"selection_policy\":{\"type\":\"object\",\"name\":\"UnionRenderers\",\"id\":\"p1819\"},\"data\":{\"type\":\"map\",\"entries\":[[\"epoch\",[0,1,2,3,4,5,6,7,8,9,10,11,12,13,14,15,16,17,18]],[\"train_mae\",[0.24313762784004211,0.2037188708782196,0.1653333604335785,0.14923542737960815,0.1459667980670929,0.14464332163333893,0.14093227684497833,0.13312307000160217,0.12302029132843018,0.11509338766336441,0.10949325561523438,0.10534486919641495,0.10199245065450668,0.09901446849107742,0.096319779753685,0.0937158465385437,0.09124475717544556,0.08886539936065674,0.08653631806373596]],[\"val_mae\",[0.2227010726928711,0.1842675507068634,0.15238848328590393,0.14640437066555023,0.14566044509410858,0.14484411478042603,0.14141157269477844,0.1346031129360199,0.12719929218292236,0.12173034995794296,0.11798117309808731,0.11547531932592392,0.11354658007621765,0.11217106878757477,0.11118806153535843,0.11027000844478607,0.10968802124261856,0.109244704246521,0.10888742655515671]]]}}},\"view\":{\"type\":\"object\",\"name\":\"CDSView\",\"id\":\"p1874\",\"attributes\":{\"filter\":{\"type\":\"object\",\"name\":\"AllIndices\",\"id\":\"p1875\"}}},\"glyph\":{\"type\":\"object\",\"name\":\"Line\",\"id\":\"p1870\",\"attributes\":{\"x\":{\"type\":\"field\",\"field\":\"epoch\"},\"y\":{\"type\":\"field\",\"field\":\"train_mae\"},\"line_color\":\"blue\",\"line_width\":2}},\"nonselection_glyph\":{\"type\":\"object\",\"name\":\"Line\",\"id\":\"p1871\",\"attributes\":{\"x\":{\"type\":\"field\",\"field\":\"epoch\"},\"y\":{\"type\":\"field\",\"field\":\"train_mae\"},\"line_color\":\"blue\",\"line_alpha\":0.1,\"line_width\":2}},\"muted_glyph\":{\"type\":\"object\",\"name\":\"Line\",\"id\":\"p1872\",\"attributes\":{\"x\":{\"type\":\"field\",\"field\":\"epoch\"},\"y\":{\"type\":\"field\",\"field\":\"train_mae\"},\"line_color\":\"blue\",\"line_alpha\":0.2,\"line_width\":2}}}},{\"type\":\"object\",\"name\":\"GlyphRenderer\",\"id\":\"p1884\",\"attributes\":{\"data_source\":{\"id\":\"p1817\"},\"view\":{\"type\":\"object\",\"name\":\"CDSView\",\"id\":\"p1885\",\"attributes\":{\"filter\":{\"type\":\"object\",\"name\":\"AllIndices\",\"id\":\"p1886\"}}},\"glyph\":{\"type\":\"object\",\"name\":\"Line\",\"id\":\"p1881\",\"attributes\":{\"x\":{\"type\":\"field\",\"field\":\"epoch\"},\"y\":{\"type\":\"field\",\"field\":\"val_mae\"},\"line_color\":\"red\",\"line_width\":2}},\"nonselection_glyph\":{\"type\":\"object\",\"name\":\"Line\",\"id\":\"p1882\",\"attributes\":{\"x\":{\"type\":\"field\",\"field\":\"epoch\"},\"y\":{\"type\":\"field\",\"field\":\"val_mae\"},\"line_color\":\"red\",\"line_alpha\":0.1,\"line_width\":2}},\"muted_glyph\":{\"type\":\"object\",\"name\":\"Line\",\"id\":\"p1883\",\"attributes\":{\"x\":{\"type\":\"field\",\"field\":\"epoch\"},\"y\":{\"type\":\"field\",\"field\":\"val_mae\"},\"line_color\":\"red\",\"line_alpha\":0.2,\"line_width\":2}}}},{\"type\":\"object\",\"name\":\"GlyphRenderer\",\"id\":\"p1894\",\"attributes\":{\"data_source\":{\"id\":\"p1817\"},\"view\":{\"type\":\"object\",\"name\":\"CDSView\",\"id\":\"p1895\",\"attributes\":{\"filter\":{\"type\":\"object\",\"name\":\"AllIndices\",\"id\":\"p1896\"}}},\"glyph\":{\"type\":\"object\",\"name\":\"Circle\",\"id\":\"p1891\",\"attributes\":{\"x\":{\"type\":\"field\",\"field\":\"epoch\"},\"y\":{\"type\":\"field\",\"field\":\"train_mae\"},\"size\":{\"type\":\"value\",\"value\":8},\"line_color\":{\"type\":\"value\",\"value\":\"blue\"},\"line_alpha\":{\"type\":\"value\",\"value\":0.5},\"fill_color\":{\"type\":\"value\",\"value\":\"blue\"},\"fill_alpha\":{\"type\":\"value\",\"value\":0.5},\"hatch_color\":{\"type\":\"value\",\"value\":\"blue\"},\"hatch_alpha\":{\"type\":\"value\",\"value\":0.5}}},\"nonselection_glyph\":{\"type\":\"object\",\"name\":\"Circle\",\"id\":\"p1892\",\"attributes\":{\"x\":{\"type\":\"field\",\"field\":\"epoch\"},\"y\":{\"type\":\"field\",\"field\":\"train_mae\"},\"size\":{\"type\":\"value\",\"value\":8},\"line_color\":{\"type\":\"value\",\"value\":\"blue\"},\"line_alpha\":{\"type\":\"value\",\"value\":0.1},\"fill_color\":{\"type\":\"value\",\"value\":\"blue\"},\"fill_alpha\":{\"type\":\"value\",\"value\":0.1},\"hatch_color\":{\"type\":\"value\",\"value\":\"blue\"},\"hatch_alpha\":{\"type\":\"value\",\"value\":0.1}}},\"muted_glyph\":{\"type\":\"object\",\"name\":\"Circle\",\"id\":\"p1893\",\"attributes\":{\"x\":{\"type\":\"field\",\"field\":\"epoch\"},\"y\":{\"type\":\"field\",\"field\":\"train_mae\"},\"size\":{\"type\":\"value\",\"value\":8},\"line_color\":{\"type\":\"value\",\"value\":\"blue\"},\"line_alpha\":{\"type\":\"value\",\"value\":0.2},\"fill_color\":{\"type\":\"value\",\"value\":\"blue\"},\"fill_alpha\":{\"type\":\"value\",\"value\":0.2},\"hatch_color\":{\"type\":\"value\",\"value\":\"blue\"},\"hatch_alpha\":{\"type\":\"value\",\"value\":0.2}}}}},{\"type\":\"object\",\"name\":\"GlyphRenderer\",\"id\":\"p1903\",\"attributes\":{\"data_source\":{\"id\":\"p1817\"},\"view\":{\"type\":\"object\",\"name\":\"CDSView\",\"id\":\"p1904\",\"attributes\":{\"filter\":{\"type\":\"object\",\"name\":\"AllIndices\",\"id\":\"p1905\"}}},\"glyph\":{\"type\":\"object\",\"name\":\"Circle\",\"id\":\"p1900\",\"attributes\":{\"x\":{\"type\":\"field\",\"field\":\"epoch\"},\"y\":{\"type\":\"field\",\"field\":\"val_mae\"},\"size\":{\"type\":\"value\",\"value\":8},\"line_color\":{\"type\":\"value\",\"value\":\"red\"},\"line_alpha\":{\"type\":\"value\",\"value\":0.5},\"fill_color\":{\"type\":\"value\",\"value\":\"red\"},\"fill_alpha\":{\"type\":\"value\",\"value\":0.5},\"hatch_color\":{\"type\":\"value\",\"value\":\"red\"},\"hatch_alpha\":{\"type\":\"value\",\"value\":0.5}}},\"nonselection_glyph\":{\"type\":\"object\",\"name\":\"Circle\",\"id\":\"p1901\",\"attributes\":{\"x\":{\"type\":\"field\",\"field\":\"epoch\"},\"y\":{\"type\":\"field\",\"field\":\"val_mae\"},\"size\":{\"type\":\"value\",\"value\":8},\"line_color\":{\"type\":\"value\",\"value\":\"red\"},\"line_alpha\":{\"type\":\"value\",\"value\":0.1},\"fill_color\":{\"type\":\"value\",\"value\":\"red\"},\"fill_alpha\":{\"type\":\"value\",\"value\":0.1},\"hatch_color\":{\"type\":\"value\",\"value\":\"red\"},\"hatch_alpha\":{\"type\":\"value\",\"value\":0.1}}},\"muted_glyph\":{\"type\":\"object\",\"name\":\"Circle\",\"id\":\"p1902\",\"attributes\":{\"x\":{\"type\":\"field\",\"field\":\"epoch\"},\"y\":{\"type\":\"field\",\"field\":\"val_mae\"},\"size\":{\"type\":\"value\",\"value\":8},\"line_color\":{\"type\":\"value\",\"value\":\"red\"},\"line_alpha\":{\"type\":\"value\",\"value\":0.2},\"fill_color\":{\"type\":\"value\",\"value\":\"red\"},\"fill_alpha\":{\"type\":\"value\",\"value\":0.2},\"hatch_color\":{\"type\":\"value\",\"value\":\"red\"},\"hatch_alpha\":{\"type\":\"value\",\"value\":0.2}}}}}],\"toolbar\":{\"type\":\"object\",\"name\":\"Toolbar\",\"id\":\"p1828\",\"attributes\":{\"tools\":[{\"type\":\"object\",\"name\":\"PanTool\",\"id\":\"p1852\"},{\"type\":\"object\",\"name\":\"WheelZoomTool\",\"id\":\"p1853\"},{\"type\":\"object\",\"name\":\"BoxZoomTool\",\"id\":\"p1854\",\"attributes\":{\"overlay\":{\"type\":\"object\",\"name\":\"BoxAnnotation\",\"id\":\"p1855\",\"attributes\":{\"syncable\":false,\"level\":\"overlay\",\"visible\":false,\"left_units\":\"canvas\",\"right_units\":\"canvas\",\"bottom_units\":\"canvas\",\"top_units\":\"canvas\",\"line_color\":\"black\",\"line_alpha\":1.0,\"line_width\":2,\"line_dash\":[4,4],\"fill_color\":\"lightgrey\",\"fill_alpha\":0.5}}}},{\"type\":\"object\",\"name\":\"SaveTool\",\"id\":\"p1856\"},{\"type\":\"object\",\"name\":\"ResetTool\",\"id\":\"p1857\"},{\"type\":\"object\",\"name\":\"HelpTool\",\"id\":\"p1858\"},{\"type\":\"object\",\"name\":\"HoverTool\",\"id\":\"p1906\",\"attributes\":{\"renderers\":[{\"id\":\"p1894\"},{\"id\":\"p1903\"}],\"tooltips\":[[\"Epoch\",\"@epoch\"],[\"Training MAE\",\"@train_mae\"],[\"Validation MAE\",\"@val_mae\"]]}}]}},\"left\":[{\"type\":\"object\",\"name\":\"LinearAxis\",\"id\":\"p1845\",\"attributes\":{\"ticker\":{\"type\":\"object\",\"name\":\"BasicTicker\",\"id\":\"p1847\",\"attributes\":{\"mantissas\":[1,2,5]}},\"formatter\":{\"type\":\"object\",\"name\":\"BasicTickFormatter\",\"id\":\"p1848\"},\"axis_label\":\"MAE\",\"major_label_policy\":{\"type\":\"object\",\"name\":\"AllLabels\",\"id\":\"p1846\"}}}],\"below\":[{\"type\":\"object\",\"name\":\"LinearAxis\",\"id\":\"p1838\",\"attributes\":{\"ticker\":{\"type\":\"object\",\"name\":\"BasicTicker\",\"id\":\"p1840\",\"attributes\":{\"mantissas\":[1,2,5]}},\"formatter\":{\"type\":\"object\",\"name\":\"BasicTickFormatter\",\"id\":\"p1841\"},\"axis_label\":\"Epoch\",\"major_label_policy\":{\"type\":\"object\",\"name\":\"AllLabels\",\"id\":\"p1839\"}}}],\"center\":[{\"type\":\"object\",\"name\":\"Grid\",\"id\":\"p1844\",\"attributes\":{\"axis\":{\"id\":\"p1838\"}}},{\"type\":\"object\",\"name\":\"Grid\",\"id\":\"p1851\",\"attributes\":{\"dimension\":1,\"axis\":{\"id\":\"p1845\"}}},{\"type\":\"object\",\"name\":\"Legend\",\"id\":\"p1876\",\"attributes\":{\"items\":[{\"type\":\"object\",\"name\":\"LegendItem\",\"id\":\"p1877\",\"attributes\":{\"label\":{\"type\":\"value\",\"value\":\"Train\"},\"renderers\":[{\"id\":\"p1873\"},{\"id\":\"p1894\"}]}},{\"type\":\"object\",\"name\":\"LegendItem\",\"id\":\"p1887\",\"attributes\":{\"label\":{\"type\":\"value\",\"value\":\"Test\"},\"renderers\":[{\"id\":\"p1884\"},{\"id\":\"p1903\"}]}}]}}]}},{\"type\":\"object\",\"name\":\"Figure\",\"id\":\"p1911\",\"attributes\":{\"x_range\":{\"id\":\"p1821\"},\"y_range\":{\"type\":\"object\",\"name\":\"DataRange1d\",\"id\":\"p1913\"},\"x_scale\":{\"type\":\"object\",\"name\":\"LinearScale\",\"id\":\"p1924\"},\"y_scale\":{\"type\":\"object\",\"name\":\"LinearScale\",\"id\":\"p1926\"},\"title\":{\"type\":\"object\",\"name\":\"Title\",\"id\":\"p1914\",\"attributes\":{\"text\":\"Inverted Training MAE\"}},\"renderers\":[{\"type\":\"object\",\"name\":\"GlyphRenderer\",\"id\":\"p1963\",\"attributes\":{\"data_source\":{\"type\":\"object\",\"name\":\"ColumnDataSource\",\"id\":\"p1908\",\"attributes\":{\"selected\":{\"type\":\"object\",\"name\":\"Selection\",\"id\":\"p1909\",\"attributes\":{\"indices\":[],\"line_indices\":[]}},\"selection_policy\":{\"type\":\"object\",\"name\":\"UnionRenderers\",\"id\":\"p1910\"},\"data\":{\"type\":\"map\",\"entries\":[[\"epoch\",[0,1,2,3,4,5,6,7,8,9,10,11,12,13,14,15,16,17,18]],[\"inverted_train_mae\",{\"type\":\"ndarray\",\"array\":{\"type\":\"bytes\",\"data\":\"XNctgKmx0D/yHbt5EkDHP2UjogUoH8s/PMhcR3dixj9gsVqZ/HXVP4dv0sYKGro/RSG8keZpxj8dKVgp38rUP4Q+U3MbUdE/pzXwLCJbxz+uHy3eM5jYPwS4UToVttA/MnCp/Bng2D/nuFFjAaq7PyDdrttJuLw/ghaPlJFc0D9atxNwYsnVP0WWFWjKysU/MtF49kBg0D8=\"},\"shape\":[19],\"dtype\":\"float64\",\"order\":\"little\"}]]}}},\"view\":{\"type\":\"object\",\"name\":\"CDSView\",\"id\":\"p1964\",\"attributes\":{\"filter\":{\"type\":\"object\",\"name\":\"AllIndices\",\"id\":\"p1965\"}}},\"glyph\":{\"type\":\"object\",\"name\":\"VBar\",\"id\":\"p1960\",\"attributes\":{\"x\":{\"type\":\"field\",\"field\":\"epoch\"},\"width\":{\"type\":\"value\",\"value\":0.5},\"top\":{\"type\":\"field\",\"field\":\"inverted_train_mae\"},\"fill_color\":{\"type\":\"value\",\"value\":\"red\"},\"hatch_color\":{\"type\":\"value\",\"value\":\"red\"}}},\"nonselection_glyph\":{\"type\":\"object\",\"name\":\"VBar\",\"id\":\"p1961\",\"attributes\":{\"x\":{\"type\":\"field\",\"field\":\"epoch\"},\"width\":{\"type\":\"value\",\"value\":0.5},\"top\":{\"type\":\"field\",\"field\":\"inverted_train_mae\"},\"line_alpha\":{\"type\":\"value\",\"value\":0.1},\"fill_color\":{\"type\":\"value\",\"value\":\"red\"},\"fill_alpha\":{\"type\":\"value\",\"value\":0.1},\"hatch_color\":{\"type\":\"value\",\"value\":\"red\"},\"hatch_alpha\":{\"type\":\"value\",\"value\":0.1}}},\"muted_glyph\":{\"type\":\"object\",\"name\":\"VBar\",\"id\":\"p1962\",\"attributes\":{\"x\":{\"type\":\"field\",\"field\":\"epoch\"},\"width\":{\"type\":\"value\",\"value\":0.5},\"top\":{\"type\":\"field\",\"field\":\"inverted_train_mae\"},\"line_alpha\":{\"type\":\"value\",\"value\":0.2},\"fill_color\":{\"type\":\"value\",\"value\":\"red\"},\"fill_alpha\":{\"type\":\"value\",\"value\":0.2},\"hatch_color\":{\"type\":\"value\",\"value\":\"red\"},\"hatch_alpha\":{\"type\":\"value\",\"value\":0.2}}}}},{\"type\":\"object\",\"name\":\"GlyphRenderer\",\"id\":\"p1972\",\"attributes\":{\"data_source\":{\"type\":\"object\",\"name\":\"ColumnDataSource\",\"id\":\"p1966\",\"attributes\":{\"selected\":{\"type\":\"object\",\"name\":\"Selection\",\"id\":\"p1967\",\"attributes\":{\"indices\":[],\"line_indices\":[]}},\"selection_policy\":{\"type\":\"object\",\"name\":\"UnionRenderers\",\"id\":\"p1968\"},\"data\":{\"type\":\"map\",\"entries\":[[\"x\",{\"type\":\"ndarray\",\"array\":{\"type\":\"bytes\",\"data\":\"DgAAAA==\"},\"shape\":[1],\"dtype\":\"int32\",\"order\":\"little\"}],[\"y\",{\"type\":\"ndarray\",\"array\":{\"type\":\"bytes\",\"data\":\"HerHuPYfwT8=\"},\"shape\":[1],\"dtype\":\"float64\",\"order\":\"little\"}]]}}},\"view\":{\"type\":\"object\",\"name\":\"CDSView\",\"id\":\"p1973\",\"attributes\":{\"filter\":{\"type\":\"object\",\"name\":\"AllIndices\",\"id\":\"p1974\"}}},\"glyph\":{\"type\":\"object\",\"name\":\"Circle\",\"id\":\"p1969\",\"attributes\":{\"x\":{\"type\":\"field\",\"field\":\"x\"},\"y\":{\"type\":\"field\",\"field\":\"y\"},\"size\":{\"type\":\"value\",\"value\":8},\"line_color\":{\"type\":\"value\",\"value\":\"yellow\"},\"line_alpha\":{\"type\":\"value\",\"value\":0.5},\"fill_color\":{\"type\":\"value\",\"value\":\"yellow\"},\"fill_alpha\":{\"type\":\"value\",\"value\":0.5},\"hatch_color\":{\"type\":\"value\",\"value\":\"yellow\"},\"hatch_alpha\":{\"type\":\"value\",\"value\":0.5}}},\"nonselection_glyph\":{\"type\":\"object\",\"name\":\"Circle\",\"id\":\"p1970\",\"attributes\":{\"x\":{\"type\":\"field\",\"field\":\"x\"},\"y\":{\"type\":\"field\",\"field\":\"y\"},\"size\":{\"type\":\"value\",\"value\":8},\"line_color\":{\"type\":\"value\",\"value\":\"yellow\"},\"line_alpha\":{\"type\":\"value\",\"value\":0.1},\"fill_color\":{\"type\":\"value\",\"value\":\"yellow\"},\"fill_alpha\":{\"type\":\"value\",\"value\":0.1},\"hatch_color\":{\"type\":\"value\",\"value\":\"yellow\"},\"hatch_alpha\":{\"type\":\"value\",\"value\":0.1}}},\"muted_glyph\":{\"type\":\"object\",\"name\":\"Circle\",\"id\":\"p1971\",\"attributes\":{\"x\":{\"type\":\"field\",\"field\":\"x\"},\"y\":{\"type\":\"field\",\"field\":\"y\"},\"size\":{\"type\":\"value\",\"value\":8},\"line_color\":{\"type\":\"value\",\"value\":\"yellow\"},\"line_alpha\":{\"type\":\"value\",\"value\":0.2},\"fill_color\":{\"type\":\"value\",\"value\":\"yellow\"},\"fill_alpha\":{\"type\":\"value\",\"value\":0.2},\"hatch_color\":{\"type\":\"value\",\"value\":\"yellow\"},\"hatch_alpha\":{\"type\":\"value\",\"value\":0.2}}}}}],\"toolbar\":{\"type\":\"object\",\"name\":\"Toolbar\",\"id\":\"p1919\",\"attributes\":{\"tools\":[{\"type\":\"object\",\"name\":\"PanTool\",\"id\":\"p1942\"},{\"type\":\"object\",\"name\":\"WheelZoomTool\",\"id\":\"p1943\"},{\"type\":\"object\",\"name\":\"BoxZoomTool\",\"id\":\"p1944\",\"attributes\":{\"overlay\":{\"type\":\"object\",\"name\":\"BoxAnnotation\",\"id\":\"p1945\",\"attributes\":{\"syncable\":false,\"level\":\"overlay\",\"visible\":false,\"left_units\":\"canvas\",\"right_units\":\"canvas\",\"bottom_units\":\"canvas\",\"top_units\":\"canvas\",\"line_color\":\"black\",\"line_alpha\":1.0,\"line_width\":2,\"line_dash\":[4,4],\"fill_color\":\"lightgrey\",\"fill_alpha\":0.5}}}},{\"type\":\"object\",\"name\":\"SaveTool\",\"id\":\"p1946\"},{\"type\":\"object\",\"name\":\"ResetTool\",\"id\":\"p1947\"},{\"type\":\"object\",\"name\":\"HelpTool\",\"id\":\"p1948\"},{\"type\":\"object\",\"name\":\"HoverTool\",\"id\":\"p1977\",\"attributes\":{\"renderers\":[{\"id\":\"p1963\"}],\"tooltips\":[[\"Epoch\",\"@epoch\"],[\"Inverted Training MaE\",\"@inverted_train_mae\"]]}}]}},\"left\":[{\"type\":\"object\",\"name\":\"LinearAxis\",\"id\":\"p1935\",\"attributes\":{\"ticker\":{\"type\":\"object\",\"name\":\"BasicTicker\",\"id\":\"p1937\",\"attributes\":{\"mantissas\":[1,2,5]}},\"formatter\":{\"type\":\"object\",\"name\":\"BasicTickFormatter\",\"id\":\"p1938\"},\"axis_label\":\"MAE\",\"major_label_policy\":{\"type\":\"object\",\"name\":\"AllLabels\",\"id\":\"p1936\"}}}],\"below\":[{\"type\":\"object\",\"name\":\"LinearAxis\",\"id\":\"p1928\",\"attributes\":{\"ticker\":{\"type\":\"object\",\"name\":\"BasicTicker\",\"id\":\"p1930\",\"attributes\":{\"mantissas\":[1,2,5]}},\"formatter\":{\"type\":\"object\",\"name\":\"BasicTickFormatter\",\"id\":\"p1931\"},\"axis_label\":\"Epoch\",\"major_label_policy\":{\"type\":\"object\",\"name\":\"AllLabels\",\"id\":\"p1929\"}}}],\"center\":[{\"type\":\"object\",\"name\":\"Grid\",\"id\":\"p1934\",\"attributes\":{\"axis\":{\"id\":\"p1928\"}}},{\"type\":\"object\",\"name\":\"Grid\",\"id\":\"p1941\",\"attributes\":{\"dimension\":1,\"axis\":{\"id\":\"p1935\"}}},{\"type\":\"object\",\"name\":\"Legend\",\"id\":\"p1975\",\"attributes\":{\"items\":[{\"type\":\"object\",\"name\":\"LegendItem\",\"id\":\"p1976\",\"attributes\":{\"label\":{\"type\":\"value\",\"value\":\"Circle Points\"},\"renderers\":[{\"id\":\"p1972\"}]}}]}}]}}]}}],\"callbacks\":{\"type\":\"map\"}}};\n",
       "  const render_items = [{\"docid\":\"4b52e948-5126-45fe-8207-24d6eaedfcfe\",\"roots\":{\"p1979\":\"d6c5fd33-4c43-4856-841d-b99d0a87591f\"},\"root_ids\":[\"p1979\"]}];\n",
       "  root.Bokeh.embed.embed_items_notebook(docs_json, render_items);\n",
       "  }\n",
       "  if (root.Bokeh !== undefined) {\n",
       "    embed_document(root);\n",
       "  } else {\n",
       "    let attempts = 0;\n",
       "    const timer = setInterval(function(root) {\n",
       "      if (root.Bokeh !== undefined) {\n",
       "        clearInterval(timer);\n",
       "        embed_document(root);\n",
       "      } else {\n",
       "        attempts++;\n",
       "        if (attempts > 100) {\n",
       "          clearInterval(timer);\n",
       "          console.log(\"Bokeh: ERROR: Unable to run BokehJS code because BokehJS library is missing\");\n",
       "        }\n",
       "      }\n",
       "    }, 10, root)\n",
       "  }\n",
       "})(window);"
      ],
      "application/vnd.bokehjs_exec.v0+json": ""
     },
     "metadata": {
      "application/vnd.bokehjs_exec.v0+json": {
       "id": "p1979"
      }
     },
     "output_type": "display_data"
    }
   ],
   "source": [
    "#Training results # 3\n",
    "from bokeh.plotting import figure, show\n",
    "from bokeh.models import ColumnDataSource, HoverTool\n",
    "from bokeh.layouts import column\n",
    "import numpy as np\n",
    "\n",
    "# Assuming 'history' contains 'mse' and 'val_mae'\n",
    "\n",
    "# Data for training and validation MAE\n",
    "data = {\n",
    "    'epoch': list(range(len(history.history[\"mae\"][:-3]))),\n",
    "    'train_mae': history.history[\"mae\"][:-3],\n",
    "    'val_mae': history.history[\"val_mae\"][:-3]\n",
    "}\n",
    "source = ColumnDataSource(data=data)\n",
    "\n",
    "# Creating the figure for the line plot\n",
    "p_line = figure(title=\"Model MAE\", x_axis_label=\"Epoch\", y_axis_label=\"MAE\")\n",
    "train_line = p_line.line('epoch', 'train_mae', source=source, legend_label=\"Train\", line_width=2, line_color=\"blue\")\n",
    "val_line = p_line.line('epoch', 'val_mae', source=source, legend_label=\"Test\", line_width=2, line_color=\"red\")\n",
    "\n",
    "# Circle glyphs for training and validation MSE on the line plot\n",
    "train_circle = p_line.circle('epoch', 'train_mae', source=source, legend_label=\"Train\", size=8, color=\"blue\", alpha=0.5)\n",
    "val_circle = p_line.circle('epoch', 'val_mae', source=source, legend_label=\"Test\", size=8, color=\"red\", alpha=0.5)\n",
    "\n",
    "# HoverTool for tooltips on the line plot\n",
    "hover_line = HoverTool(renderers=[train_circle, val_circle])\n",
    "hover_line.tooltips = [\n",
    "    (\"Epoch\", \"@epoch\"),\n",
    "    (\"Training MAE\", \"@train_mae\"),\n",
    "    (\"Validation MAE\", \"@val_mae\")\n",
    "]\n",
    "p_line.add_tools(hover_line)\n",
    "\n",
    "# Random sample data for the bar chart\n",
    "sample_epochs = list(range(len(history.history[\"mae\"][:-3])))\n",
    "inverted_train_mse = np.random.uniform(low=0.1, high=0.5, size=len(sample_epochs))\n",
    "\n",
    "# ColumnDataSource for the bar chart\n",
    "bar_data = {\n",
    "    'epoch': sample_epochs,\n",
    "    'inverted_train_mae': inverted_train_mse\n",
    "}\n",
    "bar_source = ColumnDataSource(data=bar_data)\n",
    "\n",
    "# Creating the figure for the bar chart with red shaded bars\n",
    "p_bar = figure(title=\"Inverted Training MAE\", x_axis_label=\"Epoch\", y_axis_label=\"MAE\", x_range=p_line.x_range)\n",
    "bar = p_bar.vbar(x='epoch', top='inverted_train_mae', width=0.5, source=bar_source, color=\"red\", line_color=\"black\")\n",
    "\n",
    "# Generating random circle points for bars\n",
    "circle_epochs = np.random.choice(range(len(sample_epochs)), int(len(sample_epochs) * 0.1), replace=False)\n",
    "circle_values = np.random.uniform(low=0.1, high=0.5, size=len(circle_epochs))\n",
    "\n",
    "# Adding circle points to the bar chart\n",
    "p_bar.circle(circle_epochs, circle_values, legend_label=\"Circle Points\", size=8, color=\"yellow\", alpha=0.5)\n",
    "\n",
    "# HoverTool for tooltips on the bar chart\n",
    "hover_bar = HoverTool(renderers=[bar])\n",
    "hover_bar.tooltips = [\n",
    "    (\"Epoch\", \"@epoch\"),\n",
    "    (\"Inverted Training MaE\", \"@inverted_train_mae\")\n",
    "]\n",
    "p_bar.add_tools(hover_bar)\n",
    "\n",
    "# Combining the line plot and bar chart in a column layout\n",
    "combined_plot = column(p_line, p_bar)\n",
    "\n",
    "# Displaying the combined Bokeh plot\n",
    "show(combined_plot)\n"
   ]
  },
  {
   "cell_type": "markdown",
   "id": "d7c99c22",
   "metadata": {
    "papermill": {
     "duration": 0.101043,
     "end_time": "2023-07-28T06:12:11.070680",
     "exception": false,
     "start_time": "2023-07-28T06:12:10.969637",
     "status": "completed"
    },
    "tags": []
   },
   "source": [
    "# Recommendation:"
   ]
  },
  {
   "cell_type": "code",
   "execution_count": 20,
   "id": "0808b142",
   "metadata": {
    "execution": {
     "iopub.execute_input": "2023-07-28T06:12:11.275041Z",
     "iopub.status.busy": "2023-07-28T06:12:11.274657Z",
     "iopub.status.idle": "2023-07-28T06:12:11.509242Z",
     "shell.execute_reply": "2023-07-28T06:12:11.507819Z"
    },
    "papermill": {
     "duration": 0.340685,
     "end_time": "2023-07-28T06:12:11.512256",
     "exception": false,
     "start_time": "2023-07-28T06:12:11.171571",
     "status": "completed"
    },
    "tags": []
   },
   "outputs": [],
   "source": [
    "def extract_weights(name, model):\n",
    "    # Retrieve the specified layer by name from the model\n",
    "    weight_layer = model.get_layer(name)\n",
    "    \n",
    "    # Access the weights from the layer\n",
    "    weights = weight_layer.get_weights()[0]\n",
    "    \n",
    "    # Normalize the weights along the axis to ensure unit length\n",
    "    weights = weights / np.linalg.norm(weights, axis=1).reshape((-1, 1))\n",
    "    \n",
    "    return weights\n",
    "\n",
    "# Extract anime embeddings and normalize the weights\n",
    "anime_weights = extract_weights('anime_embedding', model)\n",
    "\n",
    "# Extract user embeddings and normalize the weights\n",
    "user_weights = extract_weights('user_embedding', model)"
   ]
  },
  {
   "cell_type": "markdown",
   "id": "eb33d4ec",
   "metadata": {
    "papermill": {
     "duration": 0.09984,
     "end_time": "2023-07-28T06:12:11.714098",
     "exception": false,
     "start_time": "2023-07-28T06:12:11.614258",
     "status": "completed"
    },
    "tags": []
   },
   "source": [
    "#### Reading the whole dataset"
   ]
  },
  {
   "cell_type": "code",
   "execution_count": 21,
   "id": "7d089dcf",
   "metadata": {
    "execution": {
     "iopub.execute_input": "2023-07-28T06:12:11.917737Z",
     "iopub.status.busy": "2023-07-28T06:12:11.917301Z",
     "iopub.status.idle": "2023-07-28T06:12:12.419987Z",
     "shell.execute_reply": "2023-07-28T06:12:12.418558Z"
    },
    "papermill": {
     "duration": 0.607798,
     "end_time": "2023-07-28T06:12:12.423043",
     "exception": false,
     "start_time": "2023-07-28T06:12:11.815245",
     "status": "completed"
    },
    "tags": []
   },
   "outputs": [],
   "source": [
    "# Load the anime dataset from the specified path\n",
    "df_anime = pd.read_csv('C:/Downloads/Chrome/DS/fp/dataset_2023/anime-dataset-2023.csv')"
   ]
  },
  {
   "cell_type": "markdown",
   "id": "b55f4865",
   "metadata": {
    "papermill": {
     "duration": 0.101806,
     "end_time": "2023-07-28T06:12:12.627620",
     "exception": false,
     "start_time": "2023-07-28T06:12:12.525814",
     "status": "completed"
    },
    "tags": []
   },
   "source": [
    "#### I aim to refine the model's recommendations to include only animes that have garnered ratings from a specific number of users, set as the threshold. This criterion ensures that the recommended anime titles possess a minimum level of user ratings, signifying a certain degree of popularity or user involvement."
   ]
  },
  {
   "cell_type": "code",
   "execution_count": 22,
   "id": "966b26aa",
   "metadata": {
    "execution": {
     "iopub.execute_input": "2023-07-28T06:12:12.836898Z",
     "iopub.status.busy": "2023-07-28T06:12:12.835871Z",
     "iopub.status.idle": "2023-07-28T06:12:12.877839Z",
     "shell.execute_reply": "2023-07-28T06:12:12.876663Z"
    },
    "papermill": {
     "duration": 0.150399,
     "end_time": "2023-07-28T06:12:12.880153",
     "exception": false,
     "start_time": "2023-07-28T06:12:12.729754",
     "status": "completed"
    },
    "tags": []
   },
   "outputs": [
    {
     "name": "stdout",
     "output_type": "stream",
     "text": [
      "Filtered Anime Dataset Shape: (22879, 24)\n"
     ]
    },
    {
     "data": {
      "text/html": [
       "<div>\n",
       "<style scoped>\n",
       "    .dataframe tbody tr th:only-of-type {\n",
       "        vertical-align: middle;\n",
       "    }\n",
       "\n",
       "    .dataframe tbody tr th {\n",
       "        vertical-align: top;\n",
       "    }\n",
       "\n",
       "    .dataframe thead th {\n",
       "        text-align: right;\n",
       "    }\n",
       "</style>\n",
       "<table border=\"1\" class=\"dataframe\">\n",
       "  <thead>\n",
       "    <tr style=\"text-align: right;\">\n",
       "      <th></th>\n",
       "      <th>anime_id</th>\n",
       "      <th>Name</th>\n",
       "      <th>English name</th>\n",
       "      <th>Other name</th>\n",
       "      <th>Score</th>\n",
       "      <th>Genres</th>\n",
       "      <th>Synopsis</th>\n",
       "      <th>Type</th>\n",
       "      <th>Episodes</th>\n",
       "      <th>Aired</th>\n",
       "      <th>...</th>\n",
       "      <th>Studios</th>\n",
       "      <th>Source</th>\n",
       "      <th>Duration</th>\n",
       "      <th>Rating</th>\n",
       "      <th>Rank</th>\n",
       "      <th>Popularity</th>\n",
       "      <th>Favorites</th>\n",
       "      <th>Scored By</th>\n",
       "      <th>Members</th>\n",
       "      <th>Image URL</th>\n",
       "    </tr>\n",
       "  </thead>\n",
       "  <tbody>\n",
       "    <tr>\n",
       "      <th>0</th>\n",
       "      <td>1</td>\n",
       "      <td>Cowboy Bebop</td>\n",
       "      <td>Cowboy Bebop</td>\n",
       "      <td>カウボーイビバップ</td>\n",
       "      <td>8.75</td>\n",
       "      <td>Action, Award Winning, Sci-Fi</td>\n",
       "      <td>Crime is timeless. By the year 2071, humanity ...</td>\n",
       "      <td>TV</td>\n",
       "      <td>26.0</td>\n",
       "      <td>Apr 3, 1998 to Apr 24, 1999</td>\n",
       "      <td>...</td>\n",
       "      <td>Sunrise</td>\n",
       "      <td>Original</td>\n",
       "      <td>24 min per ep</td>\n",
       "      <td>R - 17+ (violence &amp; profanity)</td>\n",
       "      <td>41.0</td>\n",
       "      <td>43</td>\n",
       "      <td>78525</td>\n",
       "      <td>914193.0</td>\n",
       "      <td>1771505</td>\n",
       "      <td>https://cdn.myanimelist.net/images/anime/4/196...</td>\n",
       "    </tr>\n",
       "    <tr>\n",
       "      <th>1</th>\n",
       "      <td>5</td>\n",
       "      <td>Cowboy Bebop: Tengoku no Tobira</td>\n",
       "      <td>Cowboy Bebop: The Movie</td>\n",
       "      <td>カウボーイビバップ 天国の扉</td>\n",
       "      <td>8.38</td>\n",
       "      <td>Action, Sci-Fi</td>\n",
       "      <td>Another day, another bounty—such is the life o...</td>\n",
       "      <td>Movie</td>\n",
       "      <td>1.0</td>\n",
       "      <td>Sep 1, 2001</td>\n",
       "      <td>...</td>\n",
       "      <td>Bones</td>\n",
       "      <td>Original</td>\n",
       "      <td>1 hr 55 min</td>\n",
       "      <td>R - 17+ (violence &amp; profanity)</td>\n",
       "      <td>189.0</td>\n",
       "      <td>602</td>\n",
       "      <td>1448</td>\n",
       "      <td>206248.0</td>\n",
       "      <td>360978</td>\n",
       "      <td>https://cdn.myanimelist.net/images/anime/1439/...</td>\n",
       "    </tr>\n",
       "    <tr>\n",
       "      <th>2</th>\n",
       "      <td>6</td>\n",
       "      <td>Trigun</td>\n",
       "      <td>Trigun</td>\n",
       "      <td>トライガン</td>\n",
       "      <td>8.22</td>\n",
       "      <td>Action, Adventure, Sci-Fi</td>\n",
       "      <td>Vash the Stampede is the man with a $$60,000,0...</td>\n",
       "      <td>TV</td>\n",
       "      <td>26.0</td>\n",
       "      <td>Apr 1, 1998 to Sep 30, 1998</td>\n",
       "      <td>...</td>\n",
       "      <td>Madhouse</td>\n",
       "      <td>Manga</td>\n",
       "      <td>24 min per ep</td>\n",
       "      <td>PG-13 - Teens 13 or older</td>\n",
       "      <td>328.0</td>\n",
       "      <td>246</td>\n",
       "      <td>15035</td>\n",
       "      <td>356739.0</td>\n",
       "      <td>727252</td>\n",
       "      <td>https://cdn.myanimelist.net/images/anime/7/203...</td>\n",
       "    </tr>\n",
       "  </tbody>\n",
       "</table>\n",
       "<p>3 rows × 24 columns</p>\n",
       "</div>"
      ],
      "text/plain": [
       "   anime_id                             Name             English name  \\\n",
       "0         1                     Cowboy Bebop             Cowboy Bebop   \n",
       "1         5  Cowboy Bebop: Tengoku no Tobira  Cowboy Bebop: The Movie   \n",
       "2         6                           Trigun                   Trigun   \n",
       "\n",
       "       Other name Score                         Genres  \\\n",
       "0       カウボーイビバップ  8.75  Action, Award Winning, Sci-Fi   \n",
       "1  カウボーイビバップ 天国の扉  8.38                 Action, Sci-Fi   \n",
       "2           トライガン  8.22      Action, Adventure, Sci-Fi   \n",
       "\n",
       "                                            Synopsis   Type Episodes  \\\n",
       "0  Crime is timeless. By the year 2071, humanity ...     TV     26.0   \n",
       "1  Another day, another bounty—such is the life o...  Movie      1.0   \n",
       "2  Vash the Stampede is the man with a $$60,000,0...     TV     26.0   \n",
       "\n",
       "                         Aired  ...   Studios    Source       Duration  \\\n",
       "0  Apr 3, 1998 to Apr 24, 1999  ...   Sunrise  Original  24 min per ep   \n",
       "1                  Sep 1, 2001  ...     Bones  Original    1 hr 55 min   \n",
       "2  Apr 1, 1998 to Sep 30, 1998  ...  Madhouse     Manga  24 min per ep   \n",
       "\n",
       "                           Rating   Rank Popularity Favorites Scored By  \\\n",
       "0  R - 17+ (violence & profanity)   41.0         43     78525  914193.0   \n",
       "1  R - 17+ (violence & profanity)  189.0        602      1448  206248.0   \n",
       "2       PG-13 - Teens 13 or older  328.0        246     15035  356739.0   \n",
       "\n",
       "   Members                                          Image URL  \n",
       "0  1771505  https://cdn.myanimelist.net/images/anime/4/196...  \n",
       "1   360978  https://cdn.myanimelist.net/images/anime/1439/...  \n",
       "2   727252  https://cdn.myanimelist.net/images/anime/7/203...  \n",
       "\n",
       "[3 rows x 24 columns]"
      ]
     },
     "execution_count": 22,
     "metadata": {},
     "output_type": "execute_result"
    }
   ],
   "source": [
    "popularity_threshold = 50  # Setting the minimum threshold for anime popularity based on user ratings\n",
    "\n",
    "# Filtering the anime dataset to include only titles with user ratings meeting the popularity threshold\n",
    "df_anime = df_anime.query('Members >= @popularity_threshold')\n",
    "\n",
    "# Displaying the shape of the filtered dataset after applying the popularity threshold\n",
    "print(\"Filtered Anime Dataset Shape:\", df_anime.shape)\n",
    "\n",
    "# Displaying the first three rows of the filtered dataset to review titles meeting the threshold\n",
    "df_anime.head(3)  # Showing titles with ratings from at least 50 users"
   ]
  },
  {
   "cell_type": "markdown",
   "id": "41021540",
   "metadata": {
    "papermill": {
     "duration": 0.114019,
     "end_time": "2023-07-28T06:12:13.102964",
     "exception": false,
     "start_time": "2023-07-28T06:12:12.988945",
     "status": "completed"
    },
    "tags": []
   },
   "source": [
    "# 1: Item-Based Recommendation Section"
   ]
  },
  {
   "cell_type": "code",
   "execution_count": 23,
   "id": "c39459c6",
   "metadata": {
    "execution": {
     "iopub.execute_input": "2023-07-28T06:12:13.310301Z",
     "iopub.status.busy": "2023-07-28T06:12:13.309860Z",
     "iopub.status.idle": "2023-07-28T06:12:13.324035Z",
     "shell.execute_reply": "2023-07-28T06:12:13.322855Z"
    },
    "papermill": {
     "duration": 0.119554,
     "end_time": "2023-07-28T06:12:13.326244",
     "exception": false,
     "start_time": "2023-07-28T06:12:13.206690",
     "status": "completed"
    },
    "tags": []
   },
   "outputs": [],
   "source": [
    "def find_similar_animes(name, n=10, return_dist=False, neg=False):\n",
    "    try:\n",
    "        # Locate the anime details based on the provided name\n",
    "        anime_row = df_anime[df_anime['Name'] == name].iloc[0]\n",
    "        index = anime_row['anime_id']\n",
    "        encoded_index = anime_encoder.transform([index])[0]\n",
    "        weights = anime_weights\n",
    "        \n",
    "        # Compute similarity distances based on anime embeddings\n",
    "        dists = np.dot(weights, weights[encoded_index])\n",
    "        sorted_dists = np.argsort(dists)\n",
    "        \n",
    "        n = n + 1  # Increment n by 1 for slicing\n",
    "\n",
    "        # Choose either closest or farthest similar animes based on 'neg' flag\n",
    "        if neg:\n",
    "            closest = sorted_dists[:n]\n",
    "        else:\n",
    "            closest = sorted_dists[-n:]\n",
    "\n",
    "        print('Animes closest to {}'.format(name))\n",
    "\n",
    "        if return_dist:\n",
    "            return dists, closest\n",
    "        \n",
    "        SimilarityArr = []\n",
    "        \n",
    "        # Gather information about similar animes and their attributes\n",
    "        for close in closest:\n",
    "            decoded_id = anime_encoder.inverse_transform([close])[0]\n",
    "            anime_frame = df_anime[df_anime['anime_id'] == decoded_id]\n",
    "            \n",
    "            anime_name = anime_frame['Name'].values[0]\n",
    "            english_name = anime_frame['English name'].values[0]\n",
    "            name = english_name if english_name != \"UNKNOWN\" else anime_name\n",
    "            genre = anime_frame['Genres'].values[0]\n",
    "            Synopsis = anime_frame['Synopsis'].values[0]\n",
    "            similarity = dists[close]\n",
    "            similarity = \"{:.2f}%\".format(similarity * 100)\n",
    "            SimilarityArr.append({\"Name\": name, \"Similarity\": similarity, \"Genres\": genre, \"Synopsis\": Synopsis})\n",
    "        \n",
    "        # Create and format a DataFrame with similar animes, excluding the provided anime\n",
    "        Frame = pd.DataFrame(SimilarityArr).sort_values(by=\"Similarity\", ascending=False)\n",
    "        return Frame[Frame.Name != name]\n",
    "    \n",
    "    except:\n",
    "        print('{} not found in Anime list'.format(name))\n",
    "\n",
    "# Displaying full content of columns without truncation\n",
    "pd.set_option('display.max_colwidth', None)"
   ]
  },
  {
   "cell_type": "code",
   "execution_count": 24,
   "id": "72bd2363",
   "metadata": {
    "execution": {
     "iopub.execute_input": "2023-07-28T06:12:13.532458Z",
     "iopub.status.busy": "2023-07-28T06:12:13.532162Z",
     "iopub.status.idle": "2023-07-28T06:12:13.583520Z",
     "shell.execute_reply": "2023-07-28T06:12:13.581285Z"
    },
    "papermill": {
     "duration": 0.159493,
     "end_time": "2023-07-28T06:12:13.588234",
     "exception": false,
     "start_time": "2023-07-28T06:12:13.428741",
     "status": "completed"
    },
    "tags": []
   },
   "outputs": [
    {
     "name": "stdout",
     "output_type": "stream",
     "text": [
      "Animes closest to Tensei shitara Slime Datta Ken\n"
     ]
    },
    {
     "data": {
      "text/html": [
       "<div>\n",
       "<style scoped>\n",
       "    .dataframe tbody tr th:only-of-type {\n",
       "        vertical-align: middle;\n",
       "    }\n",
       "\n",
       "    .dataframe tbody tr th {\n",
       "        vertical-align: top;\n",
       "    }\n",
       "\n",
       "    .dataframe thead th {\n",
       "        text-align: right;\n",
       "    }\n",
       "</style>\n",
       "<table border=\"1\" class=\"dataframe\">\n",
       "  <thead>\n",
       "    <tr style=\"text-align: right;\">\n",
       "      <th></th>\n",
       "      <th>Name</th>\n",
       "      <th>Similarity</th>\n",
       "      <th>Genres</th>\n",
       "      <th>Synopsis</th>\n",
       "    </tr>\n",
       "  </thead>\n",
       "  <tbody>\n",
       "    <tr>\n",
       "      <th>4</th>\n",
       "      <td>That Time I Got Reincarnated as a Slime Season 2</td>\n",
       "      <td>81.71%</td>\n",
       "      <td>Action, Adventure, Comedy, Fantasy</td>\n",
       "      <td>Taking a break from his time as a teacher, the powerful slime Rimuru Tempest returns to his kingdom, eponymously named Tempest, just in time to begin negotiations with a nearby nation—the Kingdom of Eurazania. While the negotiations are anything but peaceful, they do end successfully, allowing Rimuru to return and finish teaching. When trying to again return to Tempest, this time permanently, Rimuru is stopped by a mysterious figure who is somehow able to constrain the many magical abilities he has at his disposal. \\n\\nIn Tempest, the situation is even worse. A group of unknown humans has invaded the land and are assaulting its citizens, both influential and innocent. They are not just trying to bring harm either—they have the intent to kill. Can Rimuru overcome his powerful and dangerous foe and return to Tempest before it is too late?</td>\n",
       "    </tr>\n",
       "    <tr>\n",
       "      <th>3</th>\n",
       "      <td>That Time I Got Reincarnated as a Slime Season 2 Part 2</td>\n",
       "      <td>76.81%</td>\n",
       "      <td>Action, Adventure, Comedy, Fantasy</td>\n",
       "      <td>The nation of Tempest is in a festive mood after successfully overcoming the surprise attack from the Falmuth Army and the Western Holy Church. Beyond the festivities lies a meeting between Tempest and its allies to decide the future of the Nation of Monsters. The aftermath of the Falmuth invasion, Milim Nava's suspicious behavior, and the disappearance of Demon Lord Carrion—the problems seem to keep on piling up.\\n\\nRimuru Tempest, now awakened as a \"True Demon Lord,\" decides to go on the offensive against Clayman. With the fully revived \"Storm Dragon\" Veldora, \"Ultimate Skill\" Raphael, and other powerful comrades, the ruler of the Tempest is confident in taking down his enemies one by one until he can face the man pulling the strings.</td>\n",
       "    </tr>\n",
       "    <tr>\n",
       "      <th>2</th>\n",
       "      <td>The Rising of the Shield Hero</td>\n",
       "      <td>73.90%</td>\n",
       "      <td>Action, Adventure, Drama, Fantasy</td>\n",
       "      <td>The Four Cardinal Heroes are a group of ordinary men from modern-day Japan summoned to the kingdom of Melromarc to become its saviors. Melromarc is a country plagued by the Waves of Catastrophe that have repeatedly ravaged the land and brought disaster to its citizens for centuries. The four heroes are respectively bestowed a sword, spear, bow, and shield to vanquish these Waves. Naofumi Iwatani, an otaku, becomes cursed with the fate of being the \"Shield Hero.\" Armed with only a measly shield, Naofumi is belittled and ridiculed by his fellow heroes and the kingdom's people due to his weak offensive capabilities and lackluster personality.\\n\\nWhen the heroes are provided with resources and comrades to train with, Naofumi sets out with the only person willing to train alongside him, Malty Melromarc. He is soon betrayed by her, however, and becomes falsely accused of taking advantage of her. Naofumi then becomes heavily discriminated against and hated by the people of Melromarc for something he didn't do. With a raging storm of hurt and mistrust in his heart, Naofumi begins his journey of strengthening himself and his reputation. Further along however, the difficulty of being on his own sets in, so Naofumi buys a demi-human slave on the verge of death named Raphtalia to accompany him on his travels.\\n\\nAs the Waves approach the kingdom, Naofumi and Raphtalia must fight for the survival of the kingdom and protect the people of Melromarc from their ill-fated future.</td>\n",
       "    </tr>\n",
       "    <tr>\n",
       "      <th>1</th>\n",
       "      <td>Dr. Stone</td>\n",
       "      <td>72.75%</td>\n",
       "      <td>Adventure, Comedy, Sci-Fi</td>\n",
       "      <td>After five years of harboring unspoken feelings, high-schooler Taiju Ooki is finally ready to confess his love to Yuzuriha Ogawa. Just when Taiju begins his confession however, a blinding green light strikes the Earth and petrifies mankind around the world—turning every single human into stone.\\n\\nSeveral millennia later, Taiju awakens to find the modern world completely nonexistent, as nature has flourished in the years humanity stood still. Among a stone world of statues, Taiju encounters one other living human: his science-loving friend Senkuu, who has been active for a few months. Taiju learns that Senkuu has developed a grand scheme—to launch the complete revival of civilization with science. Taiju's brawn and Senkuu's brains combine to forge a formidable partnership, and they soon uncover a method to revive those petrified.\\n\\nHowever, Senkuu's master plan is threatened when his ideologies are challenged by those who awaken. All the while, the reason for mankind's petrification remains unknown.</td>\n",
       "    </tr>\n",
       "    <tr>\n",
       "      <th>0</th>\n",
       "      <td>Fate/stay night [Unlimited Blade Works] Season 2</td>\n",
       "      <td>72.53%</td>\n",
       "      <td>Action, Fantasy, Supernatural</td>\n",
       "      <td>In the midst of the Fifth Holy Grail War, Caster sets her plans into motion, beginning with the capture of Shirou's Servant Saber. With the witch growing ever more powerful, Rin and Archer determine she is a threat that must be dealt with at once. But as the balance of power in the war begins to shift, the Master and Servant find themselves walking separate ways.\\n\\nMeanwhile, despite losing his Servant and stumbling from injuries, Shirou ignores Rin's warning to abandon the battle royale, forcing his way into the fight against Caster. Determined to show his resolve in his will to fight, Shirou's potential to become a protector of the people is put to the test.\\n\\nAmidst the bloodshed and chaos, the motivations of each Master and Servant are slowly revealed as they sacrifice everything in order to arise as the victor and claim the Holy Grail.</td>\n",
       "    </tr>\n",
       "  </tbody>\n",
       "</table>\n",
       "</div>"
      ],
      "text/plain": [
       "                                                      Name Similarity  \\\n",
       "4         That Time I Got Reincarnated as a Slime Season 2     81.71%   \n",
       "3  That Time I Got Reincarnated as a Slime Season 2 Part 2     76.81%   \n",
       "2                            The Rising of the Shield Hero     73.90%   \n",
       "1                                                Dr. Stone     72.75%   \n",
       "0         Fate/stay night [Unlimited Blade Works] Season 2     72.53%   \n",
       "\n",
       "                               Genres  \\\n",
       "4  Action, Adventure, Comedy, Fantasy   \n",
       "3  Action, Adventure, Comedy, Fantasy   \n",
       "2   Action, Adventure, Drama, Fantasy   \n",
       "1           Adventure, Comedy, Sci-Fi   \n",
       "0       Action, Fantasy, Supernatural   \n",
       "\n",
       "                                                                                                                                                                                                                                                                                                                                                                                                                                                                                                                                                                                                                                                                                                                                                                                                                                                                                                                                                                                                                                                                                                                                                                                                                                                                                                                                                                                                                                                                                                                                         Synopsis  \n",
       "4                                                                                                                                                                                                                                                                                                                                                                                                                                                                                                                                                                                                                                                                Taking a break from his time as a teacher, the powerful slime Rimuru Tempest returns to his kingdom, eponymously named Tempest, just in time to begin negotiations with a nearby nation—the Kingdom of Eurazania. While the negotiations are anything but peaceful, they do end successfully, allowing Rimuru to return and finish teaching. When trying to again return to Tempest, this time permanently, Rimuru is stopped by a mysterious figure who is somehow able to constrain the many magical abilities he has at his disposal. \\n\\nIn Tempest, the situation is even worse. A group of unknown humans has invaded the land and are assaulting its citizens, both influential and innocent. They are not just trying to bring harm either—they have the intent to kill. Can Rimuru overcome his powerful and dangerous foe and return to Tempest before it is too late?  \n",
       "3                                                                                                                                                                                                                                                                                                                                                                                                                                                                                                                                                                                                                                                                                                                                                                      The nation of Tempest is in a festive mood after successfully overcoming the surprise attack from the Falmuth Army and the Western Holy Church. Beyond the festivities lies a meeting between Tempest and its allies to decide the future of the Nation of Monsters. The aftermath of the Falmuth invasion, Milim Nava's suspicious behavior, and the disappearance of Demon Lord Carrion—the problems seem to keep on piling up.\\n\\nRimuru Tempest, now awakened as a \"True Demon Lord,\" decides to go on the offensive against Clayman. With the fully revived \"Storm Dragon\" Veldora, \"Ultimate Skill\" Raphael, and other powerful comrades, the ruler of the Tempest is confident in taking down his enemies one by one until he can face the man pulling the strings.  \n",
       "2  The Four Cardinal Heroes are a group of ordinary men from modern-day Japan summoned to the kingdom of Melromarc to become its saviors. Melromarc is a country plagued by the Waves of Catastrophe that have repeatedly ravaged the land and brought disaster to its citizens for centuries. The four heroes are respectively bestowed a sword, spear, bow, and shield to vanquish these Waves. Naofumi Iwatani, an otaku, becomes cursed with the fate of being the \"Shield Hero.\" Armed with only a measly shield, Naofumi is belittled and ridiculed by his fellow heroes and the kingdom's people due to his weak offensive capabilities and lackluster personality.\\n\\nWhen the heroes are provided with resources and comrades to train with, Naofumi sets out with the only person willing to train alongside him, Malty Melromarc. He is soon betrayed by her, however, and becomes falsely accused of taking advantage of her. Naofumi then becomes heavily discriminated against and hated by the people of Melromarc for something he didn't do. With a raging storm of hurt and mistrust in his heart, Naofumi begins his journey of strengthening himself and his reputation. Further along however, the difficulty of being on his own sets in, so Naofumi buys a demi-human slave on the verge of death named Raphtalia to accompany him on his travels.\\n\\nAs the Waves approach the kingdom, Naofumi and Raphtalia must fight for the survival of the kingdom and protect the people of Melromarc from their ill-fated future.  \n",
       "1                                                                                                                                                                                                                                                                                                                                                                                                                                                                                         After five years of harboring unspoken feelings, high-schooler Taiju Ooki is finally ready to confess his love to Yuzuriha Ogawa. Just when Taiju begins his confession however, a blinding green light strikes the Earth and petrifies mankind around the world—turning every single human into stone.\\n\\nSeveral millennia later, Taiju awakens to find the modern world completely nonexistent, as nature has flourished in the years humanity stood still. Among a stone world of statues, Taiju encounters one other living human: his science-loving friend Senkuu, who has been active for a few months. Taiju learns that Senkuu has developed a grand scheme—to launch the complete revival of civilization with science. Taiju's brawn and Senkuu's brains combine to forge a formidable partnership, and they soon uncover a method to revive those petrified.\\n\\nHowever, Senkuu's master plan is threatened when his ideologies are challenged by those who awaken. All the while, the reason for mankind's petrification remains unknown.  \n",
       "0                                                                                                                                                                                                                                                                                                                                                                                                                                                                                                                                                                                                                                                          In the midst of the Fifth Holy Grail War, Caster sets her plans into motion, beginning with the capture of Shirou's Servant Saber. With the witch growing ever more powerful, Rin and Archer determine she is a threat that must be dealt with at once. But as the balance of power in the war begins to shift, the Master and Servant find themselves walking separate ways.\\n\\nMeanwhile, despite losing his Servant and stumbling from injuries, Shirou ignores Rin's warning to abandon the battle royale, forcing his way into the fight against Caster. Determined to show his resolve in his will to fight, Shirou's potential to become a protector of the people is put to the test.\\n\\nAmidst the bloodshed and chaos, the motivations of each Master and Servant are slowly revealed as they sacrifice everything in order to arise as the victor and claim the Holy Grail.  "
      ]
     },
     "execution_count": 24,
     "metadata": {},
     "output_type": "execute_result"
    }
   ],
   "source": [
    "# Finding similar animes based on the provided name ('Tensei shitara Slime Datta Ken') \n",
    "# n=5 specifies the number of similar animes to retrieve\n",
    "# neg=False indicates fetching animes that are furthest in similarity (opposite polarity)\n",
    "find_similar_animes('Tensei shitara Slime Datta Ken', n=5, neg=False)"
   ]
  },
  {
   "cell_type": "code",
   "execution_count": 25,
   "id": "4afbb115",
   "metadata": {
    "execution": {
     "iopub.execute_input": "2023-07-28T06:12:13.851569Z",
     "iopub.status.busy": "2023-07-28T06:12:13.851272Z",
     "iopub.status.idle": "2023-07-28T06:12:13.899782Z",
     "shell.execute_reply": "2023-07-28T06:12:13.897359Z"
    },
    "papermill": {
     "duration": 0.157302,
     "end_time": "2023-07-28T06:12:13.904486",
     "exception": false,
     "start_time": "2023-07-28T06:12:13.747184",
     "status": "completed"
    },
    "tags": []
   },
   "outputs": [
    {
     "name": "stdout",
     "output_type": "stream",
     "text": [
      "Animes closest to Shigatsu wa Kimi no Uso\n"
     ]
    },
    {
     "data": {
      "text/html": [
       "<div>\n",
       "<style scoped>\n",
       "    .dataframe tbody tr th:only-of-type {\n",
       "        vertical-align: middle;\n",
       "    }\n",
       "\n",
       "    .dataframe tbody tr th {\n",
       "        vertical-align: top;\n",
       "    }\n",
       "\n",
       "    .dataframe thead th {\n",
       "        text-align: right;\n",
       "    }\n",
       "</style>\n",
       "<table border=\"1\" class=\"dataframe\">\n",
       "  <thead>\n",
       "    <tr style=\"text-align: right;\">\n",
       "      <th></th>\n",
       "      <th>Name</th>\n",
       "      <th>Similarity</th>\n",
       "      <th>Genres</th>\n",
       "      <th>Synopsis</th>\n",
       "    </tr>\n",
       "  </thead>\n",
       "  <tbody>\n",
       "    <tr>\n",
       "      <th>4</th>\n",
       "      <td>Your Name.</td>\n",
       "      <td>87.23%</td>\n",
       "      <td>Award Winning, Drama, Supernatural</td>\n",
       "      <td>Mitsuha Miyamizu, a high school girl, yearns to live the life of a boy in the bustling city of Tokyo—a dream that stands in stark contrast to her present life in the countryside. Meanwhile in the city, Taki Tachibana lives a busy life as a high school student while juggling his part-time job and hopes for a future in architecture.\\n\\nOne day, Mitsuha awakens in a room that is not her own and suddenly finds herself living the dream life in Tokyo—but in Taki's body! Elsewhere, Taki finds himself living Mitsuha's life in the humble countryside. In pursuit of an answer to this strange phenomenon, they begin to search for one another.\\n\\nKimi no Na wa. revolves around Mitsuha and Taki's actions, which begin to have a dramatic impact on each other's lives, weaving them into a fabric held together by fate and circumstance.</td>\n",
       "    </tr>\n",
       "    <tr>\n",
       "      <th>3</th>\n",
       "      <td>A Silent Voice</td>\n",
       "      <td>86.29%</td>\n",
       "      <td>Award Winning, Drama</td>\n",
       "      <td>As a wild youth, elementary school student Shouya Ishida sought to beat boredom in the cruelest ways. When the deaf Shouko Nishimiya transfers into his class, Shouya and the rest of his class thoughtlessly bully her for fun. However, when her mother notifies the school, he is singled out and blamed for everything done to her. With Shouko transferring out of the school, Shouya is left at the mercy of his classmates. He is heartlessly ostracized all throughout elementary and middle school, while teachers turn a blind eye.\\n\\nNow in his third year of high school, Shouya is still plagued by his wrongdoings as a young boy. Sincerely regretting his past actions, he sets out on a journey of redemption: to meet Shouko once more and make amends.\\n\\nKoe no Katachi tells the heartwarming tale of Shouya's reunion with Shouko and his honest attempts to redeem himself, all while being continually haunted by the shadows of his past.</td>\n",
       "    </tr>\n",
       "    <tr>\n",
       "      <th>2</th>\n",
       "      <td>ERASED</td>\n",
       "      <td>84.95%</td>\n",
       "      <td>Mystery, Supernatural, Suspense</td>\n",
       "      <td>When tragedy is about to strike, Satoru Fujinuma finds himself sent back several minutes before the accident occurs. The detached, 29-year-old manga artist has taken advantage of this powerful yet mysterious phenomenon, which he calls \"Revival,\" to save many lives.\\n \\nHowever, when he is wrongfully accused of murdering someone close to him, Satoru is sent back to the past once again, but this time to 1988, 18 years in the past. Soon, he realizes that the murder may be connected to the abduction and killing of one of his classmates, the solitary and mysterious Kayo Hinazuki, that took place when he was a child. This is his chance to make things right.\\n \\nBoku dake ga Inai Machi follows Satoru in his mission to uncover what truly transpired 18 years ago and prevent the death of his classmate while protecting those he cares about in the present.</td>\n",
       "    </tr>\n",
       "    <tr>\n",
       "      <th>1</th>\n",
       "      <td>Anohana: The Flower We Saw That Day</td>\n",
       "      <td>84.33%</td>\n",
       "      <td>Drama, Supernatural</td>\n",
       "      <td>Jinta Yadomi is peacefully living as a recluse, spending his days away from school and playing video games at home instead. One hot summer day, his childhood friend, Meiko \"Menma\" Honma, appears and pesters him to grant a forgotten wish. He pays her no mind, which annoys her, but he doesn't really care. After all, Menma already died years ago.\\n\\nAt first, Jinta thinks that he is merely hallucinating due to the summer heat, but he is later on convinced that what he sees truly is the ghost of Menma. Jinta and his group of childhood friends grew apart after her untimely death, but they are drawn together once more as they try to lay Menma's spirit to rest. Re-living their pain and guilt, will they be able to find the strength to help not only Menma move on—but themselves as well?</td>\n",
       "    </tr>\n",
       "    <tr>\n",
       "      <th>0</th>\n",
       "      <td>Fate/stay night [Unlimited Blade Works]</td>\n",
       "      <td>83.38%</td>\n",
       "      <td>Action, Fantasy, Supernatural</td>\n",
       "      <td>The Holy Grail War is a battle royale among seven magi who serve as Masters. Masters, through the use of the command seals they are given when they enter the war, command Heroic Spirits known as Servants to fight for them in battle. In the Fifth Holy Grail War, Rin Toosaka is among the magi entering the competition. With her Servant, Archer, she hopes to obtain the ultimate prize—the Holy Grail, a magical artifact capable of granting its wielder any wish.\\n \\nOne of Rin's classmates, Shirou Emiya, accidentally enters the competition and ends up commanding a Servant of his own known as Saber. As they find themselves facing mutual enemies, Rin and Shirou decide to form a temporary alliance as they challenge their opponents in the Holy Grail War.</td>\n",
       "    </tr>\n",
       "  </tbody>\n",
       "</table>\n",
       "</div>"
      ],
      "text/plain": [
       "                                      Name Similarity  \\\n",
       "4                               Your Name.     87.23%   \n",
       "3                           A Silent Voice     86.29%   \n",
       "2                                   ERASED     84.95%   \n",
       "1      Anohana: The Flower We Saw That Day     84.33%   \n",
       "0  Fate/stay night [Unlimited Blade Works]     83.38%   \n",
       "\n",
       "                               Genres  \\\n",
       "4  Award Winning, Drama, Supernatural   \n",
       "3                Award Winning, Drama   \n",
       "2     Mystery, Supernatural, Suspense   \n",
       "1                 Drama, Supernatural   \n",
       "0       Action, Fantasy, Supernatural   \n",
       "\n",
       "                                                                                                                                                                                                                                                                                                                                                                                                                                                                                                                                                                                                                                                                                                                                                                                                                                                                                                                                                              Synopsis  \n",
       "4                                                                                                          Mitsuha Miyamizu, a high school girl, yearns to live the life of a boy in the bustling city of Tokyo—a dream that stands in stark contrast to her present life in the countryside. Meanwhile in the city, Taki Tachibana lives a busy life as a high school student while juggling his part-time job and hopes for a future in architecture.\\n\\nOne day, Mitsuha awakens in a room that is not her own and suddenly finds herself living the dream life in Tokyo—but in Taki's body! Elsewhere, Taki finds himself living Mitsuha's life in the humble countryside. In pursuit of an answer to this strange phenomenon, they begin to search for one another.\\n\\nKimi no Na wa. revolves around Mitsuha and Taki's actions, which begin to have a dramatic impact on each other's lives, weaving them into a fabric held together by fate and circumstance.  \n",
       "3  As a wild youth, elementary school student Shouya Ishida sought to beat boredom in the cruelest ways. When the deaf Shouko Nishimiya transfers into his class, Shouya and the rest of his class thoughtlessly bully her for fun. However, when her mother notifies the school, he is singled out and blamed for everything done to her. With Shouko transferring out of the school, Shouya is left at the mercy of his classmates. He is heartlessly ostracized all throughout elementary and middle school, while teachers turn a blind eye.\\n\\nNow in his third year of high school, Shouya is still plagued by his wrongdoings as a young boy. Sincerely regretting his past actions, he sets out on a journey of redemption: to meet Shouko once more and make amends.\\n\\nKoe no Katachi tells the heartwarming tale of Shouya's reunion with Shouko and his honest attempts to redeem himself, all while being continually haunted by the shadows of his past.  \n",
       "2                                                                             When tragedy is about to strike, Satoru Fujinuma finds himself sent back several minutes before the accident occurs. The detached, 29-year-old manga artist has taken advantage of this powerful yet mysterious phenomenon, which he calls \"Revival,\" to save many lives.\\n \\nHowever, when he is wrongfully accused of murdering someone close to him, Satoru is sent back to the past once again, but this time to 1988, 18 years in the past. Soon, he realizes that the murder may be connected to the abduction and killing of one of his classmates, the solitary and mysterious Kayo Hinazuki, that took place when he was a child. This is his chance to make things right.\\n \\nBoku dake ga Inai Machi follows Satoru in his mission to uncover what truly transpired 18 years ago and prevent the death of his classmate while protecting those he cares about in the present.  \n",
       "1                                                                                                                                                 Jinta Yadomi is peacefully living as a recluse, spending his days away from school and playing video games at home instead. One hot summer day, his childhood friend, Meiko \"Menma\" Honma, appears and pesters him to grant a forgotten wish. He pays her no mind, which annoys her, but he doesn't really care. After all, Menma already died years ago.\\n\\nAt first, Jinta thinks that he is merely hallucinating due to the summer heat, but he is later on convinced that what he sees truly is the ghost of Menma. Jinta and his group of childhood friends grew apart after her untimely death, but they are drawn together once more as they try to lay Menma's spirit to rest. Re-living their pain and guilt, will they be able to find the strength to help not only Menma move on—but themselves as well?  \n",
       "0                                                                                                                                                                                    The Holy Grail War is a battle royale among seven magi who serve as Masters. Masters, through the use of the command seals they are given when they enter the war, command Heroic Spirits known as Servants to fight for them in battle. In the Fifth Holy Grail War, Rin Toosaka is among the magi entering the competition. With her Servant, Archer, she hopes to obtain the ultimate prize—the Holy Grail, a magical artifact capable of granting its wielder any wish.\\n \\nOne of Rin's classmates, Shirou Emiya, accidentally enters the competition and ends up commanding a Servant of his own known as Saber. As they find themselves facing mutual enemies, Rin and Shirou decide to form a temporary alliance as they challenge their opponents in the Holy Grail War.  "
      ]
     },
     "execution_count": 25,
     "metadata": {},
     "output_type": "execute_result"
    }
   ],
   "source": [
    "# Requesting similar animes to 'Shigatsu wa Kimi no Uso' (Your Lie in April)\n",
    "# n=5 specifies the number of similar animes to retrieve\n",
    "# neg=False indicates fetching animes that are furthest in similarity (opposite polarity)\n",
    "find_similar_animes('Shigatsu wa Kimi no Uso', n=5, neg=False)"
   ]
  },
  {
   "cell_type": "code",
   "execution_count": 26,
   "id": "c64945df",
   "metadata": {
    "execution": {
     "iopub.execute_input": "2023-07-28T06:12:14.169241Z",
     "iopub.status.busy": "2023-07-28T06:12:14.168878Z",
     "iopub.status.idle": "2023-07-28T06:12:14.217623Z",
     "shell.execute_reply": "2023-07-28T06:12:14.215514Z"
    },
    "papermill": {
     "duration": 0.158074,
     "end_time": "2023-07-28T06:12:14.222417",
     "exception": false,
     "start_time": "2023-07-28T06:12:14.064343",
     "status": "completed"
    },
    "tags": []
   },
   "outputs": [
    {
     "name": "stdout",
     "output_type": "stream",
     "text": [
      "Animes closest to One Punch Man\n"
     ]
    },
    {
     "data": {
      "text/html": [
       "<div>\n",
       "<style scoped>\n",
       "    .dataframe tbody tr th:only-of-type {\n",
       "        vertical-align: middle;\n",
       "    }\n",
       "\n",
       "    .dataframe tbody tr th {\n",
       "        vertical-align: top;\n",
       "    }\n",
       "\n",
       "    .dataframe thead th {\n",
       "        text-align: right;\n",
       "    }\n",
       "</style>\n",
       "<table border=\"1\" class=\"dataframe\">\n",
       "  <thead>\n",
       "    <tr style=\"text-align: right;\">\n",
       "      <th></th>\n",
       "      <th>Name</th>\n",
       "      <th>Similarity</th>\n",
       "      <th>Genres</th>\n",
       "      <th>Synopsis</th>\n",
       "    </tr>\n",
       "  </thead>\n",
       "  <tbody>\n",
       "    <tr>\n",
       "      <th>4</th>\n",
       "      <td>Your Name.</td>\n",
       "      <td>84.52%</td>\n",
       "      <td>Award Winning, Drama, Supernatural</td>\n",
       "      <td>Mitsuha Miyamizu, a high school girl, yearns to live the life of a boy in the bustling city of Tokyo—a dream that stands in stark contrast to her present life in the countryside. Meanwhile in the city, Taki Tachibana lives a busy life as a high school student while juggling his part-time job and hopes for a future in architecture.\\n\\nOne day, Mitsuha awakens in a room that is not her own and suddenly finds herself living the dream life in Tokyo—but in Taki's body! Elsewhere, Taki finds himself living Mitsuha's life in the humble countryside. In pursuit of an answer to this strange phenomenon, they begin to search for one another.\\n\\nKimi no Na wa. revolves around Mitsuha and Taki's actions, which begin to have a dramatic impact on each other's lives, weaving them into a fabric held together by fate and circumstance.</td>\n",
       "    </tr>\n",
       "    <tr>\n",
       "      <th>3</th>\n",
       "      <td>Made in Abyss</td>\n",
       "      <td>84.33%</td>\n",
       "      <td>Adventure, Drama, Fantasy, Mystery, Sci-Fi</td>\n",
       "      <td>The Abyss—a gaping chasm stretching down into the depths of the earth, filled with mysterious creatures and relics from a time long past. How did it come to be? What lies at the bottom? Countless brave individuals, known as Divers, have sought to solve these mysteries of the Abyss, fearlessly descending into its darkest realms. The best and bravest of the Divers, the White Whistles, are hailed as legends by those who remain on the surface.\\n\\nRiko, daughter of the missing White Whistle Lyza the Annihilator, aspires to become like her mother and explore the furthest reaches of the Abyss. However, just a novice Red Whistle herself, she is only permitted to roam its most upper layer. Even so, Riko has a chance encounter with a mysterious robot with the appearance of an ordinary young boy. She comes to name him Reg, and he has no recollection of the events preceding his discovery. Certain that the technology to create Reg must come from deep within the Abyss, the two decide to venture forth into the chasm to recover his memories and see the bottom of the great pit with their own eyes. However, they know not of the harsh reality that is the true existence of the Abyss.</td>\n",
       "    </tr>\n",
       "    <tr>\n",
       "      <th>2</th>\n",
       "      <td>A Silent Voice</td>\n",
       "      <td>83.21%</td>\n",
       "      <td>Award Winning, Drama</td>\n",
       "      <td>As a wild youth, elementary school student Shouya Ishida sought to beat boredom in the cruelest ways. When the deaf Shouko Nishimiya transfers into his class, Shouya and the rest of his class thoughtlessly bully her for fun. However, when her mother notifies the school, he is singled out and blamed for everything done to her. With Shouko transferring out of the school, Shouya is left at the mercy of his classmates. He is heartlessly ostracized all throughout elementary and middle school, while teachers turn a blind eye.\\n\\nNow in his third year of high school, Shouya is still plagued by his wrongdoings as a young boy. Sincerely regretting his past actions, he sets out on a journey of redemption: to meet Shouko once more and make amends.\\n\\nKoe no Katachi tells the heartwarming tale of Shouya's reunion with Shouko and his honest attempts to redeem himself, all while being continually haunted by the shadows of his past.</td>\n",
       "    </tr>\n",
       "    <tr>\n",
       "      <th>1</th>\n",
       "      <td>Gintama: The Movie: The Final Chapter: Be Forever Yorozuya</td>\n",
       "      <td>81.48%</td>\n",
       "      <td>Action, Comedy, Sci-Fi</td>\n",
       "      <td>When Gintoki apprehends a movie pirate at a premiere, he checks the camera's footage and finds himself transported to a bleak, post-apocalyptic version of Edo, where a mysterious epidemic called the \"White Plague\" has ravished the world's population. It turns out that the movie pirate wasn't a pirate after all—it was an android time machine, and Gintoki has been hurtled five years into the future! Shinpachi and Kagura, his Yorozuya cohorts, have had a falling out and are now battle-hardened solo vigilantes and he himself has been missing for years, disappearing without a trace after scribbling a strange message in his journal.\\n\\nSetting out in the disguise given to him by the android time machine, Gintoki haphazardly reunites the Yorozuya team to investigate the White Plague, and soon discovers that the key to saving the future lies in the darkness of his own past. Determined to confront a powerful foe, he makes an important discovery—with a ragtag band of friends and allies at his side, he doesn't have to fight alone.</td>\n",
       "    </tr>\n",
       "    <tr>\n",
       "      <th>0</th>\n",
       "      <td>Hunter x Hunter</td>\n",
       "      <td>81.04%</td>\n",
       "      <td>Action, Adventure, Fantasy</td>\n",
       "      <td>Hunters devote themselves to accomplishing hazardous tasks, all from traversing the world's uncharted territories to locating rare items and monsters. Before becoming a Hunter, one must pass the Hunter Examination—a high-risk selection process in which most applicants end up handicapped or worse, deceased.\\n\\nAmbitious participants who challenge the notorious exam carry their own reason. What drives 12-year-old Gon Freecss is finding Ging, his father and a Hunter himself. Believing that he will meet his father by becoming a Hunter, Gon takes the first step to walk the same path.\\n\\nDuring the Hunter Examination, Gon befriends the medical student Leorio Paladiknight, the vindictive Kurapika, and ex-assassin Killua Zoldyck. While their motives vastly differ from each other, they band together for a common goal and begin to venture into a perilous world.</td>\n",
       "    </tr>\n",
       "  </tbody>\n",
       "</table>\n",
       "</div>"
      ],
      "text/plain": [
       "                                                         Name Similarity  \\\n",
       "4                                                  Your Name.     84.52%   \n",
       "3                                               Made in Abyss     84.33%   \n",
       "2                                              A Silent Voice     83.21%   \n",
       "1  Gintama: The Movie: The Final Chapter: Be Forever Yorozuya     81.48%   \n",
       "0                                             Hunter x Hunter     81.04%   \n",
       "\n",
       "                                       Genres  \\\n",
       "4          Award Winning, Drama, Supernatural   \n",
       "3  Adventure, Drama, Fantasy, Mystery, Sci-Fi   \n",
       "2                        Award Winning, Drama   \n",
       "1                      Action, Comedy, Sci-Fi   \n",
       "0                  Action, Adventure, Fantasy   \n",
       "\n",
       "                                                                                                                                                                                                                                                                                                                                                                                                                                                                                                                                                                                                                                                                                                                                                                                                                                                                                                                                                                                                                                                                                                                                                                                                                         Synopsis  \n",
       "4                                                                                                                                                                                                                                                                                                                                                                     Mitsuha Miyamizu, a high school girl, yearns to live the life of a boy in the bustling city of Tokyo—a dream that stands in stark contrast to her present life in the countryside. Meanwhile in the city, Taki Tachibana lives a busy life as a high school student while juggling his part-time job and hopes for a future in architecture.\\n\\nOne day, Mitsuha awakens in a room that is not her own and suddenly finds herself living the dream life in Tokyo—but in Taki's body! Elsewhere, Taki finds himself living Mitsuha's life in the humble countryside. In pursuit of an answer to this strange phenomenon, they begin to search for one another.\\n\\nKimi no Na wa. revolves around Mitsuha and Taki's actions, which begin to have a dramatic impact on each other's lives, weaving them into a fabric held together by fate and circumstance.  \n",
       "3  The Abyss—a gaping chasm stretching down into the depths of the earth, filled with mysterious creatures and relics from a time long past. How did it come to be? What lies at the bottom? Countless brave individuals, known as Divers, have sought to solve these mysteries of the Abyss, fearlessly descending into its darkest realms. The best and bravest of the Divers, the White Whistles, are hailed as legends by those who remain on the surface.\\n\\nRiko, daughter of the missing White Whistle Lyza the Annihilator, aspires to become like her mother and explore the furthest reaches of the Abyss. However, just a novice Red Whistle herself, she is only permitted to roam its most upper layer. Even so, Riko has a chance encounter with a mysterious robot with the appearance of an ordinary young boy. She comes to name him Reg, and he has no recollection of the events preceding his discovery. Certain that the technology to create Reg must come from deep within the Abyss, the two decide to venture forth into the chasm to recover his memories and see the bottom of the great pit with their own eyes. However, they know not of the harsh reality that is the true existence of the Abyss.  \n",
       "2                                                                                                                                                                                                                                                             As a wild youth, elementary school student Shouya Ishida sought to beat boredom in the cruelest ways. When the deaf Shouko Nishimiya transfers into his class, Shouya and the rest of his class thoughtlessly bully her for fun. However, when her mother notifies the school, he is singled out and blamed for everything done to her. With Shouko transferring out of the school, Shouya is left at the mercy of his classmates. He is heartlessly ostracized all throughout elementary and middle school, while teachers turn a blind eye.\\n\\nNow in his third year of high school, Shouya is still plagued by his wrongdoings as a young boy. Sincerely regretting his past actions, he sets out on a journey of redemption: to meet Shouko once more and make amends.\\n\\nKoe no Katachi tells the heartwarming tale of Shouya's reunion with Shouko and his honest attempts to redeem himself, all while being continually haunted by the shadows of his past.  \n",
       "1                                                                                                                                                     When Gintoki apprehends a movie pirate at a premiere, he checks the camera's footage and finds himself transported to a bleak, post-apocalyptic version of Edo, where a mysterious epidemic called the \"White Plague\" has ravished the world's population. It turns out that the movie pirate wasn't a pirate after all—it was an android time machine, and Gintoki has been hurtled five years into the future! Shinpachi and Kagura, his Yorozuya cohorts, have had a falling out and are now battle-hardened solo vigilantes and he himself has been missing for years, disappearing without a trace after scribbling a strange message in his journal.\\n\\nSetting out in the disguise given to him by the android time machine, Gintoki haphazardly reunites the Yorozuya team to investigate the White Plague, and soon discovers that the key to saving the future lies in the darkness of his own past. Determined to confront a powerful foe, he makes an important discovery—with a ragtag band of friends and allies at his side, he doesn't have to fight alone.  \n",
       "0                                                                                                                                                                                                                                                                                                                                 Hunters devote themselves to accomplishing hazardous tasks, all from traversing the world's uncharted territories to locating rare items and monsters. Before becoming a Hunter, one must pass the Hunter Examination—a high-risk selection process in which most applicants end up handicapped or worse, deceased.\\n\\nAmbitious participants who challenge the notorious exam carry their own reason. What drives 12-year-old Gon Freecss is finding Ging, his father and a Hunter himself. Believing that he will meet his father by becoming a Hunter, Gon takes the first step to walk the same path.\\n\\nDuring the Hunter Examination, Gon befriends the medical student Leorio Paladiknight, the vindictive Kurapika, and ex-assassin Killua Zoldyck. While their motives vastly differ from each other, they band together for a common goal and begin to venture into a perilous world.  "
      ]
     },
     "execution_count": 26,
     "metadata": {},
     "output_type": "execute_result"
    }
   ],
   "source": [
    "# Searching for animes similar to 'One Punch Man'\n",
    "# n=5 specifies the number of similar animes to retrieve\n",
    "# neg=False indicates fetching animes that are furthest in similarity (opposite polarity)\n",
    "find_similar_animes('One Punch Man', n=5, neg=False)"
   ]
  },
  {
   "cell_type": "code",
   "execution_count": 27,
   "id": "fdc3434f",
   "metadata": {
    "execution": {
     "iopub.execute_input": "2023-07-28T06:12:14.489211Z",
     "iopub.status.busy": "2023-07-28T06:12:14.488319Z",
     "iopub.status.idle": "2023-07-28T06:12:14.537774Z",
     "shell.execute_reply": "2023-07-28T06:12:14.535625Z"
    },
    "papermill": {
     "duration": 0.159066,
     "end_time": "2023-07-28T06:12:14.542506",
     "exception": false,
     "start_time": "2023-07-28T06:12:14.383440",
     "status": "completed"
    },
    "tags": []
   },
   "outputs": [
    {
     "name": "stdout",
     "output_type": "stream",
     "text": [
      "Animes closest to Mushoku Tensei: Isekai Ittara Honki Dasu\n"
     ]
    },
    {
     "data": {
      "text/html": [
       "<div>\n",
       "<style scoped>\n",
       "    .dataframe tbody tr th:only-of-type {\n",
       "        vertical-align: middle;\n",
       "    }\n",
       "\n",
       "    .dataframe tbody tr th {\n",
       "        vertical-align: top;\n",
       "    }\n",
       "\n",
       "    .dataframe thead th {\n",
       "        text-align: right;\n",
       "    }\n",
       "</style>\n",
       "<table border=\"1\" class=\"dataframe\">\n",
       "  <thead>\n",
       "    <tr style=\"text-align: right;\">\n",
       "      <th></th>\n",
       "      <th>Name</th>\n",
       "      <th>Similarity</th>\n",
       "      <th>Genres</th>\n",
       "      <th>Synopsis</th>\n",
       "    </tr>\n",
       "  </thead>\n",
       "  <tbody>\n",
       "    <tr>\n",
       "      <th>4</th>\n",
       "      <td>Mushoku Tensei: Jobless Reincarnation Part 2</td>\n",
       "      <td>90.28%</td>\n",
       "      <td>Drama, Fantasy, Ecchi</td>\n",
       "      <td>After the mysterious mana calamity, Rudeus Greyrat and his fierce student Eris Boreas Greyrat are teleported to the Demon Continent. There, they team up with their newfound companion Ruijerd Supardia—the former leader of the Superd's Warrior group—to form \"Dead End,\" a successful adventurer party. Making a name for themselves, the trio journeys across the continent to make their way back home to Fittoa.\\n\\nFollowing the advice he received from the faceless god Hitogami, Rudeus saves Kishirika Kishirisu, the Great Emperor of the Demon World, who rewards him by granting him a strange power. Now, as Rudeus masters the powerful ability that offers a number of new opportunities, it might prove to be more than what he bargained for when unexpected dangers threaten to hinder their travels.</td>\n",
       "    </tr>\n",
       "    <tr>\n",
       "      <th>3</th>\n",
       "      <td>Demon Slayer: Kimetsu no Yaiba Entertainment District Arc</td>\n",
       "      <td>68.34%</td>\n",
       "      <td>Action, Fantasy</td>\n",
       "      <td>The devastation of the Mugen Train incident still weighs heavily on the members of the Demon Slayer Corps. Despite being given time to recover, life must go on, as the wicked never sleep: a vicious demon is terrorizing the alluring women of the Yoshiwara Entertainment District. The Sound Pillar, Tengen Uzui, and his three wives are on the case. However, when he soon loses contact with his spouses, Tengen fears the worst and enlists the help of Tanjirou Kamado, Zenitsu Agatsuma, and Inosuke Hashibira to infiltrate the district's most prominent houses and locate the depraved Upper Rank demon.</td>\n",
       "    </tr>\n",
       "    <tr>\n",
       "      <th>2</th>\n",
       "      <td>[Oshi No Ko]</td>\n",
       "      <td>67.82%</td>\n",
       "      <td>Drama, Supernatural</td>\n",
       "      <td>In the entertainment world, celebrities often show exaggerated versions of themselves to the public, concealing their true thoughts and struggles beneath elaborate lies. Fans buy into these fabrications, showering their idols with undying love and support, until something breaks the illusion. Sixteen-year-old rising star Ai Hoshino of pop idol group B Komachi has the world captivated; however, when she announces a hiatus due to health concerns, the news causes many to become worried.\\n\\nAs a huge fan of Ai, gynecologist Gorou Amemiya cheers her on from his countryside medical practice, wishing he could meet her in person one day. His wish comes true when Ai shows up at his hospital—not sick, but pregnant with twins! While the doctor promises Ai to safely deliver her children, he wonders if this encounter with the idol will forever change the nature of his relationship with her.</td>\n",
       "    </tr>\n",
       "    <tr>\n",
       "      <th>1</th>\n",
       "      <td>Demon Slayer: Kimetsu no Yaiba - The Movie: Mugen Train</td>\n",
       "      <td>67.22%</td>\n",
       "      <td>Action, Fantasy</td>\n",
       "      <td>After a string of mysterious disappearances begin to plague a train, the Demon Slayer Corps' multiple attempts to remedy the problem prove fruitless. To prevent further casualties, the Flame Pillar, Kyoujurou Rengoku, takes it upon himself to eliminate the threat. Accompanying him are some of the Corps' most promising new blood: Tanjirou Kamado, Zenitsu Agatsuma, and Inosuke Hashibira, who all hope to witness the fiery feats of this model demon slayer firsthand.\\n\\nUnbeknownst to them, the demonic forces responsible for the disappearances have already put their sinister plan in motion. Under this demonic presence, the group must muster every ounce of their willpower and draw their swords to save all two hundred passengers onboard. Kimetsu no Yaiba Movie: Mugen Ressha-hen delves into the deepest corners of Tanjirou's mind, putting his resolve and commitment to duty to the test.</td>\n",
       "    </tr>\n",
       "    <tr>\n",
       "      <th>0</th>\n",
       "      <td>A Silent Voice</td>\n",
       "      <td>66.80%</td>\n",
       "      <td>Award Winning, Drama</td>\n",
       "      <td>As a wild youth, elementary school student Shouya Ishida sought to beat boredom in the cruelest ways. When the deaf Shouko Nishimiya transfers into his class, Shouya and the rest of his class thoughtlessly bully her for fun. However, when her mother notifies the school, he is singled out and blamed for everything done to her. With Shouko transferring out of the school, Shouya is left at the mercy of his classmates. He is heartlessly ostracized all throughout elementary and middle school, while teachers turn a blind eye.\\n\\nNow in his third year of high school, Shouya is still plagued by his wrongdoings as a young boy. Sincerely regretting his past actions, he sets out on a journey of redemption: to meet Shouko once more and make amends.\\n\\nKoe no Katachi tells the heartwarming tale of Shouya's reunion with Shouko and his honest attempts to redeem himself, all while being continually haunted by the shadows of his past.</td>\n",
       "    </tr>\n",
       "  </tbody>\n",
       "</table>\n",
       "</div>"
      ],
      "text/plain": [
       "                                                        Name Similarity  \\\n",
       "4               Mushoku Tensei: Jobless Reincarnation Part 2     90.28%   \n",
       "3  Demon Slayer: Kimetsu no Yaiba Entertainment District Arc     68.34%   \n",
       "2                                               [Oshi No Ko]     67.82%   \n",
       "1    Demon Slayer: Kimetsu no Yaiba - The Movie: Mugen Train     67.22%   \n",
       "0                                             A Silent Voice     66.80%   \n",
       "\n",
       "                  Genres  \\\n",
       "4  Drama, Fantasy, Ecchi   \n",
       "3        Action, Fantasy   \n",
       "2    Drama, Supernatural   \n",
       "1        Action, Fantasy   \n",
       "0   Award Winning, Drama   \n",
       "\n",
       "                                                                                                                                                                                                                                                                                                                                                                                                                                                                                                                                                                                                                                                                                                                                                                                                                                                                                                                                                              Synopsis  \n",
       "4                                                                                                                                            After the mysterious mana calamity, Rudeus Greyrat and his fierce student Eris Boreas Greyrat are teleported to the Demon Continent. There, they team up with their newfound companion Ruijerd Supardia—the former leader of the Superd's Warrior group—to form \"Dead End,\" a successful adventurer party. Making a name for themselves, the trio journeys across the continent to make their way back home to Fittoa.\\n\\nFollowing the advice he received from the faceless god Hitogami, Rudeus saves Kishirika Kishirisu, the Great Emperor of the Demon World, who rewards him by granting him a strange power. Now, as Rudeus masters the powerful ability that offers a number of new opportunities, it might prove to be more than what he bargained for when unexpected dangers threaten to hinder their travels.  \n",
       "3                                                                                                                                                                                                                                                                                                                                                The devastation of the Mugen Train incident still weighs heavily on the members of the Demon Slayer Corps. Despite being given time to recover, life must go on, as the wicked never sleep: a vicious demon is terrorizing the alluring women of the Yoshiwara Entertainment District. The Sound Pillar, Tengen Uzui, and his three wives are on the case. However, when he soon loses contact with his spouses, Tengen fears the worst and enlists the help of Tanjirou Kamado, Zenitsu Agatsuma, and Inosuke Hashibira to infiltrate the district's most prominent houses and locate the depraved Upper Rank demon.  \n",
       "2                                           In the entertainment world, celebrities often show exaggerated versions of themselves to the public, concealing their true thoughts and struggles beneath elaborate lies. Fans buy into these fabrications, showering their idols with undying love and support, until something breaks the illusion. Sixteen-year-old rising star Ai Hoshino of pop idol group B Komachi has the world captivated; however, when she announces a hiatus due to health concerns, the news causes many to become worried.\\n\\nAs a huge fan of Ai, gynecologist Gorou Amemiya cheers her on from his countryside medical practice, wishing he could meet her in person one day. His wish comes true when Ai shows up at his hospital—not sick, but pregnant with twins! While the doctor promises Ai to safely deliver her children, he wonders if this encounter with the idol will forever change the nature of his relationship with her.  \n",
       "1                                            After a string of mysterious disappearances begin to plague a train, the Demon Slayer Corps' multiple attempts to remedy the problem prove fruitless. To prevent further casualties, the Flame Pillar, Kyoujurou Rengoku, takes it upon himself to eliminate the threat. Accompanying him are some of the Corps' most promising new blood: Tanjirou Kamado, Zenitsu Agatsuma, and Inosuke Hashibira, who all hope to witness the fiery feats of this model demon slayer firsthand.\\n\\nUnbeknownst to them, the demonic forces responsible for the disappearances have already put their sinister plan in motion. Under this demonic presence, the group must muster every ounce of their willpower and draw their swords to save all two hundred passengers onboard. Kimetsu no Yaiba Movie: Mugen Ressha-hen delves into the deepest corners of Tanjirou's mind, putting his resolve and commitment to duty to the test.  \n",
       "0  As a wild youth, elementary school student Shouya Ishida sought to beat boredom in the cruelest ways. When the deaf Shouko Nishimiya transfers into his class, Shouya and the rest of his class thoughtlessly bully her for fun. However, when her mother notifies the school, he is singled out and blamed for everything done to her. With Shouko transferring out of the school, Shouya is left at the mercy of his classmates. He is heartlessly ostracized all throughout elementary and middle school, while teachers turn a blind eye.\\n\\nNow in his third year of high school, Shouya is still plagued by his wrongdoings as a young boy. Sincerely regretting his past actions, he sets out on a journey of redemption: to meet Shouko once more and make amends.\\n\\nKoe no Katachi tells the heartwarming tale of Shouya's reunion with Shouko and his honest attempts to redeem himself, all while being continually haunted by the shadows of his past.  "
      ]
     },
     "execution_count": 27,
     "metadata": {},
     "output_type": "execute_result"
    }
   ],
   "source": [
    "# Querying animes similar to 'Mushoku Tensei: Isekai Ittara Honki Dasu'\n",
    "# n=5 specifies the number of similar animes to retrieve\n",
    "# neg=False indicates fetching animes that are furthest in similarity (opposite polarity)\n",
    "find_similar_animes('Mushoku Tensei: Isekai Ittara Honki Dasu', n=5, neg=False)"
   ]
  },
  {
   "cell_type": "markdown",
   "id": "4857bb00",
   "metadata": {
    "papermill": {
     "duration": 0.103728,
     "end_time": "2023-07-28T06:12:14.806423",
     "exception": false,
     "start_time": "2023-07-28T06:12:14.702695",
     "status": "completed"
    },
    "tags": []
   },
   "source": [
    "# 2: User Based Recommendation\n",
    "#### (The user-based recommendation system is divided into three parts:)"
   ]
  },
  {
   "cell_type": "markdown",
   "id": "6a43717d",
   "metadata": {
    "papermill": {
     "duration": 0.110295,
     "end_time": "2023-07-28T06:12:15.023132",
     "exception": false,
     "start_time": "2023-07-28T06:12:14.912837",
     "status": "completed"
    },
    "tags": []
   },
   "source": [
    "## Section 1: Identifying Comparable Users\n",
    "#### Within this section, we randomly pick a user from the dataset and identify users who share similar anime preferences. The find_similar_users function assesses user similarity using a weighted matrix, generating a DataFrame of users with akin preferences. This function requires the input user, the count of comparable users to identify (n), along with other optional parameters. Ultimately, it furnishes a list of users akin to the input user based on their anime preferences."
   ]
  },
  {
   "cell_type": "code",
   "execution_count": 28,
   "id": "60f58f0d",
   "metadata": {
    "execution": {
     "iopub.execute_input": "2023-07-28T06:12:15.235240Z",
     "iopub.status.busy": "2023-07-28T06:12:15.234275Z",
     "iopub.status.idle": "2023-07-28T06:12:15.244967Z",
     "shell.execute_reply": "2023-07-28T06:12:15.243814Z"
    },
    "papermill": {
     "duration": 0.119567,
     "end_time": "2023-07-28T06:12:15.247199",
     "exception": false,
     "start_time": "2023-07-28T06:12:15.127632",
     "status": "completed"
    },
    "tags": []
   },
   "outputs": [],
   "source": [
    "def find_similar_users(item_input, n=10, return_dist=False, neg=False):\n",
    "    try:\n",
    "        # Identifying the index of the input user\n",
    "        index = item_input\n",
    "        encoded_index = user_encoder.transform([index])[0]  # Encoding the user index\n",
    "        \n",
    "        # Retrieving user embeddings for similarity calculation\n",
    "        weights = user_weights\n",
    "        \n",
    "        # Calculating user similarity based on user embeddings\n",
    "        dists = np.dot(weights, weights[encoded_index])  # Computing similarity scores\n",
    "        sorted_dists = np.argsort(dists)  # Sorting the similarity scores\n",
    "        n = n + 1  # Increment n by 1 for slicing\n",
    "        \n",
    "        # Choosing either closest or farthest similar users based on the 'neg' flag\n",
    "        if neg:\n",
    "            closest = sorted_dists[:n]  # Selecting the closest users\n",
    "        else:\n",
    "            closest = sorted_dists[-n:]  # Selecting the farthest users\n",
    "            \n",
    "        SimilarityArr = []  # Initializing a list to store similar users\n",
    "        \n",
    "        # Gathering similar users and their similarity scores\n",
    "        for close in closest:\n",
    "            similarity = dists[close]  # Extracting similarity score\n",
    "            if isinstance(item_input, int):\n",
    "                decoded_id = user_encoder.inverse_transform([close])[0]  # Decoding the user index\n",
    "                SimilarityArr.append({\"similar_users\": decoded_id, \"similarity\": similarity})  # Storing user similarity\n",
    "        \n",
    "        # Creating and sorting a DataFrame with similar users and their similarity scores\n",
    "        Frame = pd.DataFrame(SimilarityArr).sort_values(by=\"similarity\", ascending=False)  # Sorting users by similarity\n",
    "        return Frame  # Returning the DataFrame of similar users\n",
    "    \n",
    "    except:\n",
    "        print('\\033[1m{}\\033[0m, Not Found in User list'.format(item_input))  # Handling exceptions for user not found"
   ]
  },
  {
   "cell_type": "code",
   "execution_count": 29,
   "id": "8d2926d3",
   "metadata": {
    "execution": {
     "iopub.execute_input": "2023-07-28T06:12:15.510666Z",
     "iopub.status.busy": "2023-07-28T06:12:15.510241Z",
     "iopub.status.idle": "2023-07-28T06:12:16.651497Z",
     "shell.execute_reply": "2023-07-28T06:12:16.650124Z"
    },
    "papermill": {
     "duration": 1.297559,
     "end_time": "2023-07-28T06:12:16.653733",
     "exception": false,
     "start_time": "2023-07-28T06:12:15.356174",
     "status": "completed"
    },
    "tags": []
   },
   "outputs": [
    {
     "data": {
      "text/html": [
       "<div>\n",
       "<style scoped>\n",
       "    .dataframe tbody tr th:only-of-type {\n",
       "        vertical-align: middle;\n",
       "    }\n",
       "\n",
       "    .dataframe tbody tr th {\n",
       "        vertical-align: top;\n",
       "    }\n",
       "\n",
       "    .dataframe thead th {\n",
       "        text-align: right;\n",
       "    }\n",
       "</style>\n",
       "<table border=\"1\" class=\"dataframe\">\n",
       "  <thead>\n",
       "    <tr style=\"text-align: right;\">\n",
       "      <th></th>\n",
       "      <th>similar_users</th>\n",
       "      <th>similarity</th>\n",
       "    </tr>\n",
       "  </thead>\n",
       "  <tbody>\n",
       "    <tr>\n",
       "      <th>9</th>\n",
       "      <td>738813</td>\n",
       "      <td>0.408054</td>\n",
       "    </tr>\n",
       "  </tbody>\n",
       "</table>\n",
       "</div>"
      ],
      "text/plain": [
       "   similar_users  similarity\n",
       "9         738813    0.408054"
      ]
     },
     "execution_count": 29,
     "metadata": {},
     "output_type": "execute_result"
    }
   ],
   "source": [
    "# Calculating the count of ratings per user\n",
    "ratings_per_user = df.groupby('user_id').size()\n",
    "\n",
    "# Selecting a random user with less than 500 ratings\n",
    "random_user = int(ratings_per_user[ratings_per_user < 500].sample(1, random_state=None).index[0])\n",
    "\n",
    "# Finding users similar to the randomly selected user\n",
    "similar_users = find_similar_users(random_user, n=10, neg=False)\n",
    "\n",
    "# Filtering similar users based on a similarity threshold of 0.4\n",
    "similar_users = similar_users[similar_users.similarity > 0.4]\n",
    "\n",
    "# Removing the selected random user from the list of similar users\n",
    "similar_users = similar_users[similar_users.similar_users != random_user]\n",
    "\n",
    "# Displaying the DataFrame of similar users\n",
    "similar_users"
   ]
  },
  {
   "cell_type": "markdown",
   "id": "c5103ab1",
   "metadata": {
    "papermill": {
     "duration": 0.104311,
     "end_time": "2023-07-28T06:12:16.874584",
     "exception": false,
     "start_time": "2023-07-28T06:12:16.770273",
     "status": "completed"
    },
    "tags": []
   },
   "source": [
    "## Section 2: Understanding User Preferences\n",
    "#### This section delves into comprehending the preferences of the chosen user. The `get_user_preferences` function receives a user ID as input and retrieves the anime preferences of that user, focusing on their top-rated animes. It analyzes the genres favored by the user and includes an option to visualize these preferred genres through a word cloud. The outcome is a DataFrame presenting anime titles alongside their respective genres."
   ]
  },
  {
   "cell_type": "code",
   "execution_count": 30,
   "id": "65119377",
   "metadata": {
    "execution": {
     "iopub.execute_input": "2023-07-28T06:12:17.084857Z",
     "iopub.status.busy": "2023-07-28T06:12:17.083899Z",
     "iopub.status.idle": "2023-07-28T06:12:17.097154Z",
     "shell.execute_reply": "2023-07-28T06:12:17.095984Z"
    },
    "papermill": {
     "duration": 0.121015,
     "end_time": "2023-07-28T06:12:17.099493",
     "exception": false,
     "start_time": "2023-07-28T06:12:16.978478",
     "status": "completed"
    },
    "tags": []
   },
   "outputs": [],
   "source": [
    "# Function to display a word cloud of preferred genres\n",
    "def showWordCloud(all_genres):\n",
    "    # Generate and display a word cloud based on genre frequencies\n",
    "    genres_cloud = WordCloud(width=700, height=400, background_color='white', colormap='gnuplot').generate_from_frequencies(all_genres)\n",
    "    plt.figure(figsize=(10, 8))  # Set the figure size for the word cloud visualization\n",
    "    plt.imshow(genres_cloud, interpolation='bilinear')  # Show the word cloud with bilinear interpolation\n",
    "    plt.axis('off')  # Turn off the axis for a clean visualization\n",
    "    plt.show()  # Display the generated word cloud\n",
    "\n",
    "def get_user_preferences(user_id, plot=False, verbose=0):\n",
    "    # Fetch animes watched by the specified user\n",
    "    animes_watched_by_user = df[df['user_id'] == user_id]\n",
    "    \n",
    "    # Check if the user has not watched any animes\n",
    "    if animes_watched_by_user.empty:\n",
    "        print(\"User #{} has not watched any animes.\".format(user_id))\n",
    "        return pd.DataFrame()  # Return an empty DataFrame if the user hasn't watched any animes\n",
    "    \n",
    "    # Determine the user's top-rated animes by setting a rating percentile\n",
    "    user_rating_percentile = np.percentile(animes_watched_by_user.rating, 75)\n",
    "    animes_watched_by_user = animes_watched_by_user[animes_watched_by_user.rating >= user_rating_percentile]\n",
    "    top_animes_user = (\n",
    "        animes_watched_by_user.sort_values(by=\"rating\", ascending=False)\n",
    "        .anime_id.values\n",
    "    )\n",
    "    \n",
    "    # Retrieve anime titles and genres of the user's top-rated animes\n",
    "    anime_df_rows = df_anime[df_anime[\"anime_id\"].isin(top_animes_user)]\n",
    "    anime_df_rows = anime_df_rows[[\"Name\", \"Genres\"]]\n",
    "    \n",
    "    # Display user's statistics and preferred genres if verbose mode is enabled\n",
    "    if verbose != 0:\n",
    "        print(f\"User \\033[1m{user_id}\\033[0m has watched {len(animes_watched_by_user)} anime(s) with an average rating of {animes_watched_by_user['rating'].mean():.1f}/10\\n\")\n",
    "        print('\\033[1m----- Preferred genres ----- \\033[0m\\n')\n",
    "\n",
    "    # Generate and display a word cloud of preferred genres if plot mode is enabled\n",
    "    if plot:\n",
    "        genres_list = []\n",
    "        for genres in anime_df_rows['Genres']:\n",
    "            if isinstance(genres, str):\n",
    "                for genre in genres.split(','):\n",
    "                    genres_list.append(genre.strip())  # Remove leading/trailing whitespaces\n",
    "\n",
    "        showWordCloud(dict(Counter(genres_list)))  # Visualize a word cloud of genre preferences\n",
    "    \n",
    "    return anime_df_rows  # Return the DataFrame with anime titles and genres"
   ]
  },
  {
   "cell_type": "code",
   "execution_count": 31,
   "id": "b29b4af1",
   "metadata": {
    "execution": {
     "iopub.execute_input": "2023-07-28T06:12:17.308099Z",
     "iopub.status.busy": "2023-07-28T06:12:17.307751Z",
     "iopub.status.idle": "2023-07-28T06:12:17.722347Z",
     "shell.execute_reply": "2023-07-28T06:12:17.720907Z"
    },
    "papermill": {
     "duration": 0.521516,
     "end_time": "2023-07-28T06:12:17.724454",
     "exception": false,
     "start_time": "2023-07-28T06:12:17.202938",
     "status": "completed"
    },
    "tags": []
   },
   "outputs": [
    {
     "name": "stdout",
     "output_type": "stream",
     "text": [
      "User \u001b[1m371234\u001b[0m has watched 7 anime(s) with an average rating of 9.3/10\n",
      "\n",
      "\u001b[1m----- Preferred genres ----- \u001b[0m\n",
      "\n"
     ]
    },
    {
     "data": {
      "image/png": "[encoded data removed]",
      "text/plain": [
       "<Figure size 1000x800 with 1 Axes>"
      ]
     },
     "metadata": {},
     "output_type": "display_data"
    },
    {
     "data": {
      "text/html": [
       "<div>\n",
       "<style scoped>\n",
       "    .dataframe tbody tr th:only-of-type {\n",
       "        vertical-align: middle;\n",
       "    }\n",
       "\n",
       "    .dataframe tbody tr th {\n",
       "        vertical-align: top;\n",
       "    }\n",
       "\n",
       "    .dataframe thead th {\n",
       "        text-align: right;\n",
       "    }\n",
       "</style>\n",
       "<table border=\"1\" class=\"dataframe\">\n",
       "  <thead>\n",
       "    <tr style=\"text-align: right;\">\n",
       "      <th></th>\n",
       "      <th>Name</th>\n",
       "      <th>Genres</th>\n",
       "    </tr>\n",
       "  </thead>\n",
       "  <tbody>\n",
       "    <tr>\n",
       "      <th>11</th>\n",
       "      <td>One Piece</td>\n",
       "      <td>Action, Adventure, Fantasy</td>\n",
       "    </tr>\n",
       "    <tr>\n",
       "      <th>203</th>\n",
       "      <td>FLCL</td>\n",
       "      <td>Action, Avant Garde, Comedy, Sci-Fi</td>\n",
       "    </tr>\n",
       "    <tr>\n",
       "      <th>1393</th>\n",
       "      <td>Death Note</td>\n",
       "      <td>Supernatural, Suspense</td>\n",
       "    </tr>\n",
       "    <tr>\n",
       "      <th>1822</th>\n",
       "      <td>Tengen Toppa Gurren Lagann</td>\n",
       "      <td>Action, Adventure, Award Winning, Sci-Fi</td>\n",
       "    </tr>\n",
       "    <tr>\n",
       "      <th>1845</th>\n",
       "      <td>Darker than Black: Kuro no Keiyakusha</td>\n",
       "      <td>Action, Mystery, Sci-Fi</td>\n",
       "    </tr>\n",
       "  </tbody>\n",
       "</table>\n",
       "</div>"
      ],
      "text/plain": [
       "                                       Name  \\\n",
       "11                                One Piece   \n",
       "203                                    FLCL   \n",
       "1393                             Death Note   \n",
       "1822             Tengen Toppa Gurren Lagann   \n",
       "1845  Darker than Black: Kuro no Keiyakusha   \n",
       "\n",
       "                                        Genres  \n",
       "11                  Action, Adventure, Fantasy  \n",
       "203        Action, Avant Garde, Comedy, Sci-Fi  \n",
       "1393                    Supernatural, Suspense  \n",
       "1822  Action, Adventure, Award Winning, Sci-Fi  \n",
       "1845                   Action, Mystery, Sci-Fi  "
      ]
     },
     "execution_count": 31,
     "metadata": {},
     "output_type": "execute_result"
    }
   ],
   "source": [
    "# Get user preferences for the randomly selected user and display the top 5 anime titles with genres\n",
    "user_pref = get_user_preferences(random_user, plot=True, verbose=1)  # Fetch user preferences with verbose and plot modes\n",
    "pd.DataFrame(user_pref).head(5)  # Display the top 5 anime titles along with their genres"
   ]
  },
  {
   "cell_type": "markdown",
   "id": "1c8ab263",
   "metadata": {
    "papermill": {
     "duration": 0.106274,
     "end_time": "2023-07-28T06:12:17.937994",
     "exception": false,
     "start_time": "2023-07-28T06:12:17.831720",
     "status": "completed"
    },
    "tags": []
   },
   "source": [
    "## Part 3: Anime Recommendations for the User\n",
    "#### In this final segment, the system generates anime recommendations for the selected user by leveraging preferences from users with similar tastes. The `get_recommended_animes` function systematically traverses a list of similar users, captures their preferences, and pinpoints animes absent from the selected user's preferences. Subsequently, it compiles a list of recommended animes enriched with their respective genres and concise synopses. The resulting output is a structured dataframe housing the recommended animes tailored for the user's preferences."
   ]
  },
  {
   "cell_type": "code",
   "execution_count": 32,
   "id": "777e37c5",
   "metadata": {
    "execution": {
     "iopub.execute_input": "2023-07-28T06:12:18.150375Z",
     "iopub.status.busy": "2023-07-28T06:12:18.150000Z",
     "iopub.status.idle": "2023-07-28T06:12:18.163200Z",
     "shell.execute_reply": "2023-07-28T06:12:18.162196Z"
    },
    "papermill": {
     "duration": 0.122096,
     "end_time": "2023-07-28T06:12:18.165391",
     "exception": false,
     "start_time": "2023-07-28T06:12:18.043295",
     "status": "completed"
    },
    "tags": []
   },
   "outputs": [],
   "source": [
    "def get_recommended_animes(similar_users, user_pref, n=10):\n",
    "    recommended_animes = []  # Initialize an empty list for recommended animes\n",
    "    anime_list = []  # Initialize a list to store anime recommendations\n",
    "    \n",
    "    # Iterate through similar users to retrieve their preferences\n",
    "    for user_id in similar_users.similar_users.values:\n",
    "        pref_list = get_user_preferences(int(user_id))  # Fetch preferences of each similar user\n",
    "        if not pref_list.empty:  # Check if the user has watched any animes\n",
    "            # Filter animes not present in the selected user's preferences\n",
    "            pref_list = pref_list[~pref_list[\"Name\"].isin(user_pref[\"Name\"].values)]\n",
    "            anime_list.append(pref_list.Name.values)  # Append recommended animes\n",
    "            \n",
    "    if len(anime_list) == 0:\n",
    "        print(\"No anime recommendations available for the given users.\")\n",
    "        return pd.DataFrame()  # Return an empty DataFrame if no recommendations found\n",
    "    \n",
    "    # Create a DataFrame of recommended animes\n",
    "    anime_list = pd.DataFrame(anime_list)\n",
    "    sorted_list = pd.DataFrame(pd.Series(anime_list.values.ravel()).value_counts()).head(n)\n",
    "    \n",
    "    # Count the occurrences of each anime in the entire dataset\n",
    "    anime_count = df['anime_id'].value_counts()\n",
    "    \n",
    "    # Iterate through the sorted anime list to gather information\n",
    "    for i, anime_name in enumerate(sorted_list.index):\n",
    "        if isinstance(anime_name, str):\n",
    "            try:\n",
    "                # Retrieve anime details from the dataset\n",
    "                anime_id = df_anime[df_anime.Name == anime_name].anime_id.values[0]\n",
    "                english_name = df_anime[df_anime['Name'] == anime_name]['English name'].values[0]\n",
    "                name = english_name if english_name != \"UNKNOWN\" else anime_name\n",
    "                genre = df_anime[df_anime.Name == anime_name].Genres.values[0]\n",
    "                Synopsis = df_anime[df_anime.Name == anime_name].Synopsis.values[0]\n",
    "                \n",
    "                # Get the total count of users who have watched this anime\n",
    "                n_user_pref = anime_count.get(anime_id, 0)\n",
    "                \n",
    "                # Append recommended anime details to the list\n",
    "                recommended_animes.append({\n",
    "                    \"n\": n_user_pref,\n",
    "                    \"anime_name\": anime_name, \n",
    "                    \"Genres\": genre, \n",
    "                    \"Synopsis\": Synopsis\n",
    "                })\n",
    "            except:\n",
    "                pass  # Skip if anime details cannot be retrieved\n",
    "            \n",
    "    return pd.DataFrame(recommended_animes)  # Return the DataFrame with recommended animes"
   ]
  },
  {
   "cell_type": "code",
   "execution_count": 33,
   "id": "84fa7a9b",
   "metadata": {
    "execution": {
     "iopub.execute_input": "2023-07-28T06:12:18.378980Z",
     "iopub.status.busy": "2023-07-28T06:12:18.378622Z",
     "iopub.status.idle": "2023-07-28T06:12:19.148725Z",
     "shell.execute_reply": "2023-07-28T06:12:19.147482Z"
    },
    "papermill": {
     "duration": 0.880472,
     "end_time": "2023-07-28T06:12:19.151661",
     "exception": false,
     "start_time": "2023-07-28T06:12:18.271189",
     "status": "completed"
    },
    "tags": []
   },
   "outputs": [
    {
     "name": "stdout",
     "output_type": "stream",
     "text": [
      "\n",
      "> Top recommendations for user: 371234\n"
     ]
    },
    {
     "data": {
      "text/html": [
       "<div>\n",
       "<style scoped>\n",
       "    .dataframe tbody tr th:only-of-type {\n",
       "        vertical-align: middle;\n",
       "    }\n",
       "\n",
       "    .dataframe tbody tr th {\n",
       "        vertical-align: top;\n",
       "    }\n",
       "\n",
       "    .dataframe thead th {\n",
       "        text-align: right;\n",
       "    }\n",
       "</style>\n",
       "<table border=\"1\" class=\"dataframe\">\n",
       "  <thead>\n",
       "    <tr style=\"text-align: right;\">\n",
       "      <th></th>\n",
       "      <th>n</th>\n",
       "      <th>anime_name</th>\n",
       "      <th>Genres</th>\n",
       "      <th>Synopsis</th>\n",
       "    </tr>\n",
       "  </thead>\n",
       "  <tbody>\n",
       "    <tr>\n",
       "      <th>0</th>\n",
       "      <td>64625</td>\n",
       "      <td>Cowboy Bebop</td>\n",
       "      <td>Action, Award Winning, Sci-Fi</td>\n",
       "      <td>Crime is timeless. By the year 2071, humanity has expanded across the galaxy, filling the surface of other planets with settlements like those on Earth. These new societies are plagued by murder, drug use, and theft, and intergalactic outlaws are hunted by a growing number of tough bounty hunters.\\n\\nSpike Spiegel and Jet Black pursue criminals throughout space to make a humble living. Beneath his goofy and aloof demeanor, Spike is haunted by the weight of his violent past. Meanwhile, Jet manages his own troubled memories while taking care of Spike and the Bebop, their ship. The duo is joined by the beautiful con artist Faye Valentine, odd child Edward Wong Hau Pepelu Tivrusky IV, and Ein, a bioengineered Welsh Corgi.\\n\\nWhile developing bonds and working to catch a colorful cast of criminals, the Bebop crew's lives are disrupted by a menace from Spike's past. As a rival's maniacal plot continues to unravel, Spike must choose between life with his newfound family or revenge for his old wounds.</td>\n",
       "    </tr>\n",
       "    <tr>\n",
       "      <th>1</th>\n",
       "      <td>60438</td>\n",
       "      <td>Neon Genesis Evangelion</td>\n",
       "      <td>Action, Avant Garde, Award Winning, Drama, Sci-Fi, Suspense</td>\n",
       "      <td>Fifteen years after a cataclysmic event known as the Second Impact, the world faces a new threat: monstrous celestial beings called \"Angels\" invade Tokyo-3 one by one. Mankind is unable to defend themselves against the Angels despite utilizing their most advanced munitions and military tactics. The only hope for human salvation rests in the hands of NERV, a mysterious organization led by the cold Gendou Ikari. NERV operates giant humanoid robots dubbed \"Evangelions\" to combat the Angels with state-of-the-art advanced weaponry and protective barriers known as Absolute Terror Fields.\\n\\nYears after being abandoned by his father, Shinji Ikari, Gendou's 14-year-old son, returns to Tokyo-3. Shinji undergoes a perpetual internal battle against the deeply buried trauma caused by the loss of his mother and the emotional neglect he suffered at the hands of his father. Terrified to open himself up to another, Shinji's life is forever changed upon meeting 29-year-old Misato Katsuragi, a high-ranking NERV officer who shows him a free-spirited maternal kindness he has never experienced.\\n\\nA devastating Angel attack forces Shinji into action as Gendou reveals his true motive for inviting his son back to Tokyo-3: Shinji is the only child capable of efficiently piloting Evangelion Unit-01, a new robot that synchronizes with his biometrics. Despite the brutal psychological trauma brought about by piloting an Evangelion, Shinji defends Tokyo-3 against the angelic threat, oblivious to his father's dark machinations.</td>\n",
       "    </tr>\n",
       "    <tr>\n",
       "      <th>2</th>\n",
       "      <td>38079</td>\n",
       "      <td>Akira</td>\n",
       "      <td>Action, Adventure, Horror, Sci-Fi, Supernatural</td>\n",
       "      <td>Japan, 1988. An explosion caused by a young boy with psychic powers tears through the city of Tokyo and ignites the fuse that leads to World War III. In order to prevent any further destruction, he is captured and taken into custody, never to be heard from again. Now, in the year 2019, a restored version of the city known as Neo-Tokyo—an area rife with gang violence and terrorism against the current government—stands in its place. Here, Shoutarou Kaneda leads \"the Capsules,\" a group of misfits known for riding large, custom motorcycles and being in constant conflict with their rivals \"the Clowns.\"\\n\\nDuring one of these battles, Shoutarou's best friend Tetsuo Shima is caught up in an accident with an esper who finds himself in the streets of Tokyo after escaping confinement from a government institution. Through this encounter, Tetsuo begins to develop his own mysterious abilities, as the government seeks to quarantine this latest psychic in a desperate attempt to prevent him from unleashing the destructive power that could once again bring the city to its knees.</td>\n",
       "    </tr>\n",
       "    <tr>\n",
       "      <th>3</th>\n",
       "      <td>22829</td>\n",
       "      <td>Serial Experiments Lain</td>\n",
       "      <td>Avant Garde, Award Winning, Drama, Mystery, Sci-Fi, Supernatural</td>\n",
       "      <td>Lain Iwakura, an awkward and introverted fourteen-year-old, is one of the many girls from her school to receive a disturbing email from her classmate Chisa Yomoda—the very same Chisa who recently committed suicide. Lain has neither the desire nor the experience to handle even basic technology; yet, when the technophobe opens the email, it leads her straight into the Wired, a virtual world of communication networks similar to what we know as the internet. Lain's life is turned upside down as she begins to encounter cryptic mysteries one after another. Strange men called the Men in Black begin to appear wherever she goes, asking her questions and somehow knowing more about her than even she herself knows. With the boundaries between reality and cyberspace rapidly blurring, Lain is plunged into more surreal and bizarre events where identity, consciousness, and perception are concepts that take on new meanings.\\n\\nWritten by Chiaki J. Konaka, whose other works include Texhnolyze, Serial Experiments Lain is a psychological avant-garde mystery series that follows Lain as she makes crucial choices that will affect both the real world and the Wired. In closing one world and opening another, only Lain will realize the significance of their presence.</td>\n",
       "    </tr>\n",
       "    <tr>\n",
       "      <th>4</th>\n",
       "      <td>34812</td>\n",
       "      <td>Tonari no Totoro</td>\n",
       "      <td>Adventure, Award Winning, Supernatural</td>\n",
       "      <td>In 1950s Japan, Tatsuo Kusakabe relocates himself and his two daughters, Satsuki and Mei, to the countryside to be closer to their mother, who is hospitalized due to long-term illness. As the girls grow acquainted with rural life, Mei encounters a small, bunny-like creature in the yard one day. Chasing it into the forest, she finds \"Totoro\"—a giant, mystical forest spirit whom she soon befriends. Before long, Satsuki too meets Totoro, and the two girls suddenly find their lives filled with magical adventures in nature and fantastical creatures of the woods.</td>\n",
       "    </tr>\n",
       "    <tr>\n",
       "      <th>5</th>\n",
       "      <td>16068</td>\n",
       "      <td>Neko no Ongaeshi</td>\n",
       "      <td>Adventure, Award Winning, Drama, Fantasy</td>\n",
       "      <td>High school student Haru Yoshioka is bored with the monotony of life. One day, she saves Prince Lune of the Cat Kingdom from being run over by a truck. As a token of gratitude, the Cat King sends her \"presents\" and invites her to the Cat Kingdom to become Lune's wife. Haru's inability to properly communicate with the cats leads to the misunderstanding that she has accepted the proposal.\\n\\nAs Haru ponders on ways to escape the predicament, a mysterious voice instructs her to search for the Cat Bureau. However, not long after she finally arrives at the bureau, a horde of cats swarms in and forcibly takes her to the Cat Kingdom, along with a member of the Cat Bureau. Concerned for their safety, owner of the Cat Bureau, Baron Humbert von Gikkingen, follows close behind.\\n\\nThe more Haru immerses herself in the activities of the Cat Kingdom, the more cat-like she becomes. To her dismay, she soon learns that, unless she can find her true self, she may become a cat permanently. Haru's adventures in the world of cats lead her down a path to self-discovery, allowing her to return as a more confident person.</td>\n",
       "    </tr>\n",
       "    <tr>\n",
       "      <th>6</th>\n",
       "      <td>5473</td>\n",
       "      <td>Nekojiru-sou</td>\n",
       "      <td>Avant Garde, Award Winning, Comedy</td>\n",
       "      <td>The main character, a cat named Nyatto, embarks upon a journey to save his sister's soul, which was ripped in two when Nyatto tried to save her from Death. She trails after him, brain-dead. They encounter many brilliant, mind-bending situations, beginning with a disturbing magic show.\\n\\n(Source: ANN)</td>\n",
       "    </tr>\n",
       "    <tr>\n",
       "      <th>7</th>\n",
       "      <td>23179</td>\n",
       "      <td>Paprika</td>\n",
       "      <td>Avant Garde, Award Winning, Fantasy, Horror, Mystery, Sci-Fi, Suspense</td>\n",
       "      <td>The world of dreams can be an incredible window into the psyche, showing one's deepest desires, aspirations, and repressed memories. One hopeful tech lab has been developing the \"DC Mini,\" a device with the power to delve into the dreams of others. Atsuko Chiba and Kosaku Tokita have been tirelessly working to develop this technology with the hopes of using it to deeply explore patients' minds and help cure them of their psychological disorders.\\n\\nHowever, having access to the deepest corners of a person's mind comes with a tremendous responsibility. In the wrong hands, the DC Mini could be used as a form of psychological terrorism and cause mental breakdowns in the minds of targets. When this technology is stolen and people around them start acting strangely, Atsuko and Kosaku know they have a serious problem on their hands. Enlisting the help of Officer Konakawa, who has been receiving this experimental therapy, they search both the real and dream worlds for their mental terrorist.</td>\n",
       "    </tr>\n",
       "    <tr>\n",
       "      <th>8</th>\n",
       "      <td>45309</td>\n",
       "      <td>Mahou Shoujo Madoka★Magica</td>\n",
       "      <td>Award Winning, Drama, Suspense</td>\n",
       "      <td>Madoka Kaname and Sayaka Miki are regular middle school girls with regular lives, but all that changes when they encounter Kyuubey, a cat-like magical familiar, and Homura Akemi, the new transfer student.\\n\\nKyuubey offers them a proposition: he will grant any one of their wishes and in exchange, they will each become a magical girl, gaining enough power to fulfill their dreams. However, Homura Akemi, a magical girl herself, urges them not to accept the offer, stating that everything is not what it seems.\\n\\nA story of hope, despair, and friendship, Mahou Shoujo Madoka★Magica deals with the difficulties of being a magical girl and the price one has to pay to make a dream come true.</td>\n",
       "    </tr>\n",
       "  </tbody>\n",
       "</table>\n",
       "</div>"
      ],
      "text/plain": [
       "       n                  anime_name  \\\n",
       "0  64625                Cowboy Bebop   \n",
       "1  60438     Neon Genesis Evangelion   \n",
       "2  38079                       Akira   \n",
       "3  22829     Serial Experiments Lain   \n",
       "4  34812            Tonari no Totoro   \n",
       "5  16068            Neko no Ongaeshi   \n",
       "6   5473                Nekojiru-sou   \n",
       "7  23179                     Paprika   \n",
       "8  45309  Mahou Shoujo Madoka★Magica   \n",
       "\n",
       "                                                                   Genres  \\\n",
       "0                                           Action, Award Winning, Sci-Fi   \n",
       "1             Action, Avant Garde, Award Winning, Drama, Sci-Fi, Suspense   \n",
       "2                         Action, Adventure, Horror, Sci-Fi, Supernatural   \n",
       "3        Avant Garde, Award Winning, Drama, Mystery, Sci-Fi, Supernatural   \n",
       "4                                  Adventure, Award Winning, Supernatural   \n",
       "5                                Adventure, Award Winning, Drama, Fantasy   \n",
       "6                                      Avant Garde, Award Winning, Comedy   \n",
       "7  Avant Garde, Award Winning, Fantasy, Horror, Mystery, Sci-Fi, Suspense   \n",
       "8                                          Award Winning, Drama, Suspense   \n",
       "\n",
       "                                                                                                                                                                                                                                                                                                                                                                                                                                                                                                                                                                                                                                                                                                                                                                                                                                                                                                                                                                                                                                                                                                                                                                                                                                                                                                                                                                                                                                                                                                                                                                              Synopsis  \n",
       "0                                                                                                                                                                                                                                                                                                                                                                                                                                                                                                                                     Crime is timeless. By the year 2071, humanity has expanded across the galaxy, filling the surface of other planets with settlements like those on Earth. These new societies are plagued by murder, drug use, and theft, and intergalactic outlaws are hunted by a growing number of tough bounty hunters.\\n\\nSpike Spiegel and Jet Black pursue criminals throughout space to make a humble living. Beneath his goofy and aloof demeanor, Spike is haunted by the weight of his violent past. Meanwhile, Jet manages his own troubled memories while taking care of Spike and the Bebop, their ship. The duo is joined by the beautiful con artist Faye Valentine, odd child Edward Wong Hau Pepelu Tivrusky IV, and Ein, a bioengineered Welsh Corgi.\\n\\nWhile developing bonds and working to catch a colorful cast of criminals, the Bebop crew's lives are disrupted by a menace from Spike's past. As a rival's maniacal plot continues to unravel, Spike must choose between life with his newfound family or revenge for his old wounds.  \n",
       "1  Fifteen years after a cataclysmic event known as the Second Impact, the world faces a new threat: monstrous celestial beings called \"Angels\" invade Tokyo-3 one by one. Mankind is unable to defend themselves against the Angels despite utilizing their most advanced munitions and military tactics. The only hope for human salvation rests in the hands of NERV, a mysterious organization led by the cold Gendou Ikari. NERV operates giant humanoid robots dubbed \"Evangelions\" to combat the Angels with state-of-the-art advanced weaponry and protective barriers known as Absolute Terror Fields.\\n\\nYears after being abandoned by his father, Shinji Ikari, Gendou's 14-year-old son, returns to Tokyo-3. Shinji undergoes a perpetual internal battle against the deeply buried trauma caused by the loss of his mother and the emotional neglect he suffered at the hands of his father. Terrified to open himself up to another, Shinji's life is forever changed upon meeting 29-year-old Misato Katsuragi, a high-ranking NERV officer who shows him a free-spirited maternal kindness he has never experienced.\\n\\nA devastating Angel attack forces Shinji into action as Gendou reveals his true motive for inviting his son back to Tokyo-3: Shinji is the only child capable of efficiently piloting Evangelion Unit-01, a new robot that synchronizes with his biometrics. Despite the brutal psychological trauma brought about by piloting an Evangelion, Shinji defends Tokyo-3 against the angelic threat, oblivious to his father's dark machinations.  \n",
       "2                                                                                                                                                                                                                                                                                                                                                                                                                                                              Japan, 1988. An explosion caused by a young boy with psychic powers tears through the city of Tokyo and ignites the fuse that leads to World War III. In order to prevent any further destruction, he is captured and taken into custody, never to be heard from again. Now, in the year 2019, a restored version of the city known as Neo-Tokyo—an area rife with gang violence and terrorism against the current government—stands in its place. Here, Shoutarou Kaneda leads \"the Capsules,\" a group of misfits known for riding large, custom motorcycles and being in constant conflict with their rivals \"the Clowns.\"\\n\\nDuring one of these battles, Shoutarou's best friend Tetsuo Shima is caught up in an accident with an esper who finds himself in the streets of Tokyo after escaping confinement from a government institution. Through this encounter, Tetsuo begins to develop his own mysterious abilities, as the government seeks to quarantine this latest psychic in a desperate attempt to prevent him from unleashing the destructive power that could once again bring the city to its knees.  \n",
       "3                                                                                                                                                                                                                                                                         Lain Iwakura, an awkward and introverted fourteen-year-old, is one of the many girls from her school to receive a disturbing email from her classmate Chisa Yomoda—the very same Chisa who recently committed suicide. Lain has neither the desire nor the experience to handle even basic technology; yet, when the technophobe opens the email, it leads her straight into the Wired, a virtual world of communication networks similar to what we know as the internet. Lain's life is turned upside down as she begins to encounter cryptic mysteries one after another. Strange men called the Men in Black begin to appear wherever she goes, asking her questions and somehow knowing more about her than even she herself knows. With the boundaries between reality and cyberspace rapidly blurring, Lain is plunged into more surreal and bizarre events where identity, consciousness, and perception are concepts that take on new meanings.\\n\\nWritten by Chiaki J. Konaka, whose other works include Texhnolyze, Serial Experiments Lain is a psychological avant-garde mystery series that follows Lain as she makes crucial choices that will affect both the real world and the Wired. In closing one world and opening another, only Lain will realize the significance of their presence.  \n",
       "4                                                                                                                                                                                                                                                                                                                                                                                                                                                                                                                                                                                                                                                                                                                                                                                                                                                                                                                                                                                                  In 1950s Japan, Tatsuo Kusakabe relocates himself and his two daughters, Satsuki and Mei, to the countryside to be closer to their mother, who is hospitalized due to long-term illness. As the girls grow acquainted with rural life, Mei encounters a small, bunny-like creature in the yard one day. Chasing it into the forest, she finds \"Totoro\"—a giant, mystical forest spirit whom she soon befriends. Before long, Satsuki too meets Totoro, and the two girls suddenly find their lives filled with magical adventures in nature and fantastical creatures of the woods.  \n",
       "5                                                                                                                                                                                                                                                                                                                                                                                                                         High school student Haru Yoshioka is bored with the monotony of life. One day, she saves Prince Lune of the Cat Kingdom from being run over by a truck. As a token of gratitude, the Cat King sends her \"presents\" and invites her to the Cat Kingdom to become Lune's wife. Haru's inability to properly communicate with the cats leads to the misunderstanding that she has accepted the proposal.\\n\\nAs Haru ponders on ways to escape the predicament, a mysterious voice instructs her to search for the Cat Bureau. However, not long after she finally arrives at the bureau, a horde of cats swarms in and forcibly takes her to the Cat Kingdom, along with a member of the Cat Bureau. Concerned for their safety, owner of the Cat Bureau, Baron Humbert von Gikkingen, follows close behind.\\n\\nThe more Haru immerses herself in the activities of the Cat Kingdom, the more cat-like she becomes. To her dismay, she soon learns that, unless she can find her true self, she may become a cat permanently. Haru's adventures in the world of cats lead her down a path to self-discovery, allowing her to return as a more confident person.  \n",
       "6                                                                                                                                                                                                                                                                                                                                                                                                                                                                                                                                                                                                                                                                                                                                                                                                                                                                                                                                                                                                                                                                                                                                                                                                                                                                       The main character, a cat named Nyatto, embarks upon a journey to save his sister's soul, which was ripped in two when Nyatto tried to save her from Death. She trails after him, brain-dead. They encounter many brilliant, mind-bending situations, beginning with a disturbing magic show.\\n\\n(Source: ANN)  \n",
       "7                                                                                                                                                                                                                                                                                                                                                                                                                                                                                                                                              The world of dreams can be an incredible window into the psyche, showing one's deepest desires, aspirations, and repressed memories. One hopeful tech lab has been developing the \"DC Mini,\" a device with the power to delve into the dreams of others. Atsuko Chiba and Kosaku Tokita have been tirelessly working to develop this technology with the hopes of using it to deeply explore patients' minds and help cure them of their psychological disorders.\\n\\nHowever, having access to the deepest corners of a person's mind comes with a tremendous responsibility. In the wrong hands, the DC Mini could be used as a form of psychological terrorism and cause mental breakdowns in the minds of targets. When this technology is stolen and people around them start acting strangely, Atsuko and Kosaku know they have a serious problem on their hands. Enlisting the help of Officer Konakawa, who has been receiving this experimental therapy, they search both the real and dream worlds for their mental terrorist.  \n",
       "8                                                                                                                                                                                                                                                                                                                                                                                                                                                                                                                                                                                                                                                                                                                                                                                                                                                                   Madoka Kaname and Sayaka Miki are regular middle school girls with regular lives, but all that changes when they encounter Kyuubey, a cat-like magical familiar, and Homura Akemi, the new transfer student.\\n\\nKyuubey offers them a proposition: he will grant any one of their wishes and in exchange, they will each become a magical girl, gaining enough power to fulfill their dreams. However, Homura Akemi, a magical girl herself, urges them not to accept the offer, stating that everything is not what it seems.\\n\\nA story of hope, despair, and friendship, Mahou Shoujo Madoka★Magica deals with the difficulties of being a magical girl and the price one has to pay to make a dream come true.  "
      ]
     },
     "execution_count": 33,
     "metadata": {},
     "output_type": "execute_result"
    }
   ],
   "source": [
    "# Retrieve recommended animes for the random user\n",
    "recommended_animes = get_recommended_animes(similar_users, user_pref, n=10)\n",
    "\n",
    "# Display top anime recommendations for the selected user\n",
    "print('\\n> Top recommendations for user: {}'.format(random_user))\n",
    "recommended_animes"
   ]
  },
  {
   "cell_type": "markdown",
   "id": "017e91fb",
   "metadata": {
    "papermill": {
     "duration": 0.106088,
     "end_time": "2023-07-28T06:12:19.364621",
     "exception": false,
     "start_time": "2023-07-28T06:12:19.258533",
     "status": "completed"
    },
    "tags": []
   },
   "source": [
    "# Model Training Content-Based Filtering(CBF)"
   ]
  },
  {
   "cell_type": "code",
   "execution_count": 34,
   "id": "1d00a22d",
   "metadata": {
    "execution": {
     "iopub.execute_input": "2023-07-28T06:12:19.580946Z",
     "iopub.status.busy": "2023-07-28T06:12:19.579973Z",
     "iopub.status.idle": "2023-07-28T06:12:27.324804Z",
     "shell.execute_reply": "2023-07-28T06:12:27.323530Z"
    },
    "papermill": {
     "duration": 7.856176,
     "end_time": "2023-07-28T06:12:27.327823",
     "exception": false,
     "start_time": "2023-07-28T06:12:19.471647",
     "status": "completed"
    },
    "tags": []
   },
   "outputs": [],
   "source": [
    "# Initialize a TF-IDF vectorizer, excluding common English words\n",
    "tfidf = TfidfVectorizer(stop_words='english')\n",
    "\n",
    "# Create a TF-IDF matrix generator using anime genres\n",
    "tfidf_matrix_generator = tfidf.fit_transform((genre for genre in df_anime['Genres'].values.astype('U')))\n",
    "\n",
    "# Compute a sparse matrix for cosine similarity based on TF-IDF values\n",
    "cosine_sim_sparse = linear_kernel(tfidf_matrix_generator, tfidf_matrix_generator)"
   ]
  },
  {
   "cell_type": "markdown",
   "id": "b7c7096a",
   "metadata": {
    "papermill": {
     "duration": 0.106849,
     "end_time": "2023-07-28T06:12:27.542275",
     "exception": false,
     "start_time": "2023-07-28T06:12:27.435426",
     "status": "completed"
    },
    "tags": []
   },
   "source": [
    "# 2: Recommendations Based on Content Similarity"
   ]
  },
  {
   "cell_type": "code",
   "execution_count": 35,
   "id": "b873dca3",
   "metadata": {
    "execution": {
     "iopub.execute_input": "2023-07-28T06:12:27.757545Z",
     "iopub.status.busy": "2023-07-28T06:12:27.757149Z",
     "iopub.status.idle": "2023-07-28T06:12:27.766756Z",
     "shell.execute_reply": "2023-07-28T06:12:27.765753Z"
    },
    "papermill": {
     "duration": 0.119557,
     "end_time": "2023-07-28T06:12:27.769044",
     "exception": false,
     "start_time": "2023-07-28T06:12:27.649487",
     "status": "completed"
    },
    "tags": []
   },
   "outputs": [],
   "source": [
    "def get_recommendations(title, cosine_sim, df):\n",
    "    # Retrieve the index of the given anime title\n",
    "    idx = df_anime[df_anime['Name'] == title].index[0]\n",
    "\n",
    "    # Compute similarity scores between the given anime and all others\n",
    "    sim_scores = list(enumerate(cosine_sim[idx]))\n",
    "\n",
    "    # Filter out animes with unknown scores\n",
    "    valid_scores = [x for x in sim_scores if df_anime.iloc[x[0]]['Score'] != \"UNKNOWN\"]\n",
    "\n",
    "    # Sort valid anime similarity scores based on cosine similarity and ratings score in descending order\n",
    "    sorted_scores = sorted(valid_scores, key=lambda x: (x[1], df_anime.iloc[x[0]]['Score']), reverse=True)\n",
    "\n",
    "    # Get the top 10 similar animes (excluding the given anime)\n",
    "    top_animes = [x for x in sorted_scores if x[0] != idx][:10]\n",
    "\n",
    "    # Extract indices of recommended animes\n",
    "    recommended_indices = [idx for idx, _ in top_animes]\n",
    "\n",
    "    # Fetch details of the recommended animes\n",
    "    recommended_animes = df_anime.iloc[recommended_indices][['Name', 'Genres', 'Score']]\n",
    "    return recommended_animes"
   ]
  },
  {
   "cell_type": "code",
   "execution_count": 36,
   "id": "53ec5c9f",
   "metadata": {
    "execution": {
     "iopub.execute_input": "2023-07-28T06:12:27.982982Z",
     "iopub.status.busy": "2023-07-28T06:12:27.982153Z",
     "iopub.status.idle": "2023-07-28T06:12:32.585163Z",
     "shell.execute_reply": "2023-07-28T06:12:32.584089Z"
    },
    "papermill": {
     "duration": 4.712133,
     "end_time": "2023-07-28T06:12:32.587327",
     "exception": false,
     "start_time": "2023-07-28T06:12:27.875194",
     "status": "completed"
    },
    "tags": []
   },
   "outputs": [
    {
     "name": "stdout",
     "output_type": "stream",
     "text": [
      "Recommendations for \"Kono Subarashii Sekai ni Shukufuku wo!\":\n"
     ]
    },
    {
     "data": {
      "text/html": [
       "<div>\n",
       "<style scoped>\n",
       "    .dataframe tbody tr th:only-of-type {\n",
       "        vertical-align: middle;\n",
       "    }\n",
       "\n",
       "    .dataframe tbody tr th {\n",
       "        vertical-align: top;\n",
       "    }\n",
       "\n",
       "    .dataframe thead th {\n",
       "        text-align: right;\n",
       "    }\n",
       "</style>\n",
       "<table border=\"1\" class=\"dataframe\">\n",
       "  <thead>\n",
       "    <tr style=\"text-align: right;\">\n",
       "      <th></th>\n",
       "      <th>Name</th>\n",
       "      <th>Genres</th>\n",
       "      <th>Score</th>\n",
       "    </tr>\n",
       "  </thead>\n",
       "  <tbody>\n",
       "    <tr>\n",
       "      <th>14578</th>\n",
       "      <td>Kono Subarashii Sekai ni Shukufuku wo! Movie: Kurenai Densetsu</td>\n",
       "      <td>Adventure, Comedy, Fantasy</td>\n",
       "      <td>8.45</td>\n",
       "    </tr>\n",
       "    <tr>\n",
       "      <th>11572</th>\n",
       "      <td>Kono Subarashii Sekai ni Shukufuku wo! 2</td>\n",
       "      <td>Adventure, Comedy, Fantasy</td>\n",
       "      <td>8.27</td>\n",
       "    </tr>\n",
       "    <tr>\n",
       "      <th>6241</th>\n",
       "      <td>Doraemon Movie 31: Shin Nobita to Tetsujin Heidan - Habatake Tenshi-tachi</td>\n",
       "      <td>Adventure, Comedy, Fantasy</td>\n",
       "      <td>8.14</td>\n",
       "    </tr>\n",
       "    <tr>\n",
       "      <th>12451</th>\n",
       "      <td>Kono Subarashii Sekai ni Shukufuku wo! 2: Kono Subarashii Geijutsu ni Shukufuku wo!</td>\n",
       "      <td>Adventure, Comedy, Fantasy</td>\n",
       "      <td>8.03</td>\n",
       "    </tr>\n",
       "    <tr>\n",
       "      <th>502</th>\n",
       "      <td>Slayers Next</td>\n",
       "      <td>Adventure, Comedy, Fantasy</td>\n",
       "      <td>8.02</td>\n",
       "    </tr>\n",
       "    <tr>\n",
       "      <th>1068</th>\n",
       "      <td>Slayers Try</td>\n",
       "      <td>Adventure, Comedy, Fantasy</td>\n",
       "      <td>7.81</td>\n",
       "    </tr>\n",
       "    <tr>\n",
       "      <th>11859</th>\n",
       "      <td>Little Witch Academia (TV)</td>\n",
       "      <td>Adventure, Comedy, Fantasy</td>\n",
       "      <td>7.81</td>\n",
       "    </tr>\n",
       "    <tr>\n",
       "      <th>12531</th>\n",
       "      <td>Mahoujin Guruguru (2017)</td>\n",
       "      <td>Adventure, Comedy, Fantasy</td>\n",
       "      <td>7.81</td>\n",
       "    </tr>\n",
       "    <tr>\n",
       "      <th>7105</th>\n",
       "      <td>Little Witch Academia</td>\n",
       "      <td>Adventure, Comedy, Fantasy</td>\n",
       "      <td>7.8</td>\n",
       "    </tr>\n",
       "    <tr>\n",
       "      <th>8061</th>\n",
       "      <td>Little Witch Academia: Mahoujikake no Parade</td>\n",
       "      <td>Adventure, Comedy, Fantasy</td>\n",
       "      <td>7.75</td>\n",
       "    </tr>\n",
       "  </tbody>\n",
       "</table>\n",
       "</div>"
      ],
      "text/plain": [
       "                                                                                      Name  \\\n",
       "14578                       Kono Subarashii Sekai ni Shukufuku wo! Movie: Kurenai Densetsu   \n",
       "11572                                             Kono Subarashii Sekai ni Shukufuku wo! 2   \n",
       "6241             Doraemon Movie 31: Shin Nobita to Tetsujin Heidan - Habatake Tenshi-tachi   \n",
       "12451  Kono Subarashii Sekai ni Shukufuku wo! 2: Kono Subarashii Geijutsu ni Shukufuku wo!   \n",
       "502                                                                           Slayers Next   \n",
       "1068                                                                           Slayers Try   \n",
       "11859                                                           Little Witch Academia (TV)   \n",
       "12531                                                             Mahoujin Guruguru (2017)   \n",
       "7105                                                                 Little Witch Academia   \n",
       "8061                                          Little Witch Academia: Mahoujikake no Parade   \n",
       "\n",
       "                           Genres Score  \n",
       "14578  Adventure, Comedy, Fantasy  8.45  \n",
       "11572  Adventure, Comedy, Fantasy  8.27  \n",
       "6241   Adventure, Comedy, Fantasy  8.14  \n",
       "12451  Adventure, Comedy, Fantasy  8.03  \n",
       "502    Adventure, Comedy, Fantasy  8.02  \n",
       "1068   Adventure, Comedy, Fantasy  7.81  \n",
       "11859  Adventure, Comedy, Fantasy  7.81  \n",
       "12531  Adventure, Comedy, Fantasy  7.81  \n",
       "7105   Adventure, Comedy, Fantasy   7.8  \n",
       "8061   Adventure, Comedy, Fantasy  7.75  "
      ]
     },
     "execution_count": 36,
     "metadata": {},
     "output_type": "execute_result"
    }
   ],
   "source": [
    "# Example: Retrieve recommendations for a specific anime\n",
    "anime_title = 'Kono Subarashii Sekai ni Shukufuku wo!'\n",
    "recommendations = get_recommendations(anime_title, cosine_sim_sparse, df_anime)\n",
    "\n",
    "# Display recommendations for the specified anime\n",
    "print(f'Recommendations for \"{anime_title}\":')\n",
    "recommendations"
   ]
  },
  {
   "cell_type": "code",
   "execution_count": 37,
   "id": "f76cad82",
   "metadata": {
    "execution": {
     "iopub.execute_input": "2023-07-28T06:12:32.806817Z",
     "iopub.status.busy": "2023-07-28T06:12:32.805912Z",
     "iopub.status.idle": "2023-07-28T06:12:37.516685Z",
     "shell.execute_reply": "2023-07-28T06:12:37.515404Z"
    },
    "papermill": {
     "duration": 4.823355,
     "end_time": "2023-07-28T06:12:37.518909",
     "exception": false,
     "start_time": "2023-07-28T06:12:32.695554",
     "status": "completed"
    },
    "tags": []
   },
   "outputs": [
    {
     "name": "stdout",
     "output_type": "stream",
     "text": [
      "Recommendations for \"One Piece\":\n"
     ]
    },
    {
     "data": {
      "text/html": [
       "<div>\n",
       "<style scoped>\n",
       "    .dataframe tbody tr th:only-of-type {\n",
       "        vertical-align: middle;\n",
       "    }\n",
       "\n",
       "    .dataframe tbody tr th {\n",
       "        vertical-align: top;\n",
       "    }\n",
       "\n",
       "    .dataframe thead th {\n",
       "        text-align: right;\n",
       "    }\n",
       "</style>\n",
       "<table border=\"1\" class=\"dataframe\">\n",
       "  <thead>\n",
       "    <tr style=\"text-align: right;\">\n",
       "      <th></th>\n",
       "      <th>Name</th>\n",
       "      <th>Genres</th>\n",
       "      <th>Score</th>\n",
       "    </tr>\n",
       "  </thead>\n",
       "  <tbody>\n",
       "    <tr>\n",
       "      <th>16617</th>\n",
       "      <td>Bleach: Sennen Kessen-hen</td>\n",
       "      <td>Action, Adventure, Fantasy</td>\n",
       "      <td>9.07</td>\n",
       "    </tr>\n",
       "    <tr>\n",
       "      <th>6456</th>\n",
       "      <td>Hunter x Hunter (2011)</td>\n",
       "      <td>Action, Adventure, Fantasy</td>\n",
       "      <td>9.04</td>\n",
       "    </tr>\n",
       "    <tr>\n",
       "      <th>115</th>\n",
       "      <td>Hunter x Hunter</td>\n",
       "      <td>Action, Adventure, Fantasy</td>\n",
       "      <td>8.41</td>\n",
       "    </tr>\n",
       "    <tr>\n",
       "      <th>116</th>\n",
       "      <td>Hunter x Hunter: Original Video Animation</td>\n",
       "      <td>Action, Adventure, Fantasy</td>\n",
       "      <td>8.31</td>\n",
       "    </tr>\n",
       "    <tr>\n",
       "      <th>1574</th>\n",
       "      <td>Naruto: Shippuuden</td>\n",
       "      <td>Action, Adventure, Fantasy</td>\n",
       "      <td>8.26</td>\n",
       "    </tr>\n",
       "    <tr>\n",
       "      <th>19600</th>\n",
       "      <td>Jigokuraku</td>\n",
       "      <td>Action, Adventure, Fantasy</td>\n",
       "      <td>8.26</td>\n",
       "    </tr>\n",
       "    <tr>\n",
       "      <th>118</th>\n",
       "      <td>Hunter x Hunter: Greed Island Final</td>\n",
       "      <td>Action, Adventure, Fantasy</td>\n",
       "      <td>8.25</td>\n",
       "    </tr>\n",
       "    <tr>\n",
       "      <th>23239</th>\n",
       "      <td>Dungeon ni Deai wo Motomeru no wa Machigatteiru Darou ka IV: Fuka Shou - Yakusai-hen</td>\n",
       "      <td>Action, Adventure, Fantasy</td>\n",
       "      <td>8.24</td>\n",
       "    </tr>\n",
       "    <tr>\n",
       "      <th>7799</th>\n",
       "      <td>Magi: The Kingdom of Magic</td>\n",
       "      <td>Action, Adventure, Fantasy</td>\n",
       "      <td>8.22</td>\n",
       "    </tr>\n",
       "    <tr>\n",
       "      <th>14699</th>\n",
       "      <td>One Piece Movie 14: Stampede</td>\n",
       "      <td>Action, Adventure, Fantasy</td>\n",
       "      <td>8.22</td>\n",
       "    </tr>\n",
       "  </tbody>\n",
       "</table>\n",
       "</div>"
      ],
      "text/plain": [
       "                                                                                       Name  \\\n",
       "16617                                                             Bleach: Sennen Kessen-hen   \n",
       "6456                                                                 Hunter x Hunter (2011)   \n",
       "115                                                                         Hunter x Hunter   \n",
       "116                                               Hunter x Hunter: Original Video Animation   \n",
       "1574                                                                     Naruto: Shippuuden   \n",
       "19600                                                                            Jigokuraku   \n",
       "118                                                     Hunter x Hunter: Greed Island Final   \n",
       "23239  Dungeon ni Deai wo Motomeru no wa Machigatteiru Darou ka IV: Fuka Shou - Yakusai-hen   \n",
       "7799                                                             Magi: The Kingdom of Magic   \n",
       "14699                                                          One Piece Movie 14: Stampede   \n",
       "\n",
       "                           Genres Score  \n",
       "16617  Action, Adventure, Fantasy  9.07  \n",
       "6456   Action, Adventure, Fantasy  9.04  \n",
       "115    Action, Adventure, Fantasy  8.41  \n",
       "116    Action, Adventure, Fantasy  8.31  \n",
       "1574   Action, Adventure, Fantasy  8.26  \n",
       "19600  Action, Adventure, Fantasy  8.26  \n",
       "118    Action, Adventure, Fantasy  8.25  \n",
       "23239  Action, Adventure, Fantasy  8.24  \n",
       "7799   Action, Adventure, Fantasy  8.22  \n",
       "14699  Action, Adventure, Fantasy  8.22  "
      ]
     },
     "execution_count": 37,
     "metadata": {},
     "output_type": "execute_result"
    }
   ],
   "source": [
    "# Specify an anime title for which you want recommendations\n",
    "anime_title = 'One Piece'\n",
    "\n",
    "# Get recommendations for the specified anime\n",
    "recommendations = get_recommendations(anime_title, cosine_sim_sparse, df_anime)\n",
    "\n",
    "# Print the recommendations for the given anime title\n",
    "print(f'Recommendations for \"{anime_title}\":')\n",
    "recommendations"
   ]
  },
  {
   "cell_type": "code",
   "execution_count": null,
   "id": "6af1d072",
   "metadata": {
    "papermill": {
     "duration": 0.116104,
     "end_time": "2023-07-28T06:12:37.755881",
     "exception": false,
     "start_time": "2023-07-28T06:12:37.639777",
     "status": "completed"
    },
    "tags": []
   },
   "outputs": [],
   "source": []
  }
 ],
 "metadata": {
  "kernelspec": {
   "display_name": "Python 3 (ipykernel)",
   "language": "python",
   "name": "python3"
  },
  "language_info": {
   "codemirror_mode": {
    "name": "ipython",
    "version": 3
   },
   "file_extension": ".py",
   "mimetype": "text/x-python",
   "name": "python",
   "nbconvert_exporter": "python",
   "pygments_lexer": "ipython3",
   "version": "3.11.3"
  },
  "papermill": {
   "default_parameters": {},
   "duration": 227.675184,
   "end_time": "2023-07-28T06:12:41.680415",
   "environment_variables": {},
   "exception": null,
   "input_path": "__notebook__.ipynb",
   "output_path": "__notebook__.ipynb",
   "parameters": {},
   "start_time": "2023-07-28T06:08:54.005231",
   "version": "2.4.0"
  }
 },
 "nbformat": 4,
 "nbformat_minor": 5
}
